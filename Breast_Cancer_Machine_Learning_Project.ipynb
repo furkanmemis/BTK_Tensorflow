{
  "nbformat": 4,
  "nbformat_minor": 0,
  "metadata": {
    "colab": {
      "provenance": [],
      "collapsed_sections": [],
      "authorship_tag": "ABX9TyPk0wrE0JFjGPw3QqgqS8PJ",
      "include_colab_link": true
    },
    "kernelspec": {
      "name": "python3",
      "display_name": "Python 3"
    },
    "language_info": {
      "name": "python"
    }
  },
  "cells": [
    {
      "cell_type": "markdown",
      "metadata": {
        "id": "view-in-github",
        "colab_type": "text"
      },
      "source": [
        "<a href=\"https://colab.research.google.com/github/furkanmemis/BTK_Tensorflow/blob/master/Breast_Cancer_Machine_Learning_Project.ipynb\" target=\"_parent\"><img src=\"https://colab.research.google.com/assets/colab-badge.svg\" alt=\"Open In Colab\"/></a>"
      ]
    },
    {
      "cell_type": "code",
      "execution_count": 3,
      "metadata": {
        "id": "PzORWZOsJTyy",
        "colab": {
          "base_uri": "https://localhost:8080/"
        },
        "outputId": "5bf41e9f-5721-4f9a-92d6-3976dcd1d2e0"
      },
      "outputs": [
        {
          "output_type": "stream",
          "name": "stdout",
          "text": [
            "Looking in indexes: https://pypi.org/simple, https://us-python.pkg.dev/colab-wheels/public/simple/\n",
            "Collecting catboost\n",
            "  Downloading catboost-1.0.6-cp37-none-manylinux1_x86_64.whl (76.6 MB)\n",
            "\u001b[K     |████████████████████████████████| 76.6 MB 1.2 MB/s \n",
            "\u001b[?25hRequirement already satisfied: plotly in /usr/local/lib/python3.7/dist-packages (from catboost) (5.5.0)\n",
            "Requirement already satisfied: scipy in /usr/local/lib/python3.7/dist-packages (from catboost) (1.7.3)\n",
            "Requirement already satisfied: six in /usr/local/lib/python3.7/dist-packages (from catboost) (1.15.0)\n",
            "Requirement already satisfied: graphviz in /usr/local/lib/python3.7/dist-packages (from catboost) (0.10.1)\n",
            "Requirement already satisfied: numpy>=1.16.0 in /usr/local/lib/python3.7/dist-packages (from catboost) (1.21.6)\n",
            "Requirement already satisfied: matplotlib in /usr/local/lib/python3.7/dist-packages (from catboost) (3.2.2)\n",
            "Requirement already satisfied: pandas>=0.24.0 in /usr/local/lib/python3.7/dist-packages (from catboost) (1.3.5)\n",
            "Requirement already satisfied: pytz>=2017.3 in /usr/local/lib/python3.7/dist-packages (from pandas>=0.24.0->catboost) (2022.2.1)\n",
            "Requirement already satisfied: python-dateutil>=2.7.3 in /usr/local/lib/python3.7/dist-packages (from pandas>=0.24.0->catboost) (2.8.2)\n",
            "Requirement already satisfied: pyparsing!=2.0.4,!=2.1.2,!=2.1.6,>=2.0.1 in /usr/local/lib/python3.7/dist-packages (from matplotlib->catboost) (3.0.9)\n",
            "Requirement already satisfied: cycler>=0.10 in /usr/local/lib/python3.7/dist-packages (from matplotlib->catboost) (0.11.0)\n",
            "Requirement already satisfied: kiwisolver>=1.0.1 in /usr/local/lib/python3.7/dist-packages (from matplotlib->catboost) (1.4.4)\n",
            "Requirement already satisfied: typing-extensions in /usr/local/lib/python3.7/dist-packages (from kiwisolver>=1.0.1->matplotlib->catboost) (4.1.1)\n",
            "Requirement already satisfied: tenacity>=6.2.0 in /usr/local/lib/python3.7/dist-packages (from plotly->catboost) (8.0.1)\n",
            "Installing collected packages: catboost\n",
            "Successfully installed catboost-1.0.6\n"
          ]
        }
      ],
      "source": [
        "import pandas as pd\n",
        "import matplotlib.pyplot as plt\n",
        "import numpy as np\n",
        "import seaborn as sns\n",
        "from sklearn.preprocessing import LabelEncoder,MinMaxScaler\n",
        "from sklearn.model_selection import train_test_split, cross_validate, GridSearchCV\n",
        "from sklearn.metrics import classification_report, roc_auc_score\n",
        "from sklearn.linear_model import LogisticRegression\n",
        "from sklearn.neighbors import KNeighborsClassifier\n",
        "from sklearn.tree import DecisionTreeClassifier\n",
        "from sklearn.ensemble import RandomForestClassifier,GradientBoostingClassifier\n",
        "from lightgbm import LGBMClassifier\n",
        "!pip install catboost\n",
        "from catboost import CatBoostClassifier"
      ]
    },
    {
      "cell_type": "markdown",
      "source": [
        "# Read DataFrame"
      ],
      "metadata": {
        "id": "NuY3gsDdRdQS"
      }
    },
    {
      "cell_type": "code",
      "source": [
        "df = pd.read_csv(\"Data/Breast_Cancer.csv\")\n",
        "pd.set_option('display.max_columns', None)"
      ],
      "metadata": {
        "id": "pH91Z-fALAbE"
      },
      "execution_count": 4,
      "outputs": []
    },
    {
      "cell_type": "code",
      "source": [
        "def DataFrame_Check(data,head_number = 5):\n",
        "  print(\"################## HEAD ##################\")\n",
        "  print(data.head(head_number))\n",
        "  print(\"################## TAIL ##################\")\n",
        "  print(data.tail(head_number))\n",
        "  print(\"################## COLUMNS ##################\")\n",
        "  print(data.columns)\n",
        "  print(\"################## INFO ##################\")\n",
        "  data.info()\n",
        "  print(\"################## DESCRIBE ##################\")\n",
        "  print(data.describe())\n",
        "  print(\"################## SHAPE ##################\")\n",
        "  print(data.shape)\n",
        "  print(\"################## NDIM ##################\")\n",
        "  print(data.ndim)"
      ],
      "metadata": {
        "id": "YqGAh6TkLHcz"
      },
      "execution_count": 5,
      "outputs": []
    },
    {
      "cell_type": "code",
      "source": [
        "DataFrame_Check(df)"
      ],
      "metadata": {
        "colab": {
          "base_uri": "https://localhost:8080/"
        },
        "id": "0NBChpVlLH-M",
        "outputId": "8cf11a4b-08ae-4c71-eecb-71f137250e3f"
      },
      "execution_count": 6,
      "outputs": [
        {
          "output_type": "stream",
          "name": "stdout",
          "text": [
            "################## HEAD ##################\n",
            "   Age   Race Marital Status T Stage  N Stage 6th Stage  \\\n",
            "0   68  White        Married       T1      N1       IIA   \n",
            "1   50  White        Married       T2      N2      IIIA   \n",
            "2   58  White       Divorced       T3      N3      IIIC   \n",
            "3   58  White        Married       T1      N1       IIA   \n",
            "4   47  White        Married       T2      N1       IIB   \n",
            "\n",
            "               differentiate Grade   A Stage  Tumor Size Estrogen Status  \\\n",
            "0      Poorly differentiated     3  Regional           4        Positive   \n",
            "1  Moderately differentiated     2  Regional          35        Positive   \n",
            "2  Moderately differentiated     2  Regional          63        Positive   \n",
            "3      Poorly differentiated     3  Regional          18        Positive   \n",
            "4      Poorly differentiated     3  Regional          41        Positive   \n",
            "\n",
            "  Progesterone Status  Regional Node Examined  Reginol Node Positive  \\\n",
            "0            Positive                      24                      1   \n",
            "1            Positive                      14                      5   \n",
            "2            Positive                      14                      7   \n",
            "3            Positive                       2                      1   \n",
            "4            Positive                       3                      1   \n",
            "\n",
            "   Survival Months Status  \n",
            "0               60  Alive  \n",
            "1               62  Alive  \n",
            "2               75  Alive  \n",
            "3               84  Alive  \n",
            "4               50  Alive  \n",
            "################## TAIL ##################\n",
            "      Age   Race Marital Status T Stage  N Stage 6th Stage  \\\n",
            "4019   62  Other        Married       T1      N1       IIA   \n",
            "4020   56  White       Divorced       T2      N2      IIIA   \n",
            "4021   68  White        Married       T2      N1       IIB   \n",
            "4022   58  Black       Divorced       T2      N1       IIB   \n",
            "4023   46  White        Married       T2      N1       IIB   \n",
            "\n",
            "                  differentiate Grade   A Stage  Tumor Size Estrogen Status  \\\n",
            "4019  Moderately differentiated     2  Regional           9        Positive   \n",
            "4020  Moderately differentiated     2  Regional          46        Positive   \n",
            "4021  Moderately differentiated     2  Regional          22        Positive   \n",
            "4022  Moderately differentiated     2  Regional          44        Positive   \n",
            "4023  Moderately differentiated     2  Regional          30        Positive   \n",
            "\n",
            "     Progesterone Status  Regional Node Examined  Reginol Node Positive  \\\n",
            "4019            Positive                       1                      1   \n",
            "4020            Positive                      14                      8   \n",
            "4021            Negative                      11                      3   \n",
            "4022            Positive                      11                      1   \n",
            "4023            Positive                       7                      2   \n",
            "\n",
            "      Survival Months Status  \n",
            "4019               49  Alive  \n",
            "4020               69  Alive  \n",
            "4021               69  Alive  \n",
            "4022               72  Alive  \n",
            "4023              100  Alive  \n",
            "################## COLUMNS ##################\n",
            "Index(['Age', 'Race', 'Marital Status', 'T Stage ', 'N Stage', '6th Stage',\n",
            "       'differentiate', 'Grade', 'A Stage', 'Tumor Size', 'Estrogen Status',\n",
            "       'Progesterone Status', 'Regional Node Examined',\n",
            "       'Reginol Node Positive', 'Survival Months', 'Status'],\n",
            "      dtype='object')\n",
            "################## INFO ##################\n",
            "<class 'pandas.core.frame.DataFrame'>\n",
            "RangeIndex: 4024 entries, 0 to 4023\n",
            "Data columns (total 16 columns):\n",
            " #   Column                  Non-Null Count  Dtype \n",
            "---  ------                  --------------  ----- \n",
            " 0   Age                     4024 non-null   int64 \n",
            " 1   Race                    4024 non-null   object\n",
            " 2   Marital Status          4024 non-null   object\n",
            " 3   T Stage                 4024 non-null   object\n",
            " 4   N Stage                 4024 non-null   object\n",
            " 5   6th Stage               4024 non-null   object\n",
            " 6   differentiate           4024 non-null   object\n",
            " 7   Grade                   4024 non-null   object\n",
            " 8   A Stage                 4024 non-null   object\n",
            " 9   Tumor Size              4024 non-null   int64 \n",
            " 10  Estrogen Status         4024 non-null   object\n",
            " 11  Progesterone Status     4024 non-null   object\n",
            " 12  Regional Node Examined  4024 non-null   int64 \n",
            " 13  Reginol Node Positive   4024 non-null   int64 \n",
            " 14  Survival Months         4024 non-null   int64 \n",
            " 15  Status                  4024 non-null   object\n",
            "dtypes: int64(5), object(11)\n",
            "memory usage: 503.1+ KB\n",
            "################## DESCRIBE ##################\n",
            "               Age   Tumor Size  Regional Node Examined  \\\n",
            "count  4024.000000  4024.000000             4024.000000   \n",
            "mean     53.972167    30.473658               14.357107   \n",
            "std       8.963134    21.119696                8.099675   \n",
            "min      30.000000     1.000000                1.000000   \n",
            "25%      47.000000    16.000000                9.000000   \n",
            "50%      54.000000    25.000000               14.000000   \n",
            "75%      61.000000    38.000000               19.000000   \n",
            "max      69.000000   140.000000               61.000000   \n",
            "\n",
            "       Reginol Node Positive  Survival Months  \n",
            "count            4024.000000      4024.000000  \n",
            "mean                4.158052        71.297962  \n",
            "std                 5.109331        22.921430  \n",
            "min                 1.000000         1.000000  \n",
            "25%                 1.000000        56.000000  \n",
            "50%                 2.000000        73.000000  \n",
            "75%                 5.000000        90.000000  \n",
            "max                46.000000       107.000000  \n",
            "################## SHAPE ##################\n",
            "(4024, 16)\n",
            "################## NDIM ##################\n",
            "2\n"
          ]
        }
      ]
    },
    {
      "cell_type": "code",
      "source": [
        "# TARGET VALUE = Status\n",
        "Target = \"Status\""
      ],
      "metadata": {
        "id": "9xrmfkLBMxG_"
      },
      "execution_count": 7,
      "outputs": []
    },
    {
      "cell_type": "markdown",
      "source": [
        "# EDA"
      ],
      "metadata": {
        "id": "sJbdUeafRls9"
      }
    },
    {
      "cell_type": "code",
      "source": [
        "def columns_analysis(df, cat_th = 10, car_th = 20):\n",
        "  \"\"\"\n",
        "      columns_analysis function splits data frame columns. It consists of categorical, numeric and cardinal columns\n",
        "\n",
        "      Parameters:\n",
        "        df: DataFrame\n",
        "        cat_th: int, categorical number\n",
        "        car_th: int, cardinal number\n",
        "\n",
        "      Return:\n",
        "        categorical columns, numerical columns, cardinal columns\n",
        "\n",
        "  \"\"\"\n",
        "\n",
        "  categorical_columns = [col for col in df.columns if df[col].dtype == \"O\"]\n",
        "  numerical_but_categorical_columns = [col for col in df.columns if df[col].dtype != \"O\" and df[col].nunique() < car_th]\n",
        "\n",
        "  cardinal_columns = [col for col in df.columns if df[col].dtype == \"O\" and df[col].nunique() > car_th]\n",
        "\n",
        "  categorical_columns = categorical_columns + numerical_but_categorical_columns\n",
        "  categorical_columns = [col for col in categorical_columns if col not in cardinal_columns]\n",
        "\n",
        "  numerical_columns = [col for col in df.columns if df[col].dtype != \"O\" and col not in numerical_but_categorical_columns]\n",
        "\n",
        "\n",
        "  return categorical_columns, numerical_columns, cardinal_columns"
      ],
      "metadata": {
        "id": "6sDgnjvzOdCs"
      },
      "execution_count": 8,
      "outputs": []
    },
    {
      "cell_type": "code",
      "source": [
        "categorical_columns, numerical_columns, cardinal_columns = columns_analysis(df)"
      ],
      "metadata": {
        "id": "UGaMNVQlPhpV"
      },
      "execution_count": 9,
      "outputs": []
    },
    {
      "cell_type": "code",
      "source": [
        "print(f\"Categorical Columns: {categorical_columns}\\n\\nNumerical Columns: {numerical_columns}\\n\\nCardinal Columns: {cardinal_columns}\")"
      ],
      "metadata": {
        "colab": {
          "base_uri": "https://localhost:8080/"
        },
        "id": "tEujrNP5PsvY",
        "outputId": "3ca2eeee-63ee-4d82-a843-e225528b6cea"
      },
      "execution_count": 10,
      "outputs": [
        {
          "output_type": "stream",
          "name": "stdout",
          "text": [
            "Categorical Columns: ['Race', 'Marital Status', 'T Stage ', 'N Stage', '6th Stage', 'differentiate', 'Grade', 'A Stage', 'Estrogen Status', 'Progesterone Status', 'Status']\n",
            "\n",
            "Numerical Columns: ['Age', 'Tumor Size', 'Regional Node Examined', 'Reginol Node Positive', 'Survival Months']\n",
            "\n",
            "Cardinal Columns: []\n"
          ]
        }
      ]
    },
    {
      "cell_type": "markdown",
      "source": [
        "## Numerical Analysis"
      ],
      "metadata": {
        "id": "puCOAMIKTyGo"
      }
    },
    {
      "cell_type": "code",
      "source": [
        "def numerical_analysis(df,col,plot = False):\n",
        "  quaT = [0.01,0.05,0.1,0.2,0.3,0.4,0.5,0.6,0.7,0.8,0.9,0.95,0.99]\n",
        "\n",
        "  print(df[col].describe(quaT).T)\n",
        "\n",
        "  if plot:\n",
        "    plt.figure(figsize = (10,10))\n",
        "    sns.histplot(df[col])\n",
        "    plt.xlabel(\"Values\")\n",
        "    plt.title(col)\n",
        "    plt.show(block = True)\n",
        "  print(\"--------------------------------------------------------------------------------\\n\")"
      ],
      "metadata": {
        "id": "iJ0tnjE6QC5w"
      },
      "execution_count": 11,
      "outputs": []
    },
    {
      "cell_type": "code",
      "source": [
        "for col in numerical_columns:\n",
        "  numerical_analysis(df,col,plot=True)"
      ],
      "metadata": {
        "colab": {
          "base_uri": "https://localhost:8080/",
          "height": 1000
        },
        "id": "cvOANzkzSpXs",
        "outputId": "7f0bcf76-144f-4cbe-9f72-7dda9ca3f079"
      },
      "execution_count": 12,
      "outputs": [
        {
          "output_type": "stream",
          "name": "stdout",
          "text": [
            "count    4024.000000\n",
            "mean       53.972167\n",
            "std         8.963134\n",
            "min        30.000000\n",
            "1%         33.000000\n",
            "5%         39.000000\n",
            "10%        42.000000\n",
            "20%        46.000000\n",
            "30%        49.000000\n",
            "40%        51.000000\n",
            "50%        54.000000\n",
            "60%        57.000000\n",
            "70%        60.000000\n",
            "80%        63.000000\n",
            "90%        66.000000\n",
            "95%        68.000000\n",
            "99%        69.000000\n",
            "max        69.000000\n",
            "Name: Age, dtype: float64\n"
          ]
        },
        {
          "output_type": "display_data",
          "data": {
            "text/plain": [
              "<Figure size 720x720 with 1 Axes>"
            ],
            "image/png": "[encoded data removed]"
          },
          "metadata": {
            "needs_background": "light"
          }
        },
        {
          "output_type": "stream",
          "name": "stdout",
          "text": [
            "--------------------------------------------------------------------------------\n",
            "\n",
            "count    4024.000000\n",
            "mean       30.473658\n",
            "std        21.119696\n",
            "min         1.000000\n",
            "1%          4.000000\n",
            "5%          9.000000\n",
            "10%        12.000000\n",
            "20%        15.000000\n",
            "30%        18.000000\n",
            "40%        20.000000\n",
            "50%        25.000000\n",
            "60%        28.000000\n",
            "70%        35.000000\n",
            "80%        43.000000\n",
            "90%        60.000000\n",
            "95%        75.000000\n",
            "99%       102.540000\n",
            "max       140.000000\n",
            "Name: Tumor Size, dtype: float64\n"
          ]
        },
        {
          "output_type": "display_data",
          "data": {
            "text/plain": [
              "<Figure size 720x720 with 1 Axes>"
            ],
            "image/png": "[encoded data removed]"
          },
          "metadata": {
            "needs_background": "light"
          }
        },
        {
          "output_type": "stream",
          "name": "stdout",
          "text": [
            "--------------------------------------------------------------------------------\n",
            "\n",
            "count    4024.000000\n",
            "mean       14.357107\n",
            "std         8.099675\n",
            "min         1.000000\n",
            "1%          1.000000\n",
            "5%          2.000000\n",
            "10%         4.000000\n",
            "20%         8.000000\n",
            "30%        10.000000\n",
            "40%        12.000000\n",
            "50%        14.000000\n",
            "60%        16.000000\n",
            "70%        18.000000\n",
            "80%        20.000000\n",
            "90%        25.000000\n",
            "95%        28.000000\n",
            "99%        38.770000\n",
            "max        61.000000\n",
            "Name: Regional Node Examined, dtype: float64\n"
          ]
        },
        {
          "output_type": "display_data",
          "data": {
            "text/plain": [
              "<Figure size 720x720 with 1 Axes>"
            ],
            "image/png": "[encoded data removed]"
          },
          "metadata": {
            "needs_background": "light"
          }
        },
        {
          "output_type": "stream",
          "name": "stdout",
          "text": [
            "--------------------------------------------------------------------------------\n",
            "\n",
            "count    4024.000000\n",
            "mean        4.158052\n",
            "std         5.109331\n",
            "min         1.000000\n",
            "1%          1.000000\n",
            "5%          1.000000\n",
            "10%         1.000000\n",
            "20%         1.000000\n",
            "30%         1.000000\n",
            "40%         2.000000\n",
            "50%         2.000000\n",
            "60%         3.000000\n",
            "70%         4.000000\n",
            "80%         6.000000\n",
            "90%        10.000000\n",
            "95%        15.000000\n",
            "99%        26.000000\n",
            "max        46.000000\n",
            "Name: Reginol Node Positive, dtype: float64\n"
          ]
        },
        {
          "output_type": "display_data",
          "data": {
            "text/plain": [
              "<Figure size 720x720 with 1 Axes>"
            ],
            "image/png": "[encoded data removed]"
          },
          "metadata": {
            "needs_background": "light"
          }
        },
        {
          "output_type": "stream",
          "name": "stdout",
          "text": [
            "--------------------------------------------------------------------------------\n",
            "\n",
            "count    4024.000000\n",
            "mean       71.297962\n",
            "std        22.921430\n",
            "min         1.000000\n",
            "1%          8.000000\n",
            "5%         26.150000\n",
            "10%        44.000000\n",
            "20%        53.000000\n",
            "30%        60.000000\n",
            "40%        66.000000\n",
            "50%        73.000000\n",
            "60%        80.000000\n",
            "70%        86.000000\n",
            "80%        94.000000\n",
            "90%       100.000000\n",
            "95%       103.000000\n",
            "99%       107.000000\n",
            "max       107.000000\n",
            "Name: Survival Months, dtype: float64\n"
          ]
        },
        {
          "output_type": "display_data",
          "data": {
            "text/plain": [
              "<Figure size 720x720 with 1 Axes>"
            ],
            "image/png": "[encoded data removed]"
          },
          "metadata": {
            "needs_background": "light"
          }
        },
        {
          "output_type": "stream",
          "name": "stdout",
          "text": [
            "--------------------------------------------------------------------------------\n",
            "\n"
          ]
        }
      ]
    },
    {
      "cell_type": "markdown",
      "source": [
        "## Categorical Analysis"
      ],
      "metadata": {
        "id": "ogtp1fc9T4MT"
      }
    },
    {
      "cell_type": "code",
      "source": [
        "def categorical_analysis(df,col,plot = False):\n",
        "  print(pd.DataFrame({col:df[col].value_counts(),\n",
        "                      \"Ratio\":df[col].value_counts()/len(df)}))\n",
        "  \n",
        "  if plot:\n",
        "    plt.figure(figsize = (10,10))\n",
        "    sns.countplot(x = df[col],data =df)\n",
        "    plt.title(col)\n",
        "    plt.xlabel(\"Values\")\n",
        "    plt.xticks(rotation = 30)\n",
        "    plt.show(block = True)\n",
        "  print(\"--------------------------------------------------------------------------------\\n\")\n"
      ],
      "metadata": {
        "id": "BwtkppESSvPC"
      },
      "execution_count": 13,
      "outputs": []
    },
    {
      "cell_type": "code",
      "source": [
        "for col in categorical_columns:\n",
        "  categorical_analysis(df,col,plot=True)"
      ],
      "metadata": {
        "colab": {
          "base_uri": "https://localhost:8080/",
          "height": 1000
        },
        "id": "cWcxoCi0Usu_",
        "outputId": "822f7efa-f070-415e-c0bd-84ae39c8bd09"
      },
      "execution_count": 14,
      "outputs": [
        {
          "output_type": "stream",
          "name": "stdout",
          "text": [
            "       Race     Ratio\n",
            "White  3413  0.848161\n",
            "Other   320  0.079523\n",
            "Black   291  0.072316\n"
          ]
        },
        {
          "output_type": "display_data",
          "data": {
            "text/plain": [
              "<Figure size 720x720 with 1 Axes>"
            ],
            "image/png": "[encoded data removed]"
          },
          "metadata": {
            "needs_background": "light"
          }
        },
        {
          "output_type": "stream",
          "name": "stdout",
          "text": [
            "--------------------------------------------------------------------------------\n",
            "\n",
            "           Marital Status     Ratio\n",
            "Married              2643  0.656809\n",
            "Single                615  0.152833\n",
            "Divorced              486  0.120775\n",
            "Widowed               235  0.058400\n",
            "Separated              45  0.011183\n"
          ]
        },
        {
          "output_type": "display_data",
          "data": {
            "text/plain": [
              "<Figure size 720x720 with 1 Axes>"
            ],
            "image/png": "[encoded data removed]"
          },
          "metadata": {
            "needs_background": "light"
          }
        },
        {
          "output_type": "stream",
          "name": "stdout",
          "text": [
            "--------------------------------------------------------------------------------\n",
            "\n",
            "    T Stage      Ratio\n",
            "T2      1786  0.443837\n",
            "T1      1603  0.398360\n",
            "T3       533  0.132455\n",
            "T4       102  0.025348\n"
          ]
        },
        {
          "output_type": "display_data",
          "data": {
            "text/plain": [
              "<Figure size 720x720 with 1 Axes>"
            ],
            "image/png": "[encoded data removed]"
          },
          "metadata": {
            "needs_background": "light"
          }
        },
        {
          "output_type": "stream",
          "name": "stdout",
          "text": [
            "--------------------------------------------------------------------------------\n",
            "\n",
            "    N Stage     Ratio\n",
            "N1     2732  0.678926\n",
            "N2      820  0.203777\n",
            "N3      472  0.117296\n"
          ]
        },
        {
          "output_type": "display_data",
          "data": {
            "text/plain": [
              "<Figure size 720x720 with 1 Axes>"
            ],
            "image/png": "[encoded data removed]"
          },
          "metadata": {
            "needs_background": "light"
          }
        },
        {
          "output_type": "stream",
          "name": "stdout",
          "text": [
            "--------------------------------------------------------------------------------\n",
            "\n",
            "      6th Stage     Ratio\n",
            "IIA        1305  0.324304\n",
            "IIB        1130  0.280815\n",
            "IIIA       1050  0.260934\n",
            "IIIC        472  0.117296\n",
            "IIIB         67  0.016650\n"
          ]
        },
        {
          "output_type": "display_data",
          "data": {
            "text/plain": [
              "<Figure size 720x720 with 1 Axes>"
            ],
            "image/png": "[encoded data removed]"
          },
          "metadata": {
            "needs_background": "light"
          }
        },
        {
          "output_type": "stream",
          "name": "stdout",
          "text": [
            "--------------------------------------------------------------------------------\n",
            "\n",
            "                           differentiate     Ratio\n",
            "Moderately differentiated           2351  0.584245\n",
            "Poorly differentiated               1111  0.276093\n",
            "Well differentiated                  543  0.134940\n",
            "Undifferentiated                      19  0.004722\n"
          ]
        },
        {
          "output_type": "display_data",
          "data": {
            "text/plain": [
              "<Figure size 720x720 with 1 Axes>"
            ],
            "image/png": "[encoded data removed]"
          },
          "metadata": {
            "needs_background": "light"
          }
        },
        {
          "output_type": "stream",
          "name": "stdout",
          "text": [
            "--------------------------------------------------------------------------------\n",
            "\n",
            "                       Grade     Ratio\n",
            "2                       2351  0.584245\n",
            "3                       1111  0.276093\n",
            "1                        543  0.134940\n",
            " anaplastic; Grade IV     19  0.004722\n"
          ]
        },
        {
          "output_type": "display_data",
          "data": {
            "text/plain": [
              "<Figure size 720x720 with 1 Axes>"
            ],
            "image/png": "[encoded data removed]"
          },
          "metadata": {
            "needs_background": "light"
          }
        },
        {
          "output_type": "stream",
          "name": "stdout",
          "text": [
            "--------------------------------------------------------------------------------\n",
            "\n",
            "          A Stage     Ratio\n",
            "Regional     3932  0.977137\n",
            "Distant        92  0.022863\n"
          ]
        },
        {
          "output_type": "display_data",
          "data": {
            "text/plain": [
              "<Figure size 720x720 with 1 Axes>"
            ],
            "image/png": "[encoded data removed]"
          },
          "metadata": {
            "needs_background": "light"
          }
        },
        {
          "output_type": "stream",
          "name": "stdout",
          "text": [
            "--------------------------------------------------------------------------------\n",
            "\n",
            "          Estrogen Status     Ratio\n",
            "Positive             3755  0.933151\n",
            "Negative              269  0.066849\n"
          ]
        },
        {
          "output_type": "display_data",
          "data": {
            "text/plain": [
              "<Figure size 720x720 with 1 Axes>"
            ],
            "image/png": "[encoded data removed]"
          },
          "metadata": {
            "needs_background": "light"
          }
        },
        {
          "output_type": "stream",
          "name": "stdout",
          "text": [
            "--------------------------------------------------------------------------------\n",
            "\n",
            "          Progesterone Status     Ratio\n",
            "Positive                 3326  0.826541\n",
            "Negative                  698  0.173459\n"
          ]
        },
        {
          "output_type": "display_data",
          "data": {
            "text/plain": [
              "<Figure size 720x720 with 1 Axes>"
            ],
            "image/png": "[encoded data removed]"
          },
          "metadata": {
            "needs_background": "light"
          }
        },
        {
          "output_type": "stream",
          "name": "stdout",
          "text": [
            "--------------------------------------------------------------------------------\n",
            "\n",
            "       Status     Ratio\n",
            "Alive    3408  0.846918\n",
            "Dead      616  0.153082\n"
          ]
        },
        {
          "output_type": "display_data",
          "data": {
            "text/plain": [
              "<Figure size 720x720 with 1 Axes>"
            ],
            "image/png": "[encoded data removed]"
          },
          "metadata": {
            "needs_background": "light"
          }
        },
        {
          "output_type": "stream",
          "name": "stdout",
          "text": [
            "--------------------------------------------------------------------------------\n",
            "\n"
          ]
        }
      ]
    },
    {
      "cell_type": "code",
      "source": [
        "index = df[df[\"Estrogen Status\"] == 14.5].index\n",
        "df.drop(index,inplace = True)\n",
        "index = df[df[\"Estrogen Status\"] == 18.5].index\n",
        "df.drop(index,inplace = True)\n",
        "index = df[df[\"Estrogen Status\"] == 16].index\n",
        "df.drop(index,inplace = True)"
      ],
      "metadata": {
        "id": "4l2PMqtlc8iF"
      },
      "execution_count": 15,
      "outputs": []
    },
    {
      "cell_type": "code",
      "source": [
        "for col in categorical_columns:\n",
        "  categorical_analysis(df,col)"
      ],
      "metadata": {
        "colab": {
          "base_uri": "https://localhost:8080/"
        },
        "id": "-J5WIPbWeq6e",
        "outputId": "ecd6fe33-be61-4fae-919d-62325c7938e0"
      },
      "execution_count": 16,
      "outputs": [
        {
          "output_type": "stream",
          "name": "stdout",
          "text": [
            "       Race     Ratio\n",
            "White  3413  0.848161\n",
            "Other   320  0.079523\n",
            "Black   291  0.072316\n",
            "--------------------------------------------------------------------------------\n",
            "\n",
            "           Marital Status     Ratio\n",
            "Married              2643  0.656809\n",
            "Single                615  0.152833\n",
            "Divorced              486  0.120775\n",
            "Widowed               235  0.058400\n",
            "Separated              45  0.011183\n",
            "--------------------------------------------------------------------------------\n",
            "\n",
            "    T Stage      Ratio\n",
            "T2      1786  0.443837\n",
            "T1      1603  0.398360\n",
            "T3       533  0.132455\n",
            "T4       102  0.025348\n",
            "--------------------------------------------------------------------------------\n",
            "\n",
            "    N Stage     Ratio\n",
            "N1     2732  0.678926\n",
            "N2      820  0.203777\n",
            "N3      472  0.117296\n",
            "--------------------------------------------------------------------------------\n",
            "\n",
            "      6th Stage     Ratio\n",
            "IIA        1305  0.324304\n",
            "IIB        1130  0.280815\n",
            "IIIA       1050  0.260934\n",
            "IIIC        472  0.117296\n",
            "IIIB         67  0.016650\n",
            "--------------------------------------------------------------------------------\n",
            "\n",
            "                           differentiate     Ratio\n",
            "Moderately differentiated           2351  0.584245\n",
            "Poorly differentiated               1111  0.276093\n",
            "Well differentiated                  543  0.134940\n",
            "Undifferentiated                      19  0.004722\n",
            "--------------------------------------------------------------------------------\n",
            "\n",
            "                       Grade     Ratio\n",
            "2                       2351  0.584245\n",
            "3                       1111  0.276093\n",
            "1                        543  0.134940\n",
            " anaplastic; Grade IV     19  0.004722\n",
            "--------------------------------------------------------------------------------\n",
            "\n",
            "          A Stage     Ratio\n",
            "Regional     3932  0.977137\n",
            "Distant        92  0.022863\n",
            "--------------------------------------------------------------------------------\n",
            "\n",
            "          Estrogen Status     Ratio\n",
            "Positive             3755  0.933151\n",
            "Negative              269  0.066849\n",
            "--------------------------------------------------------------------------------\n",
            "\n",
            "          Progesterone Status     Ratio\n",
            "Positive                 3326  0.826541\n",
            "Negative                  698  0.173459\n",
            "--------------------------------------------------------------------------------\n",
            "\n",
            "       Status     Ratio\n",
            "Alive    3408  0.846918\n",
            "Dead      616  0.153082\n",
            "--------------------------------------------------------------------------------\n",
            "\n"
          ]
        }
      ]
    },
    {
      "cell_type": "code",
      "source": [
        "for col in categorical_columns:\n",
        "  for col1 in categorical_columns:\n",
        "    if col != col1:\n",
        "      print(df.groupby([col,col1])[Target].count())\n",
        "      print(\"\\n##################################################\\n##################################################\\n\")"
      ],
      "metadata": {
        "colab": {
          "base_uri": "https://localhost:8080/"
        },
        "id": "_O0av8VcjfgE",
        "outputId": "eb686b11-f0f2-4432-d750-a0eef37d8d6e"
      },
      "execution_count": 17,
      "outputs": [
        {
          "output_type": "stream",
          "name": "stdout",
          "text": [
            "Race   Marital Status\n",
            "Black  Divorced            40\n",
            "       Married            113\n",
            "       Separated            8\n",
            "       Single             102\n",
            "       Widowed             28\n",
            "Other  Divorced            29\n",
            "       Married            237\n",
            "       Separated            4\n",
            "       Single              33\n",
            "       Widowed             17\n",
            "White  Divorced           417\n",
            "       Married           2293\n",
            "       Separated           33\n",
            "       Single             480\n",
            "       Widowed            190\n",
            "Name: Status, dtype: int64\n",
            "\n",
            "##################################################\n",
            "##################################################\n",
            "\n",
            "Race   T Stage \n",
            "Black  T1           117\n",
            "       T2           132\n",
            "       T3            33\n",
            "       T4             9\n",
            "Other  T1           113\n",
            "       T2           162\n",
            "       T3            41\n",
            "       T4             4\n",
            "White  T1          1373\n",
            "       T2          1492\n",
            "       T3           459\n",
            "       T4            89\n",
            "Name: Status, dtype: int64\n",
            "\n",
            "##################################################\n",
            "##################################################\n",
            "\n",
            "Race   N Stage\n",
            "Black  N1          184\n",
            "       N2           63\n",
            "       N3           44\n",
            "Other  N1          211\n",
            "       N2           74\n",
            "       N3           35\n",
            "White  N1         2337\n",
            "       N2          683\n",
            "       N3          393\n",
            "Name: Status, dtype: int64\n",
            "\n",
            "##################################################\n",
            "##################################################\n",
            "\n",
            "Race   6th Stage\n",
            "Black  IIA            91\n",
            "       IIB            81\n",
            "       IIIA           69\n",
            "       IIIB            6\n",
            "       IIIC           44\n",
            "Other  IIA            90\n",
            "       IIB            95\n",
            "       IIIA           96\n",
            "       IIIB            4\n",
            "       IIIC           35\n",
            "White  IIA          1124\n",
            "       IIB           954\n",
            "       IIIA          885\n",
            "       IIIB           57\n",
            "       IIIC          393\n",
            "Name: Status, dtype: int64\n",
            "\n",
            "##################################################\n",
            "##################################################\n",
            "\n",
            "Race   differentiate            \n",
            "Black  Moderately differentiated     141\n",
            "       Poorly differentiated         115\n",
            "       Undifferentiated                3\n",
            "       Well differentiated            32\n",
            "Other  Moderately differentiated     180\n",
            "       Poorly differentiated          94\n",
            "       Well differentiated            46\n",
            "White  Moderately differentiated    2030\n",
            "       Poorly differentiated         902\n",
            "       Undifferentiated               16\n",
            "       Well differentiated           465\n",
            "Name: Status, dtype: int64\n",
            "\n",
            "##################################################\n",
            "##################################################\n",
            "\n",
            "Race   Grade                \n",
            "Black   anaplastic; Grade IV       3\n",
            "       1                          32\n",
            "       2                         141\n",
            "       3                         115\n",
            "Other  1                          46\n",
            "       2                         180\n",
            "       3                          94\n",
            "White   anaplastic; Grade IV      16\n",
            "       1                         465\n",
            "       2                        2030\n",
            "       3                         902\n",
            "Name: Status, dtype: int64\n",
            "\n",
            "##################################################\n",
            "##################################################\n",
            "\n",
            "Race   A Stage \n",
            "Black  Distant        8\n",
            "       Regional     283\n",
            "Other  Distant        7\n",
            "       Regional     313\n",
            "White  Distant       77\n",
            "       Regional    3336\n",
            "Name: Status, dtype: int64\n",
            "\n",
            "##################################################\n",
            "##################################################\n",
            "\n",
            "Race   Estrogen Status\n",
            "Black  Negative             33\n",
            "       Positive            258\n",
            "Other  Negative             27\n",
            "       Positive            293\n",
            "White  Negative            209\n",
            "       Positive           3204\n",
            "Name: Status, dtype: int64\n",
            "\n",
            "##################################################\n",
            "##################################################\n",
            "\n",
            "Race   Progesterone Status\n",
            "Black  Negative                 64\n",
            "       Positive                227\n",
            "Other  Negative                 58\n",
            "       Positive                262\n",
            "White  Negative                576\n",
            "       Positive               2837\n",
            "Name: Status, dtype: int64\n",
            "\n",
            "##################################################\n",
            "##################################################\n",
            "\n",
            "Race   Status\n",
            "Black  Alive      218\n",
            "       Dead        73\n",
            "Other  Alive      287\n",
            "       Dead        33\n",
            "White  Alive     2903\n",
            "       Dead       510\n",
            "Name: Status, dtype: int64\n",
            "\n",
            "##################################################\n",
            "##################################################\n",
            "\n",
            "Marital Status  Race \n",
            "Divorced        Black      40\n",
            "                Other      29\n",
            "                White     417\n",
            "Married         Black     113\n",
            "                Other     237\n",
            "                White    2293\n",
            "Separated       Black       8\n",
            "                Other       4\n",
            "                White      33\n",
            "Single          Black     102\n",
            "                Other      33\n",
            "                White     480\n",
            "Widowed         Black      28\n",
            "                Other      17\n",
            "                White     190\n",
            "Name: Status, dtype: int64\n",
            "\n",
            "##################################################\n",
            "##################################################\n",
            "\n",
            "Marital Status  T Stage \n",
            "Divorced        T1           179\n",
            "                T2           227\n",
            "                T3            62\n",
            "                T4            18\n",
            "Married         T1          1091\n",
            "                T2          1140\n",
            "                T3           354\n",
            "                T4            58\n",
            "Separated       T1            16\n",
            "                T2            24\n",
            "                T3             3\n",
            "                T4             2\n",
            "Single          T1           225\n",
            "                T2           288\n",
            "                T3            81\n",
            "                T4            21\n",
            "Widowed         T1            92\n",
            "                T2           107\n",
            "                T3            33\n",
            "                T4             3\n",
            "Name: Status, dtype: int64\n",
            "\n",
            "##################################################\n",
            "##################################################\n",
            "\n",
            "Marital Status  N Stage\n",
            "Divorced        N1          317\n",
            "                N2           94\n",
            "                N3           75\n",
            "Married         N1         1832\n",
            "                N2          524\n",
            "                N3          287\n",
            "Separated       N1           26\n",
            "                N2            9\n",
            "                N3           10\n",
            "Single          N1          408\n",
            "                N2          144\n",
            "                N3           63\n",
            "Widowed         N1          149\n",
            "                N2           49\n",
            "                N3           37\n",
            "Name: Status, dtype: int64\n",
            "\n",
            "##################################################\n",
            "##################################################\n",
            "\n",
            "Marital Status  6th Stage\n",
            "Divorced        IIA          140\n",
            "                IIB          141\n",
            "                IIIA         119\n",
            "                IIIB          11\n",
            "                IIIC          75\n",
            "Married         IIA          892\n",
            "                IIB          732\n",
            "                IIIA         689\n",
            "                IIIB          43\n",
            "                IIIC         287\n",
            "Separated       IIA           11\n",
            "                IIB           13\n",
            "                IIIA          11\n",
            "                IIIC          10\n",
            "Single          IIA          188\n",
            "                IIB          185\n",
            "                IIIA         167\n",
            "                IIIB          12\n",
            "                IIIC          63\n",
            "Widowed         IIA           74\n",
            "                IIB           59\n",
            "                IIIA          64\n",
            "                IIIB           1\n",
            "                IIIC          37\n",
            "Name: Status, dtype: int64\n",
            "\n",
            "##################################################\n",
            "##################################################\n",
            "\n",
            "Marital Status  differentiate            \n",
            "Divorced        Moderately differentiated     288\n",
            "                Poorly differentiated         145\n",
            "                Undifferentiated                1\n",
            "                Well differentiated            52\n",
            "Married         Moderately differentiated    1569\n",
            "                Poorly differentiated         698\n",
            "                Undifferentiated               11\n",
            "                Well differentiated           365\n",
            "Separated       Moderately differentiated      24\n",
            "                Poorly differentiated          12\n",
            "                Undifferentiated                1\n",
            "                Well differentiated             8\n",
            "Single          Moderately differentiated     342\n",
            "                Poorly differentiated         191\n",
            "                Undifferentiated                5\n",
            "                Well differentiated            77\n",
            "Widowed         Moderately differentiated     128\n",
            "                Poorly differentiated          65\n",
            "                Undifferentiated                1\n",
            "                Well differentiated            41\n",
            "Name: Status, dtype: int64\n",
            "\n",
            "##################################################\n",
            "##################################################\n",
            "\n",
            "Marital Status  Grade                \n",
            "Divorced         anaplastic; Grade IV       1\n",
            "                1                          52\n",
            "                2                         288\n",
            "                3                         145\n",
            "Married          anaplastic; Grade IV      11\n",
            "                1                         365\n",
            "                2                        1569\n",
            "                3                         698\n",
            "Separated        anaplastic; Grade IV       1\n",
            "                1                           8\n",
            "                2                          24\n",
            "                3                          12\n",
            "Single           anaplastic; Grade IV       5\n",
            "                1                          77\n",
            "                2                         342\n",
            "                3                         191\n",
            "Widowed          anaplastic; Grade IV       1\n",
            "                1                          41\n",
            "                2                         128\n",
            "                3                          65\n",
            "Name: Status, dtype: int64\n",
            "\n",
            "##################################################\n",
            "##################################################\n",
            "\n",
            "Marital Status  A Stage \n",
            "Divorced        Distant       15\n",
            "                Regional     471\n",
            "Married         Distant       54\n",
            "                Regional    2589\n",
            "Separated       Distant        3\n",
            "                Regional      42\n",
            "Single          Distant       17\n",
            "                Regional     598\n",
            "Widowed         Distant        3\n",
            "                Regional     232\n",
            "Name: Status, dtype: int64\n",
            "\n",
            "##################################################\n",
            "##################################################\n",
            "\n",
            "Marital Status  Estrogen Status\n",
            "Divorced        Negative             27\n",
            "                Positive            459\n",
            "Married         Negative            173\n",
            "                Positive           2470\n",
            "Separated       Negative              7\n",
            "                Positive             38\n",
            "Single          Negative             47\n",
            "                Positive            568\n",
            "Widowed         Negative             15\n",
            "                Positive            220\n",
            "Name: Status, dtype: int64\n",
            "\n",
            "##################################################\n",
            "##################################################\n",
            "\n",
            "Marital Status  Progesterone Status\n",
            "Divorced        Negative                 90\n",
            "                Positive                396\n",
            "Married         Negative                439\n",
            "                Positive               2204\n",
            "Separated       Negative                 15\n",
            "                Positive                 30\n",
            "Single          Negative                106\n",
            "                Positive                509\n",
            "Widowed         Negative                 48\n",
            "                Positive                187\n",
            "Name: Status, dtype: int64\n",
            "\n",
            "##################################################\n",
            "##################################################\n",
            "\n",
            "Marital Status  Status\n",
            "Divorced        Alive      396\n",
            "                Dead        90\n",
            "Married         Alive     2285\n",
            "                Dead       358\n",
            "Separated       Alive       30\n",
            "                Dead        15\n",
            "Single          Alive      511\n",
            "                Dead       104\n",
            "Widowed         Alive      186\n",
            "                Dead        49\n",
            "Name: Status, dtype: int64\n",
            "\n",
            "##################################################\n",
            "##################################################\n",
            "\n",
            "T Stage   Race \n",
            "T1        Black     117\n",
            "          Other     113\n",
            "          White    1373\n",
            "T2        Black     132\n",
            "          Other     162\n",
            "          White    1492\n",
            "T3        Black      33\n",
            "          Other      41\n",
            "          White     459\n",
            "T4        Black       9\n",
            "          Other       4\n",
            "          White      89\n",
            "Name: Status, dtype: int64\n",
            "\n",
            "##################################################\n",
            "##################################################\n",
            "\n",
            "T Stage   Marital Status\n",
            "T1        Divorced           179\n",
            "          Married           1091\n",
            "          Separated           16\n",
            "          Single             225\n",
            "          Widowed             92\n",
            "T2        Divorced           227\n",
            "          Married           1140\n",
            "          Separated           24\n",
            "          Single             288\n",
            "          Widowed            107\n",
            "T3        Divorced            62\n",
            "          Married            354\n",
            "          Separated            3\n",
            "          Single              81\n",
            "          Widowed             33\n",
            "T4        Divorced            18\n",
            "          Married             58\n",
            "          Separated            2\n",
            "          Single              21\n",
            "          Widowed              3\n",
            "Name: Status, dtype: int64\n",
            "\n",
            "##################################################\n",
            "##################################################\n",
            "\n",
            "T Stage   N Stage\n",
            "T1        N1         1305\n",
            "          N2          211\n",
            "          N3           87\n",
            "T2        N1         1130\n",
            "          N2          428\n",
            "          N3          228\n",
            "T3        N1          262\n",
            "          N2          149\n",
            "          N3          122\n",
            "T4        N1           35\n",
            "          N2           32\n",
            "          N3           35\n",
            "Name: Status, dtype: int64\n",
            "\n",
            "##################################################\n",
            "##################################################\n",
            "\n",
            "T Stage   6th Stage\n",
            "T1        IIA          1305\n",
            "          IIIA          211\n",
            "          IIIC           87\n",
            "T2        IIB          1130\n",
            "          IIIA          428\n",
            "          IIIC          228\n",
            "T3        IIIA          411\n",
            "          IIIC          122\n",
            "T4        IIIB           67\n",
            "          IIIC           35\n",
            "Name: Status, dtype: int64\n",
            "\n",
            "##################################################\n",
            "##################################################\n",
            "\n",
            "T Stage   differentiate            \n",
            "T1        Moderately differentiated     975\n",
            "          Poorly differentiated         344\n",
            "          Undifferentiated                5\n",
            "          Well differentiated           279\n",
            "T2        Moderately differentiated    1025\n",
            "          Poorly differentiated         556\n",
            "          Undifferentiated                5\n",
            "          Well differentiated           200\n",
            "T3        Moderately differentiated     303\n",
            "          Poorly differentiated         168\n",
            "          Undifferentiated                7\n",
            "          Well differentiated            55\n",
            "T4        Moderately differentiated      48\n",
            "          Poorly differentiated          43\n",
            "          Undifferentiated                2\n",
            "          Well differentiated             9\n",
            "Name: Status, dtype: int64\n",
            "\n",
            "##################################################\n",
            "##################################################\n",
            "\n",
            "T Stage   Grade                \n",
            "T1         anaplastic; Grade IV       5\n",
            "          1                         279\n",
            "          2                         975\n",
            "          3                         344\n",
            "T2         anaplastic; Grade IV       5\n",
            "          1                         200\n",
            "          2                        1025\n",
            "          3                         556\n",
            "T3         anaplastic; Grade IV       7\n",
            "          1                          55\n",
            "          2                         303\n",
            "          3                         168\n",
            "T4         anaplastic; Grade IV       2\n",
            "          1                           9\n",
            "          2                          48\n",
            "          3                          43\n",
            "Name: Status, dtype: int64\n",
            "\n",
            "##################################################\n",
            "##################################################\n",
            "\n",
            "T Stage   A Stage \n",
            "T1        Distant        9\n",
            "          Regional    1594\n",
            "T2        Distant       30\n",
            "          Regional    1756\n",
            "T3        Distant       15\n",
            "          Regional     518\n",
            "T4        Distant       38\n",
            "          Regional      64\n",
            "Name: Status, dtype: int64\n",
            "\n",
            "##################################################\n",
            "##################################################\n",
            "\n",
            "T Stage   Estrogen Status\n",
            "T1        Negative             86\n",
            "          Positive           1517\n",
            "T2        Negative            124\n",
            "          Positive           1662\n",
            "T3        Negative             43\n",
            "          Positive            490\n",
            "T4        Negative             16\n",
            "          Positive             86\n",
            "Name: Status, dtype: int64\n",
            "\n",
            "##################################################\n",
            "##################################################\n",
            "\n",
            "T Stage   Progesterone Status\n",
            "T1        Negative                241\n",
            "          Positive               1362\n",
            "T2        Negative                321\n",
            "          Positive               1465\n",
            "T3        Negative                114\n",
            "          Positive                419\n",
            "T4        Negative                 22\n",
            "          Positive                 80\n",
            "Name: Status, dtype: int64\n",
            "\n",
            "##################################################\n",
            "##################################################\n",
            "\n",
            "T Stage   Status\n",
            "T1        Alive     1446\n",
            "          Dead       157\n",
            "T2        Alive     1483\n",
            "          Dead       303\n",
            "T3        Alive      417\n",
            "          Dead       116\n",
            "T4        Alive       62\n",
            "          Dead        40\n",
            "Name: Status, dtype: int64\n",
            "\n",
            "##################################################\n",
            "##################################################\n",
            "\n",
            "N Stage  Race \n",
            "N1       Black     184\n",
            "         Other     211\n",
            "         White    2337\n",
            "N2       Black      63\n",
            "         Other      74\n",
            "         White     683\n",
            "N3       Black      44\n",
            "         Other      35\n",
            "         White     393\n",
            "Name: Status, dtype: int64\n",
            "\n",
            "##################################################\n",
            "##################################################\n",
            "\n",
            "N Stage  Marital Status\n",
            "N1       Divorced           317\n",
            "         Married           1832\n",
            "         Separated           26\n",
            "         Single             408\n",
            "         Widowed            149\n",
            "N2       Divorced            94\n",
            "         Married            524\n",
            "         Separated            9\n",
            "         Single             144\n",
            "         Widowed             49\n",
            "N3       Divorced            75\n",
            "         Married            287\n",
            "         Separated           10\n",
            "         Single              63\n",
            "         Widowed             37\n",
            "Name: Status, dtype: int64\n",
            "\n",
            "##################################################\n",
            "##################################################\n",
            "\n",
            "N Stage  T Stage \n",
            "N1       T1          1305\n",
            "         T2          1130\n",
            "         T3           262\n",
            "         T4            35\n",
            "N2       T1           211\n",
            "         T2           428\n",
            "         T3           149\n",
            "         T4            32\n",
            "N3       T1            87\n",
            "         T2           228\n",
            "         T3           122\n",
            "         T4            35\n",
            "Name: Status, dtype: int64\n",
            "\n",
            "##################################################\n",
            "##################################################\n",
            "\n",
            "N Stage  6th Stage\n",
            "N1       IIA          1305\n",
            "         IIB          1130\n",
            "         IIIA          262\n",
            "         IIIB           35\n",
            "N2       IIIA          788\n",
            "         IIIB           32\n",
            "N3       IIIC          472\n",
            "Name: Status, dtype: int64\n",
            "\n",
            "##################################################\n",
            "##################################################\n",
            "\n",
            "N Stage  differentiate            \n",
            "N1       Moderately differentiated    1635\n",
            "         Poorly differentiated         651\n",
            "         Undifferentiated               10\n",
            "         Well differentiated           436\n",
            "N2       Moderately differentiated     489\n",
            "         Poorly differentiated         253\n",
            "         Undifferentiated                4\n",
            "         Well differentiated            74\n",
            "N3       Moderately differentiated     227\n",
            "         Poorly differentiated         207\n",
            "         Undifferentiated                5\n",
            "         Well differentiated            33\n",
            "Name: Status, dtype: int64\n",
            "\n",
            "##################################################\n",
            "##################################################\n",
            "\n",
            "N Stage  Grade                \n",
            "N1        anaplastic; Grade IV      10\n",
            "         1                         436\n",
            "         2                        1635\n",
            "         3                         651\n",
            "N2        anaplastic; Grade IV       4\n",
            "         1                          74\n",
            "         2                         489\n",
            "         3                         253\n",
            "N3        anaplastic; Grade IV       5\n",
            "         1                          33\n",
            "         2                         227\n",
            "         3                         207\n",
            "Name: Status, dtype: int64\n",
            "\n",
            "##################################################\n",
            "##################################################\n",
            "\n",
            "N Stage  A Stage \n",
            "N1       Distant       11\n",
            "         Regional    2721\n",
            "N2       Distant       13\n",
            "         Regional     807\n",
            "N3       Distant       68\n",
            "         Regional     404\n",
            "Name: Status, dtype: int64\n",
            "\n",
            "##################################################\n",
            "##################################################\n",
            "\n",
            "N Stage  Estrogen Status\n",
            "N1       Negative            141\n",
            "         Positive           2591\n",
            "N2       Negative             67\n",
            "         Positive            753\n",
            "N3       Negative             61\n",
            "         Positive            411\n",
            "Name: Status, dtype: int64\n",
            "\n",
            "##################################################\n",
            "##################################################\n",
            "\n",
            "N Stage  Progesterone Status\n",
            "N1       Negative                418\n",
            "         Positive               2314\n",
            "N2       Negative                155\n",
            "         Positive                665\n",
            "N3       Negative                125\n",
            "         Positive                347\n",
            "Name: Status, dtype: int64\n",
            "\n",
            "##################################################\n",
            "##################################################\n",
            "\n",
            "N Stage  Status\n",
            "N1       Alive     2462\n",
            "         Dead       270\n",
            "N2       Alive      655\n",
            "         Dead       165\n",
            "N3       Alive      291\n",
            "         Dead       181\n",
            "Name: Status, dtype: int64\n",
            "\n",
            "##################################################\n",
            "##################################################\n",
            "\n",
            "6th Stage  Race \n",
            "IIA        Black      91\n",
            "           Other      90\n",
            "           White    1124\n",
            "IIB        Black      81\n",
            "           Other      95\n",
            "           White     954\n",
            "IIIA       Black      69\n",
            "           Other      96\n",
            "           White     885\n",
            "IIIB       Black       6\n",
            "           Other       4\n",
            "           White      57\n",
            "IIIC       Black      44\n",
            "           Other      35\n",
            "           White     393\n",
            "Name: Status, dtype: int64\n",
            "\n",
            "##################################################\n",
            "##################################################\n",
            "\n",
            "6th Stage  Marital Status\n",
            "IIA        Divorced          140\n",
            "           Married           892\n",
            "           Separated          11\n",
            "           Single            188\n",
            "           Widowed            74\n",
            "IIB        Divorced          141\n",
            "           Married           732\n",
            "           Separated          13\n",
            "           Single            185\n",
            "           Widowed            59\n",
            "IIIA       Divorced          119\n",
            "           Married           689\n",
            "           Separated          11\n",
            "           Single            167\n",
            "           Widowed            64\n",
            "IIIB       Divorced           11\n",
            "           Married            43\n",
            "           Single             12\n",
            "           Widowed             1\n",
            "IIIC       Divorced           75\n",
            "           Married           287\n",
            "           Separated          10\n",
            "           Single             63\n",
            "           Widowed            37\n",
            "Name: Status, dtype: int64\n",
            "\n",
            "##################################################\n",
            "##################################################\n",
            "\n",
            "6th Stage  T Stage \n",
            "IIA        T1          1305\n",
            "IIB        T2          1130\n",
            "IIIA       T1           211\n",
            "           T2           428\n",
            "           T3           411\n",
            "IIIB       T4            67\n",
            "IIIC       T1            87\n",
            "           T2           228\n",
            "           T3           122\n",
            "           T4            35\n",
            "Name: Status, dtype: int64\n",
            "\n",
            "##################################################\n",
            "##################################################\n",
            "\n",
            "6th Stage  N Stage\n",
            "IIA        N1         1305\n",
            "IIB        N1         1130\n",
            "IIIA       N1          262\n",
            "           N2          788\n",
            "IIIB       N1           35\n",
            "           N2           32\n",
            "IIIC       N3          472\n",
            "Name: Status, dtype: int64\n",
            "\n",
            "##################################################\n",
            "##################################################\n",
            "\n",
            "6th Stage  differentiate            \n",
            "IIA        Moderately differentiated    801\n",
            "           Poorly differentiated        251\n",
            "           Undifferentiated               4\n",
            "           Well differentiated          249\n",
            "IIB        Moderately differentiated    663\n",
            "           Poorly differentiated        314\n",
            "           Undifferentiated               2\n",
            "           Well differentiated          151\n",
            "IIIA       Moderately differentiated    625\n",
            "           Poorly differentiated        315\n",
            "           Undifferentiated               8\n",
            "           Well differentiated          102\n",
            "IIIB       Moderately differentiated     35\n",
            "           Poorly differentiated         24\n",
            "           Well differentiated            8\n",
            "IIIC       Moderately differentiated    227\n",
            "           Poorly differentiated        207\n",
            "           Undifferentiated               5\n",
            "           Well differentiated           33\n",
            "Name: Status, dtype: int64\n",
            "\n",
            "##################################################\n",
            "##################################################\n",
            "\n",
            "6th Stage  Grade                \n",
            "IIA         anaplastic; Grade IV      4\n",
            "           1                        249\n",
            "           2                        801\n",
            "           3                        251\n",
            "IIB         anaplastic; Grade IV      2\n",
            "           1                        151\n",
            "           2                        663\n",
            "           3                        314\n",
            "IIIA        anaplastic; Grade IV      8\n",
            "           1                        102\n",
            "           2                        625\n",
            "           3                        315\n",
            "IIIB       1                          8\n",
            "           2                         35\n",
            "           3                         24\n",
            "IIIC        anaplastic; Grade IV      5\n",
            "           1                         33\n",
            "           2                        227\n",
            "           3                        207\n",
            "Name: Status, dtype: int64\n",
            "\n",
            "##################################################\n",
            "##################################################\n",
            "\n",
            "6th Stage  A Stage \n",
            "IIA        Regional    1305\n",
            "IIB        Regional    1130\n",
            "IIIA       Regional    1050\n",
            "IIIB       Distant       24\n",
            "           Regional      43\n",
            "IIIC       Distant       68\n",
            "           Regional     404\n",
            "Name: Status, dtype: int64\n",
            "\n",
            "##################################################\n",
            "##################################################\n",
            "\n",
            "6th Stage  Estrogen Status\n",
            "IIA        Negative             59\n",
            "           Positive           1246\n",
            "IIB        Negative             63\n",
            "           Positive           1067\n",
            "IIIA       Negative             75\n",
            "           Positive            975\n",
            "IIIB       Negative             11\n",
            "           Positive             56\n",
            "IIIC       Negative             61\n",
            "           Positive            411\n",
            "Name: Status, dtype: int64\n",
            "\n",
            "##################################################\n",
            "##################################################\n",
            "\n",
            "6th Stage  Progesterone Status\n",
            "IIA        Negative                182\n",
            "           Positive               1123\n",
            "IIB        Negative                178\n",
            "           Positive                952\n",
            "IIIA       Negative                199\n",
            "           Positive                851\n",
            "IIIB       Negative                 14\n",
            "           Positive                 53\n",
            "IIIC       Negative                125\n",
            "           Positive                347\n",
            "Name: Status, dtype: int64\n",
            "\n",
            "##################################################\n",
            "##################################################\n",
            "\n",
            "6th Stage  Status\n",
            "IIA        Alive     1209\n",
            "           Dead        96\n",
            "IIB        Alive      995\n",
            "           Dead       135\n",
            "IIIA       Alive      866\n",
            "           Dead       184\n",
            "IIIB       Alive       47\n",
            "           Dead        20\n",
            "IIIC       Alive      291\n",
            "           Dead       181\n",
            "Name: Status, dtype: int64\n",
            "\n",
            "##################################################\n",
            "##################################################\n",
            "\n",
            "differentiate              Race \n",
            "Moderately differentiated  Black     141\n",
            "                           Other     180\n",
            "                           White    2030\n",
            "Poorly differentiated      Black     115\n",
            "                           Other      94\n",
            "                           White     902\n",
            "Undifferentiated           Black       3\n",
            "                           White      16\n",
            "Well differentiated        Black      32\n",
            "                           Other      46\n",
            "                           White     465\n",
            "Name: Status, dtype: int64\n",
            "\n",
            "##################################################\n",
            "##################################################\n",
            "\n",
            "differentiate              Marital Status\n",
            "Moderately differentiated  Divorced           288\n",
            "                           Married           1569\n",
            "                           Separated           24\n",
            "                           Single             342\n",
            "                           Widowed            128\n",
            "Poorly differentiated      Divorced           145\n",
            "                           Married            698\n",
            "                           Separated           12\n",
            "                           Single             191\n",
            "                           Widowed             65\n",
            "Undifferentiated           Divorced             1\n",
            "                           Married             11\n",
            "                           Separated            1\n",
            "                           Single               5\n",
            "                           Widowed              1\n",
            "Well differentiated        Divorced            52\n",
            "                           Married            365\n",
            "                           Separated            8\n",
            "                           Single              77\n",
            "                           Widowed             41\n",
            "Name: Status, dtype: int64\n",
            "\n",
            "##################################################\n",
            "##################################################\n",
            "\n",
            "differentiate              T Stage \n",
            "Moderately differentiated  T1           975\n",
            "                           T2          1025\n",
            "                           T3           303\n",
            "                           T4            48\n",
            "Poorly differentiated      T1           344\n",
            "                           T2           556\n",
            "                           T3           168\n",
            "                           T4            43\n",
            "Undifferentiated           T1             5\n",
            "                           T2             5\n",
            "                           T3             7\n",
            "                           T4             2\n",
            "Well differentiated        T1           279\n",
            "                           T2           200\n",
            "                           T3            55\n",
            "                           T4             9\n",
            "Name: Status, dtype: int64\n",
            "\n",
            "##################################################\n",
            "##################################################\n",
            "\n",
            "differentiate              N Stage\n",
            "Moderately differentiated  N1         1635\n",
            "                           N2          489\n",
            "                           N3          227\n",
            "Poorly differentiated      N1          651\n",
            "                           N2          253\n",
            "                           N3          207\n",
            "Undifferentiated           N1           10\n",
            "                           N2            4\n",
            "                           N3            5\n",
            "Well differentiated        N1          436\n",
            "                           N2           74\n",
            "                           N3           33\n",
            "Name: Status, dtype: int64\n",
            "\n",
            "##################################################\n",
            "##################################################\n",
            "\n",
            "differentiate              6th Stage\n",
            "Moderately differentiated  IIA          801\n",
            "                           IIB          663\n",
            "                           IIIA         625\n",
            "                           IIIB          35\n",
            "                           IIIC         227\n",
            "Poorly differentiated      IIA          251\n",
            "                           IIB          314\n",
            "                           IIIA         315\n",
            "                           IIIB          24\n",
            "                           IIIC         207\n",
            "Undifferentiated           IIA            4\n",
            "                           IIB            2\n",
            "                           IIIA           8\n",
            "                           IIIC           5\n",
            "Well differentiated        IIA          249\n",
            "                           IIB          151\n",
            "                           IIIA         102\n",
            "                           IIIB           8\n",
            "                           IIIC          33\n",
            "Name: Status, dtype: int64\n",
            "\n",
            "##################################################\n",
            "##################################################\n",
            "\n",
            "differentiate              Grade                \n",
            "Moderately differentiated  2                        2351\n",
            "Poorly differentiated      3                        1111\n",
            "Undifferentiated            anaplastic; Grade IV      19\n",
            "Well differentiated        1                         543\n",
            "Name: Status, dtype: int64\n",
            "\n",
            "##################################################\n",
            "##################################################\n",
            "\n",
            "differentiate              A Stage \n",
            "Moderately differentiated  Distant       43\n",
            "                           Regional    2308\n",
            "Poorly differentiated      Distant       39\n",
            "                           Regional    1072\n",
            "Undifferentiated           Regional      19\n",
            "Well differentiated        Distant       10\n",
            "                           Regional     533\n",
            "Name: Status, dtype: int64\n",
            "\n",
            "##################################################\n",
            "##################################################\n",
            "\n",
            "differentiate              Estrogen Status\n",
            "Moderately differentiated  Negative             82\n",
            "                           Positive           2269\n",
            "Poorly differentiated      Negative            174\n",
            "                           Positive            937\n",
            "Undifferentiated           Negative              5\n",
            "                           Positive             14\n",
            "Well differentiated        Negative              8\n",
            "                           Positive            535\n",
            "Name: Status, dtype: int64\n",
            "\n",
            "##################################################\n",
            "##################################################\n",
            "\n",
            "differentiate              Progesterone Status\n",
            "Moderately differentiated  Negative                328\n",
            "                           Positive               2023\n",
            "Poorly differentiated      Negative                319\n",
            "                           Positive                792\n",
            "Undifferentiated           Negative                  4\n",
            "                           Positive                 15\n",
            "Well differentiated        Negative                 47\n",
            "                           Positive                496\n",
            "Name: Status, dtype: int64\n",
            "\n",
            "##################################################\n",
            "##################################################\n",
            "\n",
            "differentiate              Status\n",
            "Moderately differentiated  Alive     2046\n",
            "                           Dead       305\n",
            "Poorly differentiated      Alive      848\n",
            "                           Dead       263\n",
            "Undifferentiated           Alive       10\n",
            "                           Dead         9\n",
            "Well differentiated        Alive      504\n",
            "                           Dead        39\n",
            "Name: Status, dtype: int64\n",
            "\n",
            "##################################################\n",
            "##################################################\n",
            "\n",
            "Grade                  Race \n",
            " anaplastic; Grade IV  Black       3\n",
            "                       White      16\n",
            "1                      Black      32\n",
            "                       Other      46\n",
            "                       White     465\n",
            "2                      Black     141\n",
            "                       Other     180\n",
            "                       White    2030\n",
            "3                      Black     115\n",
            "                       Other      94\n",
            "                       White     902\n",
            "Name: Status, dtype: int64\n",
            "\n",
            "##################################################\n",
            "##################################################\n",
            "\n",
            "Grade                  Marital Status\n",
            " anaplastic; Grade IV  Divorced             1\n",
            "                       Married             11\n",
            "                       Separated            1\n",
            "                       Single               5\n",
            "                       Widowed              1\n",
            "1                      Divorced            52\n",
            "                       Married            365\n",
            "                       Separated            8\n",
            "                       Single              77\n",
            "                       Widowed             41\n",
            "2                      Divorced           288\n",
            "                       Married           1569\n",
            "                       Separated           24\n",
            "                       Single             342\n",
            "                       Widowed            128\n",
            "3                      Divorced           145\n",
            "                       Married            698\n",
            "                       Separated           12\n",
            "                       Single             191\n",
            "                       Widowed             65\n",
            "Name: Status, dtype: int64\n",
            "\n",
            "##################################################\n",
            "##################################################\n",
            "\n",
            "Grade                  T Stage \n",
            " anaplastic; Grade IV  T1             5\n",
            "                       T2             5\n",
            "                       T3             7\n",
            "                       T4             2\n",
            "1                      T1           279\n",
            "                       T2           200\n",
            "                       T3            55\n",
            "                       T4             9\n",
            "2                      T1           975\n",
            "                       T2          1025\n",
            "                       T3           303\n",
            "                       T4            48\n",
            "3                      T1           344\n",
            "                       T2           556\n",
            "                       T3           168\n",
            "                       T4            43\n",
            "Name: Status, dtype: int64\n",
            "\n",
            "##################################################\n",
            "##################################################\n",
            "\n",
            "Grade                  N Stage\n",
            " anaplastic; Grade IV  N1           10\n",
            "                       N2            4\n",
            "                       N3            5\n",
            "1                      N1          436\n",
            "                       N2           74\n",
            "                       N3           33\n",
            "2                      N1         1635\n",
            "                       N2          489\n",
            "                       N3          227\n",
            "3                      N1          651\n",
            "                       N2          253\n",
            "                       N3          207\n",
            "Name: Status, dtype: int64\n",
            "\n",
            "##################################################\n",
            "##################################################\n",
            "\n",
            "Grade                  6th Stage\n",
            " anaplastic; Grade IV  IIA            4\n",
            "                       IIB            2\n",
            "                       IIIA           8\n",
            "                       IIIC           5\n",
            "1                      IIA          249\n",
            "                       IIB          151\n",
            "                       IIIA         102\n",
            "                       IIIB           8\n",
            "                       IIIC          33\n",
            "2                      IIA          801\n",
            "                       IIB          663\n",
            "                       IIIA         625\n",
            "                       IIIB          35\n",
            "                       IIIC         227\n",
            "3                      IIA          251\n",
            "                       IIB          314\n",
            "                       IIIA         315\n",
            "                       IIIB          24\n",
            "                       IIIC         207\n",
            "Name: Status, dtype: int64\n",
            "\n",
            "##################################################\n",
            "##################################################\n",
            "\n",
            "Grade                  differentiate            \n",
            " anaplastic; Grade IV  Undifferentiated               19\n",
            "1                      Well differentiated           543\n",
            "2                      Moderately differentiated    2351\n",
            "3                      Poorly differentiated        1111\n",
            "Name: Status, dtype: int64\n",
            "\n",
            "##################################################\n",
            "##################################################\n",
            "\n",
            "Grade                  A Stage \n",
            " anaplastic; Grade IV  Regional      19\n",
            "1                      Distant       10\n",
            "                       Regional     533\n",
            "2                      Distant       43\n",
            "                       Regional    2308\n",
            "3                      Distant       39\n",
            "                       Regional    1072\n",
            "Name: Status, dtype: int64\n",
            "\n",
            "##################################################\n",
            "##################################################\n",
            "\n",
            "Grade                  Estrogen Status\n",
            " anaplastic; Grade IV  Negative              5\n",
            "                       Positive             14\n",
            "1                      Negative              8\n",
            "                       Positive            535\n",
            "2                      Negative             82\n",
            "                       Positive           2269\n",
            "3                      Negative            174\n",
            "                       Positive            937\n",
            "Name: Status, dtype: int64\n",
            "\n",
            "##################################################\n",
            "##################################################\n",
            "\n",
            "Grade                  Progesterone Status\n",
            " anaplastic; Grade IV  Negative                  4\n",
            "                       Positive                 15\n",
            "1                      Negative                 47\n",
            "                       Positive                496\n",
            "2                      Negative                328\n",
            "                       Positive               2023\n",
            "3                      Negative                319\n",
            "                       Positive                792\n",
            "Name: Status, dtype: int64\n",
            "\n",
            "##################################################\n",
            "##################################################\n",
            "\n",
            "Grade                  Status\n",
            " anaplastic; Grade IV  Alive       10\n",
            "                       Dead         9\n",
            "1                      Alive      504\n",
            "                       Dead        39\n",
            "2                      Alive     2046\n",
            "                       Dead       305\n",
            "3                      Alive      848\n",
            "                       Dead       263\n",
            "Name: Status, dtype: int64\n",
            "\n",
            "##################################################\n",
            "##################################################\n",
            "\n",
            "A Stage   Race \n",
            "Distant   Black       8\n",
            "          Other       7\n",
            "          White      77\n",
            "Regional  Black     283\n",
            "          Other     313\n",
            "          White    3336\n",
            "Name: Status, dtype: int64\n",
            "\n",
            "##################################################\n",
            "##################################################\n",
            "\n",
            "A Stage   Marital Status\n",
            "Distant   Divorced            15\n",
            "          Married             54\n",
            "          Separated            3\n",
            "          Single              17\n",
            "          Widowed              3\n",
            "Regional  Divorced           471\n",
            "          Married           2589\n",
            "          Separated           42\n",
            "          Single             598\n",
            "          Widowed            232\n",
            "Name: Status, dtype: int64\n",
            "\n",
            "##################################################\n",
            "##################################################\n",
            "\n",
            "A Stage   T Stage \n",
            "Distant   T1             9\n",
            "          T2            30\n",
            "          T3            15\n",
            "          T4            38\n",
            "Regional  T1          1594\n",
            "          T2          1756\n",
            "          T3           518\n",
            "          T4            64\n",
            "Name: Status, dtype: int64\n",
            "\n",
            "##################################################\n",
            "##################################################\n",
            "\n",
            "A Stage   N Stage\n",
            "Distant   N1           11\n",
            "          N2           13\n",
            "          N3           68\n",
            "Regional  N1         2721\n",
            "          N2          807\n",
            "          N3          404\n",
            "Name: Status, dtype: int64\n",
            "\n",
            "##################################################\n",
            "##################################################\n",
            "\n",
            "A Stage   6th Stage\n",
            "Distant   IIIB           24\n",
            "          IIIC           68\n",
            "Regional  IIA          1305\n",
            "          IIB          1130\n",
            "          IIIA         1050\n",
            "          IIIB           43\n",
            "          IIIC          404\n",
            "Name: Status, dtype: int64\n",
            "\n",
            "##################################################\n",
            "##################################################\n",
            "\n",
            "A Stage   differentiate            \n",
            "Distant   Moderately differentiated      43\n",
            "          Poorly differentiated          39\n",
            "          Well differentiated            10\n",
            "Regional  Moderately differentiated    2308\n",
            "          Poorly differentiated        1072\n",
            "          Undifferentiated               19\n",
            "          Well differentiated           533\n",
            "Name: Status, dtype: int64\n",
            "\n",
            "##################################################\n",
            "##################################################\n",
            "\n",
            "A Stage   Grade                \n",
            "Distant   1                          10\n",
            "          2                          43\n",
            "          3                          39\n",
            "Regional   anaplastic; Grade IV      19\n",
            "          1                         533\n",
            "          2                        2308\n",
            "          3                        1072\n",
            "Name: Status, dtype: int64\n",
            "\n",
            "##################################################\n",
            "##################################################\n",
            "\n",
            "A Stage   Estrogen Status\n",
            "Distant   Negative             16\n",
            "          Positive             76\n",
            "Regional  Negative            253\n",
            "          Positive           3679\n",
            "Name: Status, dtype: int64\n",
            "\n",
            "##################################################\n",
            "##################################################\n",
            "\n",
            "A Stage   Progesterone Status\n",
            "Distant   Negative                 22\n",
            "          Positive                 70\n",
            "Regional  Negative                676\n",
            "          Positive               3256\n",
            "Name: Status, dtype: int64\n",
            "\n",
            "##################################################\n",
            "##################################################\n",
            "\n",
            "A Stage   Status\n",
            "Distant   Alive       57\n",
            "          Dead        35\n",
            "Regional  Alive     3351\n",
            "          Dead       581\n",
            "Name: Status, dtype: int64\n",
            "\n",
            "##################################################\n",
            "##################################################\n",
            "\n",
            "Estrogen Status  Race \n",
            "Negative         Black      33\n",
            "                 Other      27\n",
            "                 White     209\n",
            "Positive         Black     258\n",
            "                 Other     293\n",
            "                 White    3204\n",
            "Name: Status, dtype: int64\n",
            "\n",
            "##################################################\n",
            "##################################################\n",
            "\n",
            "Estrogen Status  Marital Status\n",
            "Negative         Divorced            27\n",
            "                 Married            173\n",
            "                 Separated            7\n",
            "                 Single              47\n",
            "                 Widowed             15\n",
            "Positive         Divorced           459\n",
            "                 Married           2470\n",
            "                 Separated           38\n",
            "                 Single             568\n",
            "                 Widowed            220\n",
            "Name: Status, dtype: int64\n",
            "\n",
            "##################################################\n",
            "##################################################\n",
            "\n",
            "Estrogen Status  T Stage \n",
            "Negative         T1            86\n",
            "                 T2           124\n",
            "                 T3            43\n",
            "                 T4            16\n",
            "Positive         T1          1517\n",
            "                 T2          1662\n",
            "                 T3           490\n",
            "                 T4            86\n",
            "Name: Status, dtype: int64\n",
            "\n",
            "##################################################\n",
            "##################################################\n",
            "\n",
            "Estrogen Status  N Stage\n",
            "Negative         N1          141\n",
            "                 N2           67\n",
            "                 N3           61\n",
            "Positive         N1         2591\n",
            "                 N2          753\n",
            "                 N3          411\n",
            "Name: Status, dtype: int64\n",
            "\n",
            "##################################################\n",
            "##################################################\n",
            "\n",
            "Estrogen Status  6th Stage\n",
            "Negative         IIA            59\n",
            "                 IIB            63\n",
            "                 IIIA           75\n",
            "                 IIIB           11\n",
            "                 IIIC           61\n",
            "Positive         IIA          1246\n",
            "                 IIB          1067\n",
            "                 IIIA          975\n",
            "                 IIIB           56\n",
            "                 IIIC          411\n",
            "Name: Status, dtype: int64\n",
            "\n",
            "##################################################\n",
            "##################################################\n",
            "\n",
            "Estrogen Status  differentiate            \n",
            "Negative         Moderately differentiated      82\n",
            "                 Poorly differentiated         174\n",
            "                 Undifferentiated                5\n",
            "                 Well differentiated             8\n",
            "Positive         Moderately differentiated    2269\n",
            "                 Poorly differentiated         937\n",
            "                 Undifferentiated               14\n",
            "                 Well differentiated           535\n",
            "Name: Status, dtype: int64\n",
            "\n",
            "##################################################\n",
            "##################################################\n",
            "\n",
            "Estrogen Status  Grade                \n",
            "Negative          anaplastic; Grade IV       5\n",
            "                 1                           8\n",
            "                 2                          82\n",
            "                 3                         174\n",
            "Positive          anaplastic; Grade IV      14\n",
            "                 1                         535\n",
            "                 2                        2269\n",
            "                 3                         937\n",
            "Name: Status, dtype: int64\n",
            "\n",
            "##################################################\n",
            "##################################################\n",
            "\n",
            "Estrogen Status  A Stage \n",
            "Negative         Distant       16\n",
            "                 Regional     253\n",
            "Positive         Distant       76\n",
            "                 Regional    3679\n",
            "Name: Status, dtype: int64\n",
            "\n",
            "##################################################\n",
            "##################################################\n",
            "\n",
            "Estrogen Status  Progesterone Status\n",
            "Negative         Negative                242\n",
            "                 Positive                 27\n",
            "Positive         Negative                456\n",
            "                 Positive               3299\n",
            "Name: Status, dtype: int64\n",
            "\n",
            "##################################################\n",
            "##################################################\n",
            "\n",
            "Estrogen Status  Status\n",
            "Negative         Alive      161\n",
            "                 Dead       108\n",
            "Positive         Alive     3247\n",
            "                 Dead       508\n",
            "Name: Status, dtype: int64\n",
            "\n",
            "##################################################\n",
            "##################################################\n",
            "\n",
            "Progesterone Status  Race \n",
            "Negative             Black      64\n",
            "                     Other      58\n",
            "                     White     576\n",
            "Positive             Black     227\n",
            "                     Other     262\n",
            "                     White    2837\n",
            "Name: Status, dtype: int64\n",
            "\n",
            "##################################################\n",
            "##################################################\n",
            "\n",
            "Progesterone Status  Marital Status\n",
            "Negative             Divorced            90\n",
            "                     Married            439\n",
            "                     Separated           15\n",
            "                     Single             106\n",
            "                     Widowed             48\n",
            "Positive             Divorced           396\n",
            "                     Married           2204\n",
            "                     Separated           30\n",
            "                     Single             509\n",
            "                     Widowed            187\n",
            "Name: Status, dtype: int64\n",
            "\n",
            "##################################################\n",
            "##################################################\n",
            "\n",
            "Progesterone Status  T Stage \n",
            "Negative             T1           241\n",
            "                     T2           321\n",
            "                     T3           114\n",
            "                     T4            22\n",
            "Positive             T1          1362\n",
            "                     T2          1465\n",
            "                     T3           419\n",
            "                     T4            80\n",
            "Name: Status, dtype: int64\n",
            "\n",
            "##################################################\n",
            "##################################################\n",
            "\n",
            "Progesterone Status  N Stage\n",
            "Negative             N1          418\n",
            "                     N2          155\n",
            "                     N3          125\n",
            "Positive             N1         2314\n",
            "                     N2          665\n",
            "                     N3          347\n",
            "Name: Status, dtype: int64\n",
            "\n",
            "##################################################\n",
            "##################################################\n",
            "\n",
            "Progesterone Status  6th Stage\n",
            "Negative             IIA           182\n",
            "                     IIB           178\n",
            "                     IIIA          199\n",
            "                     IIIB           14\n",
            "                     IIIC          125\n",
            "Positive             IIA          1123\n",
            "                     IIB           952\n",
            "                     IIIA          851\n",
            "                     IIIB           53\n",
            "                     IIIC          347\n",
            "Name: Status, dtype: int64\n",
            "\n",
            "##################################################\n",
            "##################################################\n",
            "\n",
            "Progesterone Status  differentiate            \n",
            "Negative             Moderately differentiated     328\n",
            "                     Poorly differentiated         319\n",
            "                     Undifferentiated                4\n",
            "                     Well differentiated            47\n",
            "Positive             Moderately differentiated    2023\n",
            "                     Poorly differentiated         792\n",
            "                     Undifferentiated               15\n",
            "                     Well differentiated           496\n",
            "Name: Status, dtype: int64\n",
            "\n",
            "##################################################\n",
            "##################################################\n",
            "\n",
            "Progesterone Status  Grade                \n",
            "Negative              anaplastic; Grade IV       4\n",
            "                     1                          47\n",
            "                     2                         328\n",
            "                     3                         319\n",
            "Positive              anaplastic; Grade IV      15\n",
            "                     1                         496\n",
            "                     2                        2023\n",
            "                     3                         792\n",
            "Name: Status, dtype: int64\n",
            "\n",
            "##################################################\n",
            "##################################################\n",
            "\n",
            "Progesterone Status  A Stage \n",
            "Negative             Distant       22\n",
            "                     Regional     676\n",
            "Positive             Distant       70\n",
            "                     Regional    3256\n",
            "Name: Status, dtype: int64\n",
            "\n",
            "##################################################\n",
            "##################################################\n",
            "\n",
            "Progesterone Status  Estrogen Status\n",
            "Negative             Negative            242\n",
            "                     Positive            456\n",
            "Positive             Negative             27\n",
            "                     Positive           3299\n",
            "Name: Status, dtype: int64\n",
            "\n",
            "##################################################\n",
            "##################################################\n",
            "\n",
            "Progesterone Status  Status\n",
            "Negative             Alive      494\n",
            "                     Dead       204\n",
            "Positive             Alive     2914\n",
            "                     Dead       412\n",
            "Name: Status, dtype: int64\n",
            "\n",
            "##################################################\n",
            "##################################################\n",
            "\n",
            "Status  Race \n",
            "Alive   Black     218\n",
            "        Other     287\n",
            "        White    2903\n",
            "Dead    Black      73\n",
            "        Other      33\n",
            "        White     510\n",
            "Name: Status, dtype: int64\n",
            "\n",
            "##################################################\n",
            "##################################################\n",
            "\n",
            "Status  Marital Status\n",
            "Alive   Divorced           396\n",
            "        Married           2285\n",
            "        Separated           30\n",
            "        Single             511\n",
            "        Widowed            186\n",
            "Dead    Divorced            90\n",
            "        Married            358\n",
            "        Separated           15\n",
            "        Single             104\n",
            "        Widowed             49\n",
            "Name: Status, dtype: int64\n",
            "\n",
            "##################################################\n",
            "##################################################\n",
            "\n",
            "Status  T Stage \n",
            "Alive   T1          1446\n",
            "        T2          1483\n",
            "        T3           417\n",
            "        T4            62\n",
            "Dead    T1           157\n",
            "        T2           303\n",
            "        T3           116\n",
            "        T4            40\n",
            "Name: Status, dtype: int64\n",
            "\n",
            "##################################################\n",
            "##################################################\n",
            "\n",
            "Status  N Stage\n",
            "Alive   N1         2462\n",
            "        N2          655\n",
            "        N3          291\n",
            "Dead    N1          270\n",
            "        N2          165\n",
            "        N3          181\n",
            "Name: Status, dtype: int64\n",
            "\n",
            "##################################################\n",
            "##################################################\n",
            "\n",
            "Status  6th Stage\n",
            "Alive   IIA          1209\n",
            "        IIB           995\n",
            "        IIIA          866\n",
            "        IIIB           47\n",
            "        IIIC          291\n",
            "Dead    IIA            96\n",
            "        IIB           135\n",
            "        IIIA          184\n",
            "        IIIB           20\n",
            "        IIIC          181\n",
            "Name: Status, dtype: int64\n",
            "\n",
            "##################################################\n",
            "##################################################\n",
            "\n",
            "Status  differentiate            \n",
            "Alive   Moderately differentiated    2046\n",
            "        Poorly differentiated         848\n",
            "        Undifferentiated               10\n",
            "        Well differentiated           504\n",
            "Dead    Moderately differentiated     305\n",
            "        Poorly differentiated         263\n",
            "        Undifferentiated                9\n",
            "        Well differentiated            39\n",
            "Name: Status, dtype: int64\n",
            "\n",
            "##################################################\n",
            "##################################################\n",
            "\n",
            "Status  Grade                \n",
            "Alive    anaplastic; Grade IV      10\n",
            "        1                         504\n",
            "        2                        2046\n",
            "        3                         848\n",
            "Dead     anaplastic; Grade IV       9\n",
            "        1                          39\n",
            "        2                         305\n",
            "        3                         263\n",
            "Name: Status, dtype: int64\n",
            "\n",
            "##################################################\n",
            "##################################################\n",
            "\n",
            "Status  A Stage \n",
            "Alive   Distant       57\n",
            "        Regional    3351\n",
            "Dead    Distant       35\n",
            "        Regional     581\n",
            "Name: Status, dtype: int64\n",
            "\n",
            "##################################################\n",
            "##################################################\n",
            "\n",
            "Status  Estrogen Status\n",
            "Alive   Negative            161\n",
            "        Positive           3247\n",
            "Dead    Negative            108\n",
            "        Positive            508\n",
            "Name: Status, dtype: int64\n",
            "\n",
            "##################################################\n",
            "##################################################\n",
            "\n",
            "Status  Progesterone Status\n",
            "Alive   Negative                494\n",
            "        Positive               2914\n",
            "Dead    Negative                204\n",
            "        Positive                412\n",
            "Name: Status, dtype: int64\n",
            "\n",
            "##################################################\n",
            "##################################################\n",
            "\n"
          ]
        }
      ]
    },
    {
      "cell_type": "markdown",
      "source": [
        "## Correlation Analysis"
      ],
      "metadata": {
        "id": "I_iODGWCVTjV"
      }
    },
    {
      "cell_type": "code",
      "source": [
        "corr_df = df.corr()\n",
        "corr_df"
      ],
      "metadata": {
        "colab": {
          "base_uri": "https://localhost:8080/",
          "height": 206
        },
        "id": "z3a4bRhxUxtJ",
        "outputId": "e01db734-f8f5-49bf-fc2a-ec0a715d4638"
      },
      "execution_count": 18,
      "outputs": [
        {
          "output_type": "execute_result",
          "data": {
            "text/plain": [
              "                             Age  Tumor Size  Regional Node Examined  \\\n",
              "Age                     1.000000   -0.077215               -0.033345   \n",
              "Tumor Size             -0.077215    1.000000                0.104352   \n",
              "Regional Node Examined -0.033345    0.104352                1.000000   \n",
              "Reginol Node Positive   0.012586    0.242322                0.411580   \n",
              "Survival Months        -0.009390   -0.086901               -0.022054   \n",
              "\n",
              "                        Reginol Node Positive  Survival Months  \n",
              "Age                                  0.012586        -0.009390  \n",
              "Tumor Size                           0.242322        -0.086901  \n",
              "Regional Node Examined               0.411580        -0.022054  \n",
              "Reginol Node Positive                1.000000        -0.135214  \n",
              "Survival Months                     -0.135214         1.000000  "
            ],
            "text/html": [
              "\n",
              "  <div id=\"df-e0d8d0f9-b3d6-4ebc-b8aa-cee5258bbf50\">\n",
              "    <div class=\"colab-df-container\">\n",
              "      <div>\n",
              "<style scoped>\n",
              "    .dataframe tbody tr th:only-of-type {\n",
              "        vertical-align: middle;\n",
              "    }\n",
              "\n",
              "    .dataframe tbody tr th {\n",
              "        vertical-align: top;\n",
              "    }\n",
              "\n",
              "    .dataframe thead th {\n",
              "        text-align: right;\n",
              "    }\n",
              "</style>\n",
              "<table border=\"1\" class=\"dataframe\">\n",
              "  <thead>\n",
              "    <tr style=\"text-align: right;\">\n",
              "      <th></th>\n",
              "      <th>Age</th>\n",
              "      <th>Tumor Size</th>\n",
              "      <th>Regional Node Examined</th>\n",
              "      <th>Reginol Node Positive</th>\n",
              "      <th>Survival Months</th>\n",
              "    </tr>\n",
              "  </thead>\n",
              "  <tbody>\n",
              "    <tr>\n",
              "      <th>Age</th>\n",
              "      <td>1.000000</td>\n",
              "      <td>-0.077215</td>\n",
              "      <td>-0.033345</td>\n",
              "      <td>0.012586</td>\n",
              "      <td>-0.009390</td>\n",
              "    </tr>\n",
              "    <tr>\n",
              "      <th>Tumor Size</th>\n",
              "      <td>-0.077215</td>\n",
              "      <td>1.000000</td>\n",
              "      <td>0.104352</td>\n",
              "      <td>0.242322</td>\n",
              "      <td>-0.086901</td>\n",
              "    </tr>\n",
              "    <tr>\n",
              "      <th>Regional Node Examined</th>\n",
              "      <td>-0.033345</td>\n",
              "      <td>0.104352</td>\n",
              "      <td>1.000000</td>\n",
              "      <td>0.411580</td>\n",
              "      <td>-0.022054</td>\n",
              "    </tr>\n",
              "    <tr>\n",
              "      <th>Reginol Node Positive</th>\n",
              "      <td>0.012586</td>\n",
              "      <td>0.242322</td>\n",
              "      <td>0.411580</td>\n",
              "      <td>1.000000</td>\n",
              "      <td>-0.135214</td>\n",
              "    </tr>\n",
              "    <tr>\n",
              "      <th>Survival Months</th>\n",
              "      <td>-0.009390</td>\n",
              "      <td>-0.086901</td>\n",
              "      <td>-0.022054</td>\n",
              "      <td>-0.135214</td>\n",
              "      <td>1.000000</td>\n",
              "    </tr>\n",
              "  </tbody>\n",
              "</table>\n",
              "</div>\n",
              "      <button class=\"colab-df-convert\" onclick=\"convertToInteractive('df-e0d8d0f9-b3d6-4ebc-b8aa-cee5258bbf50')\"\n",
              "              title=\"Convert this dataframe to an interactive table.\"\n",
              "              style=\"display:none;\">\n",
              "        \n",
              "  <svg xmlns=\"http://www.w3.org/2000/svg\" height=\"24px\"viewBox=\"0 0 24 24\"\n",
              "       width=\"24px\">\n",
              "    <path d=\"M0 0h24v24H0V0z\" fill=\"none\"/>\n",
              "    <path d=\"M18.56 5.44l.94 2.06.94-2.06 2.06-.94-2.06-.94-.94-2.06-.94 2.06-2.06.94zm-11 1L8.5 8.5l.94-2.06 2.06-.94-2.06-.94L8.5 2.5l-.94 2.06-2.06.94zm10 10l.94 2.06.94-2.06 2.06-.94-2.06-.94-.94-2.06-.94 2.06-2.06.94z\"/><path d=\"M17.41 7.96l-1.37-1.37c-.4-.4-.92-.59-1.43-.59-.52 0-1.04.2-1.43.59L10.3 9.45l-7.72 7.72c-.78.78-.78 2.05 0 2.83L4 21.41c.39.39.9.59 1.41.59.51 0 1.02-.2 1.41-.59l7.78-7.78 2.81-2.81c.8-.78.8-2.07 0-2.86zM5.41 20L4 18.59l7.72-7.72 1.47 1.35L5.41 20z\"/>\n",
              "  </svg>\n",
              "      </button>\n",
              "      \n",
              "  <style>\n",
              "    .colab-df-container {\n",
              "      display:flex;\n",
              "      flex-wrap:wrap;\n",
              "      gap: 12px;\n",
              "    }\n",
              "\n",
              "    .colab-df-convert {\n",
              "      background-color: #E8F0FE;\n",
              "      border: none;\n",
              "      border-radius: 50%;\n",
              "      cursor: pointer;\n",
              "      display: none;\n",
              "      fill: #1967D2;\n",
              "      height: 32px;\n",
              "      padding: 0 0 0 0;\n",
              "      width: 32px;\n",
              "    }\n",
              "\n",
              "    .colab-df-convert:hover {\n",
              "      background-color: #E2EBFA;\n",
              "      box-shadow: 0px 1px 2px rgba(60, 64, 67, 0.3), 0px 1px 3px 1px rgba(60, 64, 67, 0.15);\n",
              "      fill: #174EA6;\n",
              "    }\n",
              "\n",
              "    [theme=dark] .colab-df-convert {\n",
              "      background-color: #3B4455;\n",
              "      fill: #D2E3FC;\n",
              "    }\n",
              "\n",
              "    [theme=dark] .colab-df-convert:hover {\n",
              "      background-color: #434B5C;\n",
              "      box-shadow: 0px 1px 3px 1px rgba(0, 0, 0, 0.15);\n",
              "      filter: drop-shadow(0px 1px 2px rgba(0, 0, 0, 0.3));\n",
              "      fill: #FFFFFF;\n",
              "    }\n",
              "  </style>\n",
              "\n",
              "      <script>\n",
              "        const buttonEl =\n",
              "          document.querySelector('#df-e0d8d0f9-b3d6-4ebc-b8aa-cee5258bbf50 button.colab-df-convert');\n",
              "        buttonEl.style.display =\n",
              "          google.colab.kernel.accessAllowed ? 'block' : 'none';\n",
              "\n",
              "        async function convertToInteractive(key) {\n",
              "          const element = document.querySelector('#df-e0d8d0f9-b3d6-4ebc-b8aa-cee5258bbf50');\n",
              "          const dataTable =\n",
              "            await google.colab.kernel.invokeFunction('convertToInteractive',\n",
              "                                                     [key], {});\n",
              "          if (!dataTable) return;\n",
              "\n",
              "          const docLinkHtml = 'Like what you see? Visit the ' +\n",
              "            '<a target=\"_blank\" href=https://colab.research.google.com/notebooks/data_table.ipynb>data table notebook</a>'\n",
              "            + ' to learn more about interactive tables.';\n",
              "          element.innerHTML = '';\n",
              "          dataTable['output_type'] = 'display_data';\n",
              "          await google.colab.output.renderOutput(dataTable, element);\n",
              "          const docLink = document.createElement('div');\n",
              "          docLink.innerHTML = docLinkHtml;\n",
              "          element.appendChild(docLink);\n",
              "        }\n",
              "      </script>\n",
              "    </div>\n",
              "  </div>\n",
              "  "
            ]
          },
          "metadata": {},
          "execution_count": 18
        }
      ]
    },
    {
      "cell_type": "code",
      "source": [
        "plt.figure(figsize = (10,10))\n",
        "sns.heatmap(corr_df,annot = True)\n",
        "plt.xticks(rotation = 30)\n",
        "plt.show()"
      ],
      "metadata": {
        "colab": {
          "base_uri": "https://localhost:8080/",
          "height": 657
        },
        "id": "cW4YnqQlVsBw",
        "outputId": "1f6acca0-a9de-465d-acc1-a9c0ca13053b"
      },
      "execution_count": 19,
      "outputs": [
        {
          "output_type": "display_data",
          "data": {
            "text/plain": [
              "<Figure size 720x720 with 2 Axes>"
            ],
            "image/png": "[encoded data removed]"
          },
          "metadata": {
            "needs_background": "light"
          }
        }
      ]
    },
    {
      "cell_type": "markdown",
      "source": [
        "## Outlier Values"
      ],
      "metadata": {
        "id": "Xdpdukc1EemC"
      }
    },
    {
      "cell_type": "code",
      "source": [
        "def outlier_thresholds(df,col,qu_ratio1 = 0.25, qu_ratio3 = 0.75):\n",
        "  \"\"\"\n",
        "    outlier_thresholds function is find feature thresholds values\n",
        "\n",
        "    Parameters:\n",
        "      df: DataFrame\n",
        "      col: Columns\n",
        "      qu_ratio1: Lower quarter, fixed value = 0.25\n",
        "      qu_ratio3: Upper quarter fixed value = 0.75\n",
        "\n",
        "    Return:\n",
        "      low, up\n",
        "  \"\"\"\n",
        "  \n",
        "  q1 = df[col].quantile(qu_ratio1)\n",
        "  q3 = df[col].quantile(qu_ratio3)\n",
        "\n",
        "  ıqr = q3 - q1\n",
        "\n",
        "  low = q1 - 1.5*ıqr\n",
        "  up = q3 + 1.5*ıqr\n",
        "\n",
        "  return low, up"
      ],
      "metadata": {
        "id": "D5EuUMVcWU4r"
      },
      "execution_count": 20,
      "outputs": []
    },
    {
      "cell_type": "code",
      "source": [
        "for col in numerical_columns:\n",
        "  print(col,\"--\",outlier_thresholds(df,col,0.2,0.8))"
      ],
      "metadata": {
        "colab": {
          "base_uri": "https://localhost:8080/"
        },
        "id": "tGX0uCarFol0",
        "outputId": "aec6bb16-1452-49d9-ed9a-f896821185e2"
      },
      "execution_count": 21,
      "outputs": [
        {
          "output_type": "stream",
          "name": "stdout",
          "text": [
            "Age -- (20.5, 88.5)\n",
            "Tumor Size -- (-27.0, 85.0)\n",
            "Regional Node Examined -- (-10.0, 38.0)\n",
            "Reginol Node Positive -- (-6.5, 13.5)\n",
            "Survival Months -- (-8.5, 155.5)\n"
          ]
        }
      ]
    },
    {
      "cell_type": "code",
      "source": [
        "def outlier_check(df,col,qu_ratio1 = 0.25,qu_ratio3 = 0.75):\n",
        "  \"\"\"\n",
        "    outlier_check function is check for outlier values. Return True if feature have a outlier values. \n",
        "    But features haven`t outlier values return False.\n",
        "\n",
        "    Parameters:\n",
        "      df: DataFrame\n",
        "      col: Columns\n",
        "      qu_ratio1: Low quarter, fixed value = 0.25\n",
        "      qu_ratio3: Upper quarter, fixed value = 0.75\n",
        "\n",
        "    Return:\n",
        "      True or False\n",
        "\n",
        "  \"\"\"\n",
        "  \n",
        "  low,up = outlier_thresholds(df,col,qu_ratio1,qu_ratio3)\n",
        "\n",
        "  if(df[(df[col] < low) | (df[col] > up)].any(axis = None)):\n",
        "    return True\n",
        "  else:\n",
        "    return False"
      ],
      "metadata": {
        "id": "SfssZF6JGQfR"
      },
      "execution_count": 22,
      "outputs": []
    },
    {
      "cell_type": "code",
      "source": [
        "for col in numerical_columns:\n",
        "  print(col,\"--\",outlier_check(df,col,0.2,0.8))"
      ],
      "metadata": {
        "colab": {
          "base_uri": "https://localhost:8080/"
        },
        "id": "DRWJe8r8GoPV",
        "outputId": "3b73a2bb-bd4e-42de-a633-be0887c666dc"
      },
      "execution_count": 23,
      "outputs": [
        {
          "output_type": "stream",
          "name": "stdout",
          "text": [
            "Age -- False\n",
            "Tumor Size -- True\n",
            "Regional Node Examined -- True\n",
            "Reginol Node Positive -- True\n",
            "Survival Months -- False\n"
          ]
        }
      ]
    },
    {
      "cell_type": "code",
      "source": [
        "def number_of_outlier_values(df,col,qu_ratio1 = 0.25,qu_ratio3 = 0.75):\n",
        "  \"\"\"\n",
        "    number_of_outlier_values function is find number of outlier values.\n",
        "\n",
        "    Parameters:\n",
        "      df: DataFrame\n",
        "      col: Columns\n",
        "      qu_ratio1: Lower quarter, fixed value = 0.25\n",
        "      qu_ratio3: Upper quarter, fixed value = 0.75\n",
        "  \"\"\"\n",
        "\n",
        "  low, up = outlier_thresholds(df,col,qu_ratio1,qu_ratio3)\n",
        "\n",
        "  if outlier_check(df,col,qu_ratio1,qu_ratio3) == True:\n",
        "    print(col,\": \",len(df[(df[col] < low) | (df[col] > up)]))"
      ],
      "metadata": {
        "id": "62QkZiN-J_nX"
      },
      "execution_count": 24,
      "outputs": []
    },
    {
      "cell_type": "code",
      "source": [
        "print(\"-- NUMBER OF OUTLIER VALUES --\")\n",
        "for col in numerical_columns:\n",
        "  number_of_outlier_values(df,col,0.2,0.8)"
      ],
      "metadata": {
        "colab": {
          "base_uri": "https://localhost:8080/"
        },
        "id": "fiii-K-JKkZf",
        "outputId": "03a539d8-cc47-44dc-8bb4-6c2fbf2810b9"
      },
      "execution_count": 25,
      "outputs": [
        {
          "output_type": "stream",
          "name": "stdout",
          "text": [
            "-- NUMBER OF OUTLIER VALUES --\n",
            "Tumor Size :  110\n",
            "Regional Node Examined :  41\n",
            "Reginol Node Positive :  261\n"
          ]
        }
      ]
    },
    {
      "cell_type": "markdown",
      "source": [
        "-Comment-\n",
        "Outlier values should fill with thresholds values."
      ],
      "metadata": {
        "id": "YQwihKtlL1H2"
      }
    },
    {
      "cell_type": "code",
      "source": [
        "def fill_outlier_values(df,col,qu_ratio1 = 0.25,qu_ratio3 = 0.75):\n",
        "  \"\"\"\n",
        "    fill_outlier_values function is fill outlier values with thresholds values.\n",
        "\n",
        "    Parameters:\n",
        "      df: DataFrame\n",
        "      col: Columns\n",
        "      qu_ratio1 = Lower quarter, fixed value = 0.25\n",
        "      qu_ratio3 = Upper quarter, fixed value = 0.75\n",
        "\n",
        "    Return:\n",
        "      df  \n",
        "  \"\"\"\n",
        "  check = outlier_check(df,col,qu_ratio1,qu_ratio3)\n",
        "  if check == True:\n",
        "    low, up = outlier_thresholds(df,col,qu_ratio1,qu_ratio3)\n",
        "    df[df[col] < low] = low\n",
        "    df[df[col] > up] = up\n",
        "\n",
        "  return df"
      ],
      "metadata": {
        "id": "JgScS7qnMX0z"
      },
      "execution_count": 26,
      "outputs": []
    },
    {
      "cell_type": "code",
      "source": [
        "for col in numerical_columns:\n",
        "  df = fill_outlier_values(df,col,0.2,0.8)\n",
        "\n",
        "for col in numerical_columns:\n",
        "  print(col,\" -- \",outlier_check(df,col,0.2,0.8))\n"
      ],
      "metadata": {
        "colab": {
          "base_uri": "https://localhost:8080/"
        },
        "id": "JkiDWRt0N58E",
        "outputId": "46017c96-1b93-4135-e22b-91ced5484aa4"
      },
      "execution_count": 27,
      "outputs": [
        {
          "output_type": "stream",
          "name": "stdout",
          "text": [
            "Age  --  True\n",
            "Tumor Size  --  True\n",
            "Regional Node Examined  --  True\n",
            "Reginol Node Positive  --  False\n",
            "Survival Months  --  False\n"
          ]
        }
      ]
    },
    {
      "cell_type": "markdown",
      "source": [
        "## Nan Values"
      ],
      "metadata": {
        "id": "nSjWd0xbI_Wt"
      }
    },
    {
      "cell_type": "code",
      "source": [
        "df.isnull().sum()"
      ],
      "metadata": {
        "colab": {
          "base_uri": "https://localhost:8080/"
        },
        "id": "x61mT4p8Hxdr",
        "outputId": "c85eec36-0c0a-46c3-fee4-97c32589aeab"
      },
      "execution_count": 28,
      "outputs": [
        {
          "output_type": "execute_result",
          "data": {
            "text/plain": [
              "Age                       0\n",
              "Race                      0\n",
              "Marital Status            0\n",
              "T Stage                   0\n",
              "N Stage                   0\n",
              "6th Stage                 0\n",
              "differentiate             0\n",
              "Grade                     0\n",
              "A Stage                   0\n",
              "Tumor Size                0\n",
              "Estrogen Status           0\n",
              "Progesterone Status       0\n",
              "Regional Node Examined    0\n",
              "Reginol Node Positive     0\n",
              "Survival Months           0\n",
              "Status                    0\n",
              "dtype: int64"
            ]
          },
          "metadata": {},
          "execution_count": 28
        }
      ]
    },
    {
      "cell_type": "markdown",
      "source": [
        "Dataframe haven`t null values"
      ],
      "metadata": {
        "id": "Iy0BaP5rJFcf"
      }
    },
    {
      "cell_type": "markdown",
      "source": [
        "# Encoding"
      ],
      "metadata": {
        "id": "BWu5K5Unm6ob"
      }
    },
    {
      "cell_type": "markdown",
      "source": [
        "## Label Encoding"
      ],
      "metadata": {
        "id": "2v8LuybPnHkJ"
      }
    },
    {
      "cell_type": "code",
      "source": [
        "binary_columns = [col for col in df.columns if df[col].dtype == \"O\" and df[col].nunique() == 2]\n",
        "binary_columns"
      ],
      "metadata": {
        "colab": {
          "base_uri": "https://localhost:8080/"
        },
        "id": "-24Nt4fVlzaT",
        "outputId": "7ba9ef74-3a31-4c58-abd3-8deae65642bc"
      },
      "execution_count": 29,
      "outputs": [
        {
          "output_type": "execute_result",
          "data": {
            "text/plain": [
              "[]"
            ]
          },
          "metadata": {},
          "execution_count": 29
        }
      ]
    },
    {
      "cell_type": "code",
      "source": [
        "label_enc = LabelEncoder()\n",
        "for col in binary_columns:\n",
        "  df[col] = label_enc.fit_transform(df[col])"
      ],
      "metadata": {
        "id": "PSR040OAnUUj"
      },
      "execution_count": 30,
      "outputs": []
    },
    {
      "cell_type": "code",
      "source": [
        "df.head()"
      ],
      "metadata": {
        "colab": {
          "base_uri": "https://localhost:8080/",
          "height": 392
        },
        "id": "5DQTJIDWncnM",
        "outputId": "60b1c640-b86d-4b96-ab64-57207b9d202d"
      },
      "execution_count": 31,
      "outputs": [
        {
          "output_type": "execute_result",
          "data": {
            "text/plain": [
              "    Age   Race Marital Status T Stage  N Stage 6th Stage  \\\n",
              "0  68.0  White        Married       T1      N1       IIA   \n",
              "1  50.0  White        Married       T2      N2      IIIA   \n",
              "2  58.0  White       Divorced       T3      N3      IIIC   \n",
              "3  58.0  White        Married       T1      N1       IIA   \n",
              "4  47.0  White        Married       T2      N1       IIB   \n",
              "\n",
              "               differentiate Grade   A Stage  Tumor Size Estrogen Status  \\\n",
              "0      Poorly differentiated     3  Regional         4.0        Positive   \n",
              "1  Moderately differentiated     2  Regional        35.0        Positive   \n",
              "2  Moderately differentiated     2  Regional        63.0        Positive   \n",
              "3      Poorly differentiated     3  Regional        18.0        Positive   \n",
              "4      Poorly differentiated     3  Regional        41.0        Positive   \n",
              "\n",
              "  Progesterone Status  Regional Node Examined  Reginol Node Positive  \\\n",
              "0            Positive                    24.0                    1.0   \n",
              "1            Positive                    14.0                    5.0   \n",
              "2            Positive                    14.0                    7.0   \n",
              "3            Positive                     2.0                    1.0   \n",
              "4            Positive                     3.0                    1.0   \n",
              "\n",
              "   Survival Months Status  \n",
              "0             60.0  Alive  \n",
              "1             62.0  Alive  \n",
              "2             75.0  Alive  \n",
              "3             84.0  Alive  \n",
              "4             50.0  Alive  "
            ],
            "text/html": [
              "\n",
              "  <div id=\"df-faeb700f-34b2-4d09-8752-cd0bbe08930e\">\n",
              "    <div class=\"colab-df-container\">\n",
              "      <div>\n",
              "<style scoped>\n",
              "    .dataframe tbody tr th:only-of-type {\n",
              "        vertical-align: middle;\n",
              "    }\n",
              "\n",
              "    .dataframe tbody tr th {\n",
              "        vertical-align: top;\n",
              "    }\n",
              "\n",
              "    .dataframe thead th {\n",
              "        text-align: right;\n",
              "    }\n",
              "</style>\n",
              "<table border=\"1\" class=\"dataframe\">\n",
              "  <thead>\n",
              "    <tr style=\"text-align: right;\">\n",
              "      <th></th>\n",
              "      <th>Age</th>\n",
              "      <th>Race</th>\n",
              "      <th>Marital Status</th>\n",
              "      <th>T Stage</th>\n",
              "      <th>N Stage</th>\n",
              "      <th>6th Stage</th>\n",
              "      <th>differentiate</th>\n",
              "      <th>Grade</th>\n",
              "      <th>A Stage</th>\n",
              "      <th>Tumor Size</th>\n",
              "      <th>Estrogen Status</th>\n",
              "      <th>Progesterone Status</th>\n",
              "      <th>Regional Node Examined</th>\n",
              "      <th>Reginol Node Positive</th>\n",
              "      <th>Survival Months</th>\n",
              "      <th>Status</th>\n",
              "    </tr>\n",
              "  </thead>\n",
              "  <tbody>\n",
              "    <tr>\n",
              "      <th>0</th>\n",
              "      <td>68.0</td>\n",
              "      <td>White</td>\n",
              "      <td>Married</td>\n",
              "      <td>T1</td>\n",
              "      <td>N1</td>\n",
              "      <td>IIA</td>\n",
              "      <td>Poorly differentiated</td>\n",
              "      <td>3</td>\n",
              "      <td>Regional</td>\n",
              "      <td>4.0</td>\n",
              "      <td>Positive</td>\n",
              "      <td>Positive</td>\n",
              "      <td>24.0</td>\n",
              "      <td>1.0</td>\n",
              "      <td>60.0</td>\n",
              "      <td>Alive</td>\n",
              "    </tr>\n",
              "    <tr>\n",
              "      <th>1</th>\n",
              "      <td>50.0</td>\n",
              "      <td>White</td>\n",
              "      <td>Married</td>\n",
              "      <td>T2</td>\n",
              "      <td>N2</td>\n",
              "      <td>IIIA</td>\n",
              "      <td>Moderately differentiated</td>\n",
              "      <td>2</td>\n",
              "      <td>Regional</td>\n",
              "      <td>35.0</td>\n",
              "      <td>Positive</td>\n",
              "      <td>Positive</td>\n",
              "      <td>14.0</td>\n",
              "      <td>5.0</td>\n",
              "      <td>62.0</td>\n",
              "      <td>Alive</td>\n",
              "    </tr>\n",
              "    <tr>\n",
              "      <th>2</th>\n",
              "      <td>58.0</td>\n",
              "      <td>White</td>\n",
              "      <td>Divorced</td>\n",
              "      <td>T3</td>\n",
              "      <td>N3</td>\n",
              "      <td>IIIC</td>\n",
              "      <td>Moderately differentiated</td>\n",
              "      <td>2</td>\n",
              "      <td>Regional</td>\n",
              "      <td>63.0</td>\n",
              "      <td>Positive</td>\n",
              "      <td>Positive</td>\n",
              "      <td>14.0</td>\n",
              "      <td>7.0</td>\n",
              "      <td>75.0</td>\n",
              "      <td>Alive</td>\n",
              "    </tr>\n",
              "    <tr>\n",
              "      <th>3</th>\n",
              "      <td>58.0</td>\n",
              "      <td>White</td>\n",
              "      <td>Married</td>\n",
              "      <td>T1</td>\n",
              "      <td>N1</td>\n",
              "      <td>IIA</td>\n",
              "      <td>Poorly differentiated</td>\n",
              "      <td>3</td>\n",
              "      <td>Regional</td>\n",
              "      <td>18.0</td>\n",
              "      <td>Positive</td>\n",
              "      <td>Positive</td>\n",
              "      <td>2.0</td>\n",
              "      <td>1.0</td>\n",
              "      <td>84.0</td>\n",
              "      <td>Alive</td>\n",
              "    </tr>\n",
              "    <tr>\n",
              "      <th>4</th>\n",
              "      <td>47.0</td>\n",
              "      <td>White</td>\n",
              "      <td>Married</td>\n",
              "      <td>T2</td>\n",
              "      <td>N1</td>\n",
              "      <td>IIB</td>\n",
              "      <td>Poorly differentiated</td>\n",
              "      <td>3</td>\n",
              "      <td>Regional</td>\n",
              "      <td>41.0</td>\n",
              "      <td>Positive</td>\n",
              "      <td>Positive</td>\n",
              "      <td>3.0</td>\n",
              "      <td>1.0</td>\n",
              "      <td>50.0</td>\n",
              "      <td>Alive</td>\n",
              "    </tr>\n",
              "  </tbody>\n",
              "</table>\n",
              "</div>\n",
              "      <button class=\"colab-df-convert\" onclick=\"convertToInteractive('df-faeb700f-34b2-4d09-8752-cd0bbe08930e')\"\n",
              "              title=\"Convert this dataframe to an interactive table.\"\n",
              "              style=\"display:none;\">\n",
              "        \n",
              "  <svg xmlns=\"http://www.w3.org/2000/svg\" height=\"24px\"viewBox=\"0 0 24 24\"\n",
              "       width=\"24px\">\n",
              "    <path d=\"M0 0h24v24H0V0z\" fill=\"none\"/>\n",
              "    <path d=\"M18.56 5.44l.94 2.06.94-2.06 2.06-.94-2.06-.94-.94-2.06-.94 2.06-2.06.94zm-11 1L8.5 8.5l.94-2.06 2.06-.94-2.06-.94L8.5 2.5l-.94 2.06-2.06.94zm10 10l.94 2.06.94-2.06 2.06-.94-2.06-.94-.94-2.06-.94 2.06-2.06.94z\"/><path d=\"M17.41 7.96l-1.37-1.37c-.4-.4-.92-.59-1.43-.59-.52 0-1.04.2-1.43.59L10.3 9.45l-7.72 7.72c-.78.78-.78 2.05 0 2.83L4 21.41c.39.39.9.59 1.41.59.51 0 1.02-.2 1.41-.59l7.78-7.78 2.81-2.81c.8-.78.8-2.07 0-2.86zM5.41 20L4 18.59l7.72-7.72 1.47 1.35L5.41 20z\"/>\n",
              "  </svg>\n",
              "      </button>\n",
              "      \n",
              "  <style>\n",
              "    .colab-df-container {\n",
              "      display:flex;\n",
              "      flex-wrap:wrap;\n",
              "      gap: 12px;\n",
              "    }\n",
              "\n",
              "    .colab-df-convert {\n",
              "      background-color: #E8F0FE;\n",
              "      border: none;\n",
              "      border-radius: 50%;\n",
              "      cursor: pointer;\n",
              "      display: none;\n",
              "      fill: #1967D2;\n",
              "      height: 32px;\n",
              "      padding: 0 0 0 0;\n",
              "      width: 32px;\n",
              "    }\n",
              "\n",
              "    .colab-df-convert:hover {\n",
              "      background-color: #E2EBFA;\n",
              "      box-shadow: 0px 1px 2px rgba(60, 64, 67, 0.3), 0px 1px 3px 1px rgba(60, 64, 67, 0.15);\n",
              "      fill: #174EA6;\n",
              "    }\n",
              "\n",
              "    [theme=dark] .colab-df-convert {\n",
              "      background-color: #3B4455;\n",
              "      fill: #D2E3FC;\n",
              "    }\n",
              "\n",
              "    [theme=dark] .colab-df-convert:hover {\n",
              "      background-color: #434B5C;\n",
              "      box-shadow: 0px 1px 3px 1px rgba(0, 0, 0, 0.15);\n",
              "      filter: drop-shadow(0px 1px 2px rgba(0, 0, 0, 0.3));\n",
              "      fill: #FFFFFF;\n",
              "    }\n",
              "  </style>\n",
              "\n",
              "      <script>\n",
              "        const buttonEl =\n",
              "          document.querySelector('#df-faeb700f-34b2-4d09-8752-cd0bbe08930e button.colab-df-convert');\n",
              "        buttonEl.style.display =\n",
              "          google.colab.kernel.accessAllowed ? 'block' : 'none';\n",
              "\n",
              "        async function convertToInteractive(key) {\n",
              "          const element = document.querySelector('#df-faeb700f-34b2-4d09-8752-cd0bbe08930e');\n",
              "          const dataTable =\n",
              "            await google.colab.kernel.invokeFunction('convertToInteractive',\n",
              "                                                     [key], {});\n",
              "          if (!dataTable) return;\n",
              "\n",
              "          const docLinkHtml = 'Like what you see? Visit the ' +\n",
              "            '<a target=\"_blank\" href=https://colab.research.google.com/notebooks/data_table.ipynb>data table notebook</a>'\n",
              "            + ' to learn more about interactive tables.';\n",
              "          element.innerHTML = '';\n",
              "          dataTable['output_type'] = 'display_data';\n",
              "          await google.colab.output.renderOutput(dataTable, element);\n",
              "          const docLink = document.createElement('div');\n",
              "          docLink.innerHTML = docLinkHtml;\n",
              "          element.appendChild(docLink);\n",
              "        }\n",
              "      </script>\n",
              "    </div>\n",
              "  </div>\n",
              "  "
            ]
          },
          "metadata": {},
          "execution_count": 31
        }
      ]
    },
    {
      "cell_type": "markdown",
      "source": [
        "## One Hot Encoding"
      ],
      "metadata": {
        "id": "9NW-eXp6n6l-"
      }
    },
    {
      "cell_type": "code",
      "source": [
        "one_hot_columns = [col for col in categorical_columns if col not in binary_columns and col != Target]\n",
        "one_hot_columns"
      ],
      "metadata": {
        "colab": {
          "base_uri": "https://localhost:8080/"
        },
        "id": "sMMr197rnmwT",
        "outputId": "fcc42ba3-295e-43fc-def5-a80acc0b1246"
      },
      "execution_count": 32,
      "outputs": [
        {
          "output_type": "execute_result",
          "data": {
            "text/plain": [
              "['Race',\n",
              " 'Marital Status',\n",
              " 'T Stage ',\n",
              " 'N Stage',\n",
              " '6th Stage',\n",
              " 'differentiate',\n",
              " 'Grade',\n",
              " 'A Stage',\n",
              " 'Estrogen Status',\n",
              " 'Progesterone Status']"
            ]
          },
          "metadata": {},
          "execution_count": 32
        }
      ]
    },
    {
      "cell_type": "code",
      "source": [
        "df = pd.get_dummies(df, columns=one_hot_columns, drop_first=True)"
      ],
      "metadata": {
        "id": "cLrFYQzYoLjj"
      },
      "execution_count": 33,
      "outputs": []
    },
    {
      "cell_type": "code",
      "source": [
        "df.head()"
      ],
      "metadata": {
        "colab": {
          "base_uri": "https://localhost:8080/",
          "height": 305
        },
        "id": "WLEim_qzoviW",
        "outputId": "51c3c4b1-3c29-4dff-ac50-29d09623f24d"
      },
      "execution_count": 34,
      "outputs": [
        {
          "output_type": "execute_result",
          "data": {
            "text/plain": [
              "    Age  Tumor Size  Regional Node Examined  Reginol Node Positive  \\\n",
              "0  68.0         4.0                    24.0                    1.0   \n",
              "1  50.0        35.0                    14.0                    5.0   \n",
              "2  58.0        63.0                    14.0                    7.0   \n",
              "3  58.0        18.0                     2.0                    1.0   \n",
              "4  47.0        41.0                     3.0                    1.0   \n",
              "\n",
              "   Survival Months Status  Race_Black  Race_Other  Race_White  \\\n",
              "0             60.0  Alive           0           0           1   \n",
              "1             62.0  Alive           0           0           1   \n",
              "2             75.0  Alive           0           0           1   \n",
              "3             84.0  Alive           0           0           1   \n",
              "4             50.0  Alive           0           0           1   \n",
              "\n",
              "   Marital Status_Divorced  Marital Status_Married  Marital Status_Separated  \\\n",
              "0                        0                       1                         0   \n",
              "1                        0                       1                         0   \n",
              "2                        1                       0                         0   \n",
              "3                        0                       1                         0   \n",
              "4                        0                       1                         0   \n",
              "\n",
              "   Marital Status_Single   Marital Status_Widowed  T Stage _T1  T Stage _T2  \\\n",
              "0                       0                       0            1            0   \n",
              "1                       0                       0            0            1   \n",
              "2                       0                       0            0            0   \n",
              "3                       0                       0            1            0   \n",
              "4                       0                       0            0            1   \n",
              "\n",
              "   T Stage _T3  T Stage _T4  N Stage_N1  N Stage_N2  N Stage_N3  \\\n",
              "0            0            0           1           0           0   \n",
              "1            0            0           0           1           0   \n",
              "2            1            0           0           0           1   \n",
              "3            0            0           1           0           0   \n",
              "4            0            0           1           0           0   \n",
              "\n",
              "   6th Stage_IIA  6th Stage_IIB  6th Stage_IIIA  6th Stage_IIIB  \\\n",
              "0              1              0               0               0   \n",
              "1              0              0               1               0   \n",
              "2              0              0               0               0   \n",
              "3              1              0               0               0   \n",
              "4              0              1               0               0   \n",
              "\n",
              "   6th Stage_IIIC  differentiate_Moderately differentiated  \\\n",
              "0               0                                        0   \n",
              "1               0                                        1   \n",
              "2               1                                        1   \n",
              "3               0                                        0   \n",
              "4               0                                        0   \n",
              "\n",
              "   differentiate_Poorly differentiated  differentiate_Undifferentiated  \\\n",
              "0                                    1                               0   \n",
              "1                                    0                               0   \n",
              "2                                    0                               0   \n",
              "3                                    1                               0   \n",
              "4                                    1                               0   \n",
              "\n",
              "   differentiate_Well differentiated  Grade_ anaplastic; Grade IV  Grade_1  \\\n",
              "0                                  0                            0        0   \n",
              "1                                  0                            0        0   \n",
              "2                                  0                            0        0   \n",
              "3                                  0                            0        0   \n",
              "4                                  0                            0        0   \n",
              "\n",
              "   Grade_2  Grade_3  A Stage_Distant  A Stage_Regional  \\\n",
              "0        0        1                0                 1   \n",
              "1        1        0                0                 1   \n",
              "2        1        0                0                 1   \n",
              "3        0        1                0                 1   \n",
              "4        0        1                0                 1   \n",
              "\n",
              "   Estrogen Status_Negative  Estrogen Status_Positive  \\\n",
              "0                         0                         1   \n",
              "1                         0                         1   \n",
              "2                         0                         1   \n",
              "3                         0                         1   \n",
              "4                         0                         1   \n",
              "\n",
              "   Progesterone Status_Negative  Progesterone Status_Positive  \n",
              "0                             0                             1  \n",
              "1                             0                             1  \n",
              "2                             0                             1  \n",
              "3                             0                             1  \n",
              "4                             0                             1  "
            ],
            "text/html": [
              "\n",
              "  <div id=\"df-a89c58e7-d91b-4080-a12c-1ec2eca9661d\">\n",
              "    <div class=\"colab-df-container\">\n",
              "      <div>\n",
              "<style scoped>\n",
              "    .dataframe tbody tr th:only-of-type {\n",
              "        vertical-align: middle;\n",
              "    }\n",
              "\n",
              "    .dataframe tbody tr th {\n",
              "        vertical-align: top;\n",
              "    }\n",
              "\n",
              "    .dataframe thead th {\n",
              "        text-align: right;\n",
              "    }\n",
              "</style>\n",
              "<table border=\"1\" class=\"dataframe\">\n",
              "  <thead>\n",
              "    <tr style=\"text-align: right;\">\n",
              "      <th></th>\n",
              "      <th>Age</th>\n",
              "      <th>Tumor Size</th>\n",
              "      <th>Regional Node Examined</th>\n",
              "      <th>Reginol Node Positive</th>\n",
              "      <th>Survival Months</th>\n",
              "      <th>Status</th>\n",
              "      <th>Race_Black</th>\n",
              "      <th>Race_Other</th>\n",
              "      <th>Race_White</th>\n",
              "      <th>Marital Status_Divorced</th>\n",
              "      <th>Marital Status_Married</th>\n",
              "      <th>Marital Status_Separated</th>\n",
              "      <th>Marital Status_Single</th>\n",
              "      <th>Marital Status_Widowed</th>\n",
              "      <th>T Stage _T1</th>\n",
              "      <th>T Stage _T2</th>\n",
              "      <th>T Stage _T3</th>\n",
              "      <th>T Stage _T4</th>\n",
              "      <th>N Stage_N1</th>\n",
              "      <th>N Stage_N2</th>\n",
              "      <th>N Stage_N3</th>\n",
              "      <th>6th Stage_IIA</th>\n",
              "      <th>6th Stage_IIB</th>\n",
              "      <th>6th Stage_IIIA</th>\n",
              "      <th>6th Stage_IIIB</th>\n",
              "      <th>6th Stage_IIIC</th>\n",
              "      <th>differentiate_Moderately differentiated</th>\n",
              "      <th>differentiate_Poorly differentiated</th>\n",
              "      <th>differentiate_Undifferentiated</th>\n",
              "      <th>differentiate_Well differentiated</th>\n",
              "      <th>Grade_ anaplastic; Grade IV</th>\n",
              "      <th>Grade_1</th>\n",
              "      <th>Grade_2</th>\n",
              "      <th>Grade_3</th>\n",
              "      <th>A Stage_Distant</th>\n",
              "      <th>A Stage_Regional</th>\n",
              "      <th>Estrogen Status_Negative</th>\n",
              "      <th>Estrogen Status_Positive</th>\n",
              "      <th>Progesterone Status_Negative</th>\n",
              "      <th>Progesterone Status_Positive</th>\n",
              "    </tr>\n",
              "  </thead>\n",
              "  <tbody>\n",
              "    <tr>\n",
              "      <th>0</th>\n",
              "      <td>68.0</td>\n",
              "      <td>4.0</td>\n",
              "      <td>24.0</td>\n",
              "      <td>1.0</td>\n",
              "      <td>60.0</td>\n",
              "      <td>Alive</td>\n",
              "      <td>0</td>\n",
              "      <td>0</td>\n",
              "      <td>1</td>\n",
              "      <td>0</td>\n",
              "      <td>1</td>\n",
              "      <td>0</td>\n",
              "      <td>0</td>\n",
              "      <td>0</td>\n",
              "      <td>1</td>\n",
              "      <td>0</td>\n",
              "      <td>0</td>\n",
              "      <td>0</td>\n",
              "      <td>1</td>\n",
              "      <td>0</td>\n",
              "      <td>0</td>\n",
              "      <td>1</td>\n",
              "      <td>0</td>\n",
              "      <td>0</td>\n",
              "      <td>0</td>\n",
              "      <td>0</td>\n",
              "      <td>0</td>\n",
              "      <td>1</td>\n",
              "      <td>0</td>\n",
              "      <td>0</td>\n",
              "      <td>0</td>\n",
              "      <td>0</td>\n",
              "      <td>0</td>\n",
              "      <td>1</td>\n",
              "      <td>0</td>\n",
              "      <td>1</td>\n",
              "      <td>0</td>\n",
              "      <td>1</td>\n",
              "      <td>0</td>\n",
              "      <td>1</td>\n",
              "    </tr>\n",
              "    <tr>\n",
              "      <th>1</th>\n",
              "      <td>50.0</td>\n",
              "      <td>35.0</td>\n",
              "      <td>14.0</td>\n",
              "      <td>5.0</td>\n",
              "      <td>62.0</td>\n",
              "      <td>Alive</td>\n",
              "      <td>0</td>\n",
              "      <td>0</td>\n",
              "      <td>1</td>\n",
              "      <td>0</td>\n",
              "      <td>1</td>\n",
              "      <td>0</td>\n",
              "      <td>0</td>\n",
              "      <td>0</td>\n",
              "      <td>0</td>\n",
              "      <td>1</td>\n",
              "      <td>0</td>\n",
              "      <td>0</td>\n",
              "      <td>0</td>\n",
              "      <td>1</td>\n",
              "      <td>0</td>\n",
              "      <td>0</td>\n",
              "      <td>0</td>\n",
              "      <td>1</td>\n",
              "      <td>0</td>\n",
              "      <td>0</td>\n",
              "      <td>1</td>\n",
              "      <td>0</td>\n",
              "      <td>0</td>\n",
              "      <td>0</td>\n",
              "      <td>0</td>\n",
              "      <td>0</td>\n",
              "      <td>1</td>\n",
              "      <td>0</td>\n",
              "      <td>0</td>\n",
              "      <td>1</td>\n",
              "      <td>0</td>\n",
              "      <td>1</td>\n",
              "      <td>0</td>\n",
              "      <td>1</td>\n",
              "    </tr>\n",
              "    <tr>\n",
              "      <th>2</th>\n",
              "      <td>58.0</td>\n",
              "      <td>63.0</td>\n",
              "      <td>14.0</td>\n",
              "      <td>7.0</td>\n",
              "      <td>75.0</td>\n",
              "      <td>Alive</td>\n",
              "      <td>0</td>\n",
              "      <td>0</td>\n",
              "      <td>1</td>\n",
              "      <td>1</td>\n",
              "      <td>0</td>\n",
              "      <td>0</td>\n",
              "      <td>0</td>\n",
              "      <td>0</td>\n",
              "      <td>0</td>\n",
              "      <td>0</td>\n",
              "      <td>1</td>\n",
              "      <td>0</td>\n",
              "      <td>0</td>\n",
              "      <td>0</td>\n",
              "      <td>1</td>\n",
              "      <td>0</td>\n",
              "      <td>0</td>\n",
              "      <td>0</td>\n",
              "      <td>0</td>\n",
              "      <td>1</td>\n",
              "      <td>1</td>\n",
              "      <td>0</td>\n",
              "      <td>0</td>\n",
              "      <td>0</td>\n",
              "      <td>0</td>\n",
              "      <td>0</td>\n",
              "      <td>1</td>\n",
              "      <td>0</td>\n",
              "      <td>0</td>\n",
              "      <td>1</td>\n",
              "      <td>0</td>\n",
              "      <td>1</td>\n",
              "      <td>0</td>\n",
              "      <td>1</td>\n",
              "    </tr>\n",
              "    <tr>\n",
              "      <th>3</th>\n",
              "      <td>58.0</td>\n",
              "      <td>18.0</td>\n",
              "      <td>2.0</td>\n",
              "      <td>1.0</td>\n",
              "      <td>84.0</td>\n",
              "      <td>Alive</td>\n",
              "      <td>0</td>\n",
              "      <td>0</td>\n",
              "      <td>1</td>\n",
              "      <td>0</td>\n",
              "      <td>1</td>\n",
              "      <td>0</td>\n",
              "      <td>0</td>\n",
              "      <td>0</td>\n",
              "      <td>1</td>\n",
              "      <td>0</td>\n",
              "      <td>0</td>\n",
              "      <td>0</td>\n",
              "      <td>1</td>\n",
              "      <td>0</td>\n",
              "      <td>0</td>\n",
              "      <td>1</td>\n",
              "      <td>0</td>\n",
              "      <td>0</td>\n",
              "      <td>0</td>\n",
              "      <td>0</td>\n",
              "      <td>0</td>\n",
              "      <td>1</td>\n",
              "      <td>0</td>\n",
              "      <td>0</td>\n",
              "      <td>0</td>\n",
              "      <td>0</td>\n",
              "      <td>0</td>\n",
              "      <td>1</td>\n",
              "      <td>0</td>\n",
              "      <td>1</td>\n",
              "      <td>0</td>\n",
              "      <td>1</td>\n",
              "      <td>0</td>\n",
              "      <td>1</td>\n",
              "    </tr>\n",
              "    <tr>\n",
              "      <th>4</th>\n",
              "      <td>47.0</td>\n",
              "      <td>41.0</td>\n",
              "      <td>3.0</td>\n",
              "      <td>1.0</td>\n",
              "      <td>50.0</td>\n",
              "      <td>Alive</td>\n",
              "      <td>0</td>\n",
              "      <td>0</td>\n",
              "      <td>1</td>\n",
              "      <td>0</td>\n",
              "      <td>1</td>\n",
              "      <td>0</td>\n",
              "      <td>0</td>\n",
              "      <td>0</td>\n",
              "      <td>0</td>\n",
              "      <td>1</td>\n",
              "      <td>0</td>\n",
              "      <td>0</td>\n",
              "      <td>1</td>\n",
              "      <td>0</td>\n",
              "      <td>0</td>\n",
              "      <td>0</td>\n",
              "      <td>1</td>\n",
              "      <td>0</td>\n",
              "      <td>0</td>\n",
              "      <td>0</td>\n",
              "      <td>0</td>\n",
              "      <td>1</td>\n",
              "      <td>0</td>\n",
              "      <td>0</td>\n",
              "      <td>0</td>\n",
              "      <td>0</td>\n",
              "      <td>0</td>\n",
              "      <td>1</td>\n",
              "      <td>0</td>\n",
              "      <td>1</td>\n",
              "      <td>0</td>\n",
              "      <td>1</td>\n",
              "      <td>0</td>\n",
              "      <td>1</td>\n",
              "    </tr>\n",
              "  </tbody>\n",
              "</table>\n",
              "</div>\n",
              "      <button class=\"colab-df-convert\" onclick=\"convertToInteractive('df-a89c58e7-d91b-4080-a12c-1ec2eca9661d')\"\n",
              "              title=\"Convert this dataframe to an interactive table.\"\n",
              "              style=\"display:none;\">\n",
              "        \n",
              "  <svg xmlns=\"http://www.w3.org/2000/svg\" height=\"24px\"viewBox=\"0 0 24 24\"\n",
              "       width=\"24px\">\n",
              "    <path d=\"M0 0h24v24H0V0z\" fill=\"none\"/>\n",
              "    <path d=\"M18.56 5.44l.94 2.06.94-2.06 2.06-.94-2.06-.94-.94-2.06-.94 2.06-2.06.94zm-11 1L8.5 8.5l.94-2.06 2.06-.94-2.06-.94L8.5 2.5l-.94 2.06-2.06.94zm10 10l.94 2.06.94-2.06 2.06-.94-2.06-.94-.94-2.06-.94 2.06-2.06.94z\"/><path d=\"M17.41 7.96l-1.37-1.37c-.4-.4-.92-.59-1.43-.59-.52 0-1.04.2-1.43.59L10.3 9.45l-7.72 7.72c-.78.78-.78 2.05 0 2.83L4 21.41c.39.39.9.59 1.41.59.51 0 1.02-.2 1.41-.59l7.78-7.78 2.81-2.81c.8-.78.8-2.07 0-2.86zM5.41 20L4 18.59l7.72-7.72 1.47 1.35L5.41 20z\"/>\n",
              "  </svg>\n",
              "      </button>\n",
              "      \n",
              "  <style>\n",
              "    .colab-df-container {\n",
              "      display:flex;\n",
              "      flex-wrap:wrap;\n",
              "      gap: 12px;\n",
              "    }\n",
              "\n",
              "    .colab-df-convert {\n",
              "      background-color: #E8F0FE;\n",
              "      border: none;\n",
              "      border-radius: 50%;\n",
              "      cursor: pointer;\n",
              "      display: none;\n",
              "      fill: #1967D2;\n",
              "      height: 32px;\n",
              "      padding: 0 0 0 0;\n",
              "      width: 32px;\n",
              "    }\n",
              "\n",
              "    .colab-df-convert:hover {\n",
              "      background-color: #E2EBFA;\n",
              "      box-shadow: 0px 1px 2px rgba(60, 64, 67, 0.3), 0px 1px 3px 1px rgba(60, 64, 67, 0.15);\n",
              "      fill: #174EA6;\n",
              "    }\n",
              "\n",
              "    [theme=dark] .colab-df-convert {\n",
              "      background-color: #3B4455;\n",
              "      fill: #D2E3FC;\n",
              "    }\n",
              "\n",
              "    [theme=dark] .colab-df-convert:hover {\n",
              "      background-color: #434B5C;\n",
              "      box-shadow: 0px 1px 3px 1px rgba(0, 0, 0, 0.15);\n",
              "      filter: drop-shadow(0px 1px 2px rgba(0, 0, 0, 0.3));\n",
              "      fill: #FFFFFF;\n",
              "    }\n",
              "  </style>\n",
              "\n",
              "      <script>\n",
              "        const buttonEl =\n",
              "          document.querySelector('#df-a89c58e7-d91b-4080-a12c-1ec2eca9661d button.colab-df-convert');\n",
              "        buttonEl.style.display =\n",
              "          google.colab.kernel.accessAllowed ? 'block' : 'none';\n",
              "\n",
              "        async function convertToInteractive(key) {\n",
              "          const element = document.querySelector('#df-a89c58e7-d91b-4080-a12c-1ec2eca9661d');\n",
              "          const dataTable =\n",
              "            await google.colab.kernel.invokeFunction('convertToInteractive',\n",
              "                                                     [key], {});\n",
              "          if (!dataTable) return;\n",
              "\n",
              "          const docLinkHtml = 'Like what you see? Visit the ' +\n",
              "            '<a target=\"_blank\" href=https://colab.research.google.com/notebooks/data_table.ipynb>data table notebook</a>'\n",
              "            + ' to learn more about interactive tables.';\n",
              "          element.innerHTML = '';\n",
              "          dataTable['output_type'] = 'display_data';\n",
              "          await google.colab.output.renderOutput(dataTable, element);\n",
              "          const docLink = document.createElement('div');\n",
              "          docLink.innerHTML = docLinkHtml;\n",
              "          element.appendChild(docLink);\n",
              "        }\n",
              "      </script>\n",
              "    </div>\n",
              "  </div>\n",
              "  "
            ]
          },
          "metadata": {},
          "execution_count": 34
        }
      ]
    },
    {
      "cell_type": "markdown",
      "source": [
        "# Scaling"
      ],
      "metadata": {
        "id": "La6ELGkVo5BG"
      }
    },
    {
      "cell_type": "code",
      "source": [
        "scaler = MinMaxScaler()\n",
        "df[numerical_columns] = scaler.fit_transform(df[numerical_columns])\n",
        "\n",
        "df.head()"
      ],
      "metadata": {
        "colab": {
          "base_uri": "https://localhost:8080/",
          "height": 305
        },
        "id": "vVY1xX6gowKv",
        "outputId": "ee35c7ee-d613-46b2-ab6f-e0aba278aa14"
      },
      "execution_count": 35,
      "outputs": [
        {
          "output_type": "execute_result",
          "data": {
            "text/plain": [
              "        Age  Tumor Size  Regional Node Examined  Reginol Node Positive  \\\n",
              "0  0.981982    0.035714                0.589744                   0.00   \n",
              "1  0.657658    0.404762                0.333333                   0.32   \n",
              "2  0.801802    0.738095                0.333333                   0.48   \n",
              "3  0.801802    0.202381                0.025641                   0.00   \n",
              "4  0.603604    0.476190                0.051282                   0.00   \n",
              "\n",
              "   Survival Months Status  Race_Black  Race_Other  Race_White  \\\n",
              "0         0.556604  Alive           0           0           1   \n",
              "1         0.575472  Alive           0           0           1   \n",
              "2         0.698113  Alive           0           0           1   \n",
              "3         0.783019  Alive           0           0           1   \n",
              "4         0.462264  Alive           0           0           1   \n",
              "\n",
              "   Marital Status_Divorced  Marital Status_Married  Marital Status_Separated  \\\n",
              "0                        0                       1                         0   \n",
              "1                        0                       1                         0   \n",
              "2                        1                       0                         0   \n",
              "3                        0                       1                         0   \n",
              "4                        0                       1                         0   \n",
              "\n",
              "   Marital Status_Single   Marital Status_Widowed  T Stage _T1  T Stage _T2  \\\n",
              "0                       0                       0            1            0   \n",
              "1                       0                       0            0            1   \n",
              "2                       0                       0            0            0   \n",
              "3                       0                       0            1            0   \n",
              "4                       0                       0            0            1   \n",
              "\n",
              "   T Stage _T3  T Stage _T4  N Stage_N1  N Stage_N2  N Stage_N3  \\\n",
              "0            0            0           1           0           0   \n",
              "1            0            0           0           1           0   \n",
              "2            1            0           0           0           1   \n",
              "3            0            0           1           0           0   \n",
              "4            0            0           1           0           0   \n",
              "\n",
              "   6th Stage_IIA  6th Stage_IIB  6th Stage_IIIA  6th Stage_IIIB  \\\n",
              "0              1              0               0               0   \n",
              "1              0              0               1               0   \n",
              "2              0              0               0               0   \n",
              "3              1              0               0               0   \n",
              "4              0              1               0               0   \n",
              "\n",
              "   6th Stage_IIIC  differentiate_Moderately differentiated  \\\n",
              "0               0                                        0   \n",
              "1               0                                        1   \n",
              "2               1                                        1   \n",
              "3               0                                        0   \n",
              "4               0                                        0   \n",
              "\n",
              "   differentiate_Poorly differentiated  differentiate_Undifferentiated  \\\n",
              "0                                    1                               0   \n",
              "1                                    0                               0   \n",
              "2                                    0                               0   \n",
              "3                                    1                               0   \n",
              "4                                    1                               0   \n",
              "\n",
              "   differentiate_Well differentiated  Grade_ anaplastic; Grade IV  Grade_1  \\\n",
              "0                                  0                            0        0   \n",
              "1                                  0                            0        0   \n",
              "2                                  0                            0        0   \n",
              "3                                  0                            0        0   \n",
              "4                                  0                            0        0   \n",
              "\n",
              "   Grade_2  Grade_3  A Stage_Distant  A Stage_Regional  \\\n",
              "0        0        1                0                 1   \n",
              "1        1        0                0                 1   \n",
              "2        1        0                0                 1   \n",
              "3        0        1                0                 1   \n",
              "4        0        1                0                 1   \n",
              "\n",
              "   Estrogen Status_Negative  Estrogen Status_Positive  \\\n",
              "0                         0                         1   \n",
              "1                         0                         1   \n",
              "2                         0                         1   \n",
              "3                         0                         1   \n",
              "4                         0                         1   \n",
              "\n",
              "   Progesterone Status_Negative  Progesterone Status_Positive  \n",
              "0                             0                             1  \n",
              "1                             0                             1  \n",
              "2                             0                             1  \n",
              "3                             0                             1  \n",
              "4                             0                             1  "
            ],
            "text/html": [
              "\n",
              "  <div id=\"df-e63dccbc-41f4-4914-ac83-b0e71e078a94\">\n",
              "    <div class=\"colab-df-container\">\n",
              "      <div>\n",
              "<style scoped>\n",
              "    .dataframe tbody tr th:only-of-type {\n",
              "        vertical-align: middle;\n",
              "    }\n",
              "\n",
              "    .dataframe tbody tr th {\n",
              "        vertical-align: top;\n",
              "    }\n",
              "\n",
              "    .dataframe thead th {\n",
              "        text-align: right;\n",
              "    }\n",
              "</style>\n",
              "<table border=\"1\" class=\"dataframe\">\n",
              "  <thead>\n",
              "    <tr style=\"text-align: right;\">\n",
              "      <th></th>\n",
              "      <th>Age</th>\n",
              "      <th>Tumor Size</th>\n",
              "      <th>Regional Node Examined</th>\n",
              "      <th>Reginol Node Positive</th>\n",
              "      <th>Survival Months</th>\n",
              "      <th>Status</th>\n",
              "      <th>Race_Black</th>\n",
              "      <th>Race_Other</th>\n",
              "      <th>Race_White</th>\n",
              "      <th>Marital Status_Divorced</th>\n",
              "      <th>Marital Status_Married</th>\n",
              "      <th>Marital Status_Separated</th>\n",
              "      <th>Marital Status_Single</th>\n",
              "      <th>Marital Status_Widowed</th>\n",
              "      <th>T Stage _T1</th>\n",
              "      <th>T Stage _T2</th>\n",
              "      <th>T Stage _T3</th>\n",
              "      <th>T Stage _T4</th>\n",
              "      <th>N Stage_N1</th>\n",
              "      <th>N Stage_N2</th>\n",
              "      <th>N Stage_N3</th>\n",
              "      <th>6th Stage_IIA</th>\n",
              "      <th>6th Stage_IIB</th>\n",
              "      <th>6th Stage_IIIA</th>\n",
              "      <th>6th Stage_IIIB</th>\n",
              "      <th>6th Stage_IIIC</th>\n",
              "      <th>differentiate_Moderately differentiated</th>\n",
              "      <th>differentiate_Poorly differentiated</th>\n",
              "      <th>differentiate_Undifferentiated</th>\n",
              "      <th>differentiate_Well differentiated</th>\n",
              "      <th>Grade_ anaplastic; Grade IV</th>\n",
              "      <th>Grade_1</th>\n",
              "      <th>Grade_2</th>\n",
              "      <th>Grade_3</th>\n",
              "      <th>A Stage_Distant</th>\n",
              "      <th>A Stage_Regional</th>\n",
              "      <th>Estrogen Status_Negative</th>\n",
              "      <th>Estrogen Status_Positive</th>\n",
              "      <th>Progesterone Status_Negative</th>\n",
              "      <th>Progesterone Status_Positive</th>\n",
              "    </tr>\n",
              "  </thead>\n",
              "  <tbody>\n",
              "    <tr>\n",
              "      <th>0</th>\n",
              "      <td>0.981982</td>\n",
              "      <td>0.035714</td>\n",
              "      <td>0.589744</td>\n",
              "      <td>0.00</td>\n",
              "      <td>0.556604</td>\n",
              "      <td>Alive</td>\n",
              "      <td>0</td>\n",
              "      <td>0</td>\n",
              "      <td>1</td>\n",
              "      <td>0</td>\n",
              "      <td>1</td>\n",
              "      <td>0</td>\n",
              "      <td>0</td>\n",
              "      <td>0</td>\n",
              "      <td>1</td>\n",
              "      <td>0</td>\n",
              "      <td>0</td>\n",
              "      <td>0</td>\n",
              "      <td>1</td>\n",
              "      <td>0</td>\n",
              "      <td>0</td>\n",
              "      <td>1</td>\n",
              "      <td>0</td>\n",
              "      <td>0</td>\n",
              "      <td>0</td>\n",
              "      <td>0</td>\n",
              "      <td>0</td>\n",
              "      <td>1</td>\n",
              "      <td>0</td>\n",
              "      <td>0</td>\n",
              "      <td>0</td>\n",
              "      <td>0</td>\n",
              "      <td>0</td>\n",
              "      <td>1</td>\n",
              "      <td>0</td>\n",
              "      <td>1</td>\n",
              "      <td>0</td>\n",
              "      <td>1</td>\n",
              "      <td>0</td>\n",
              "      <td>1</td>\n",
              "    </tr>\n",
              "    <tr>\n",
              "      <th>1</th>\n",
              "      <td>0.657658</td>\n",
              "      <td>0.404762</td>\n",
              "      <td>0.333333</td>\n",
              "      <td>0.32</td>\n",
              "      <td>0.575472</td>\n",
              "      <td>Alive</td>\n",
              "      <td>0</td>\n",
              "      <td>0</td>\n",
              "      <td>1</td>\n",
              "      <td>0</td>\n",
              "      <td>1</td>\n",
              "      <td>0</td>\n",
              "      <td>0</td>\n",
              "      <td>0</td>\n",
              "      <td>0</td>\n",
              "      <td>1</td>\n",
              "      <td>0</td>\n",
              "      <td>0</td>\n",
              "      <td>0</td>\n",
              "      <td>1</td>\n",
              "      <td>0</td>\n",
              "      <td>0</td>\n",
              "      <td>0</td>\n",
              "      <td>1</td>\n",
              "      <td>0</td>\n",
              "      <td>0</td>\n",
              "      <td>1</td>\n",
              "      <td>0</td>\n",
              "      <td>0</td>\n",
              "      <td>0</td>\n",
              "      <td>0</td>\n",
              "      <td>0</td>\n",
              "      <td>1</td>\n",
              "      <td>0</td>\n",
              "      <td>0</td>\n",
              "      <td>1</td>\n",
              "      <td>0</td>\n",
              "      <td>1</td>\n",
              "      <td>0</td>\n",
              "      <td>1</td>\n",
              "    </tr>\n",
              "    <tr>\n",
              "      <th>2</th>\n",
              "      <td>0.801802</td>\n",
              "      <td>0.738095</td>\n",
              "      <td>0.333333</td>\n",
              "      <td>0.48</td>\n",
              "      <td>0.698113</td>\n",
              "      <td>Alive</td>\n",
              "      <td>0</td>\n",
              "      <td>0</td>\n",
              "      <td>1</td>\n",
              "      <td>1</td>\n",
              "      <td>0</td>\n",
              "      <td>0</td>\n",
              "      <td>0</td>\n",
              "      <td>0</td>\n",
              "      <td>0</td>\n",
              "      <td>0</td>\n",
              "      <td>1</td>\n",
              "      <td>0</td>\n",
              "      <td>0</td>\n",
              "      <td>0</td>\n",
              "      <td>1</td>\n",
              "      <td>0</td>\n",
              "      <td>0</td>\n",
              "      <td>0</td>\n",
              "      <td>0</td>\n",
              "      <td>1</td>\n",
              "      <td>1</td>\n",
              "      <td>0</td>\n",
              "      <td>0</td>\n",
              "      <td>0</td>\n",
              "      <td>0</td>\n",
              "      <td>0</td>\n",
              "      <td>1</td>\n",
              "      <td>0</td>\n",
              "      <td>0</td>\n",
              "      <td>1</td>\n",
              "      <td>0</td>\n",
              "      <td>1</td>\n",
              "      <td>0</td>\n",
              "      <td>1</td>\n",
              "    </tr>\n",
              "    <tr>\n",
              "      <th>3</th>\n",
              "      <td>0.801802</td>\n",
              "      <td>0.202381</td>\n",
              "      <td>0.025641</td>\n",
              "      <td>0.00</td>\n",
              "      <td>0.783019</td>\n",
              "      <td>Alive</td>\n",
              "      <td>0</td>\n",
              "      <td>0</td>\n",
              "      <td>1</td>\n",
              "      <td>0</td>\n",
              "      <td>1</td>\n",
              "      <td>0</td>\n",
              "      <td>0</td>\n",
              "      <td>0</td>\n",
              "      <td>1</td>\n",
              "      <td>0</td>\n",
              "      <td>0</td>\n",
              "      <td>0</td>\n",
              "      <td>1</td>\n",
              "      <td>0</td>\n",
              "      <td>0</td>\n",
              "      <td>1</td>\n",
              "      <td>0</td>\n",
              "      <td>0</td>\n",
              "      <td>0</td>\n",
              "      <td>0</td>\n",
              "      <td>0</td>\n",
              "      <td>1</td>\n",
              "      <td>0</td>\n",
              "      <td>0</td>\n",
              "      <td>0</td>\n",
              "      <td>0</td>\n",
              "      <td>0</td>\n",
              "      <td>1</td>\n",
              "      <td>0</td>\n",
              "      <td>1</td>\n",
              "      <td>0</td>\n",
              "      <td>1</td>\n",
              "      <td>0</td>\n",
              "      <td>1</td>\n",
              "    </tr>\n",
              "    <tr>\n",
              "      <th>4</th>\n",
              "      <td>0.603604</td>\n",
              "      <td>0.476190</td>\n",
              "      <td>0.051282</td>\n",
              "      <td>0.00</td>\n",
              "      <td>0.462264</td>\n",
              "      <td>Alive</td>\n",
              "      <td>0</td>\n",
              "      <td>0</td>\n",
              "      <td>1</td>\n",
              "      <td>0</td>\n",
              "      <td>1</td>\n",
              "      <td>0</td>\n",
              "      <td>0</td>\n",
              "      <td>0</td>\n",
              "      <td>0</td>\n",
              "      <td>1</td>\n",
              "      <td>0</td>\n",
              "      <td>0</td>\n",
              "      <td>1</td>\n",
              "      <td>0</td>\n",
              "      <td>0</td>\n",
              "      <td>0</td>\n",
              "      <td>1</td>\n",
              "      <td>0</td>\n",
              "      <td>0</td>\n",
              "      <td>0</td>\n",
              "      <td>0</td>\n",
              "      <td>1</td>\n",
              "      <td>0</td>\n",
              "      <td>0</td>\n",
              "      <td>0</td>\n",
              "      <td>0</td>\n",
              "      <td>0</td>\n",
              "      <td>1</td>\n",
              "      <td>0</td>\n",
              "      <td>1</td>\n",
              "      <td>0</td>\n",
              "      <td>1</td>\n",
              "      <td>0</td>\n",
              "      <td>1</td>\n",
              "    </tr>\n",
              "  </tbody>\n",
              "</table>\n",
              "</div>\n",
              "      <button class=\"colab-df-convert\" onclick=\"convertToInteractive('df-e63dccbc-41f4-4914-ac83-b0e71e078a94')\"\n",
              "              title=\"Convert this dataframe to an interactive table.\"\n",
              "              style=\"display:none;\">\n",
              "        \n",
              "  <svg xmlns=\"http://www.w3.org/2000/svg\" height=\"24px\"viewBox=\"0 0 24 24\"\n",
              "       width=\"24px\">\n",
              "    <path d=\"M0 0h24v24H0V0z\" fill=\"none\"/>\n",
              "    <path d=\"M18.56 5.44l.94 2.06.94-2.06 2.06-.94-2.06-.94-.94-2.06-.94 2.06-2.06.94zm-11 1L8.5 8.5l.94-2.06 2.06-.94-2.06-.94L8.5 2.5l-.94 2.06-2.06.94zm10 10l.94 2.06.94-2.06 2.06-.94-2.06-.94-.94-2.06-.94 2.06-2.06.94z\"/><path d=\"M17.41 7.96l-1.37-1.37c-.4-.4-.92-.59-1.43-.59-.52 0-1.04.2-1.43.59L10.3 9.45l-7.72 7.72c-.78.78-.78 2.05 0 2.83L4 21.41c.39.39.9.59 1.41.59.51 0 1.02-.2 1.41-.59l7.78-7.78 2.81-2.81c.8-.78.8-2.07 0-2.86zM5.41 20L4 18.59l7.72-7.72 1.47 1.35L5.41 20z\"/>\n",
              "  </svg>\n",
              "      </button>\n",
              "      \n",
              "  <style>\n",
              "    .colab-df-container {\n",
              "      display:flex;\n",
              "      flex-wrap:wrap;\n",
              "      gap: 12px;\n",
              "    }\n",
              "\n",
              "    .colab-df-convert {\n",
              "      background-color: #E8F0FE;\n",
              "      border: none;\n",
              "      border-radius: 50%;\n",
              "      cursor: pointer;\n",
              "      display: none;\n",
              "      fill: #1967D2;\n",
              "      height: 32px;\n",
              "      padding: 0 0 0 0;\n",
              "      width: 32px;\n",
              "    }\n",
              "\n",
              "    .colab-df-convert:hover {\n",
              "      background-color: #E2EBFA;\n",
              "      box-shadow: 0px 1px 2px rgba(60, 64, 67, 0.3), 0px 1px 3px 1px rgba(60, 64, 67, 0.15);\n",
              "      fill: #174EA6;\n",
              "    }\n",
              "\n",
              "    [theme=dark] .colab-df-convert {\n",
              "      background-color: #3B4455;\n",
              "      fill: #D2E3FC;\n",
              "    }\n",
              "\n",
              "    [theme=dark] .colab-df-convert:hover {\n",
              "      background-color: #434B5C;\n",
              "      box-shadow: 0px 1px 3px 1px rgba(0, 0, 0, 0.15);\n",
              "      filter: drop-shadow(0px 1px 2px rgba(0, 0, 0, 0.3));\n",
              "      fill: #FFFFFF;\n",
              "    }\n",
              "  </style>\n",
              "\n",
              "      <script>\n",
              "        const buttonEl =\n",
              "          document.querySelector('#df-e63dccbc-41f4-4914-ac83-b0e71e078a94 button.colab-df-convert');\n",
              "        buttonEl.style.display =\n",
              "          google.colab.kernel.accessAllowed ? 'block' : 'none';\n",
              "\n",
              "        async function convertToInteractive(key) {\n",
              "          const element = document.querySelector('#df-e63dccbc-41f4-4914-ac83-b0e71e078a94');\n",
              "          const dataTable =\n",
              "            await google.colab.kernel.invokeFunction('convertToInteractive',\n",
              "                                                     [key], {});\n",
              "          if (!dataTable) return;\n",
              "\n",
              "          const docLinkHtml = 'Like what you see? Visit the ' +\n",
              "            '<a target=\"_blank\" href=https://colab.research.google.com/notebooks/data_table.ipynb>data table notebook</a>'\n",
              "            + ' to learn more about interactive tables.';\n",
              "          element.innerHTML = '';\n",
              "          dataTable['output_type'] = 'display_data';\n",
              "          await google.colab.output.renderOutput(dataTable, element);\n",
              "          const docLink = document.createElement('div');\n",
              "          docLink.innerHTML = docLinkHtml;\n",
              "          element.appendChild(docLink);\n",
              "        }\n",
              "      </script>\n",
              "    </div>\n",
              "  </div>\n",
              "  "
            ]
          },
          "metadata": {},
          "execution_count": 35
        }
      ]
    },
    {
      "cell_type": "code",
      "source": [
        "df[\"Status\"].unique()"
      ],
      "metadata": {
        "colab": {
          "base_uri": "https://localhost:8080/"
        },
        "id": "cgwIMGAwS_1l",
        "outputId": "a7052025-36d3-4b63-f33b-137c6c5eca4a"
      },
      "execution_count": 36,
      "outputs": [
        {
          "output_type": "execute_result",
          "data": {
            "text/plain": [
              "array(['Alive', 'Dead', 13.5], dtype=object)"
            ]
          },
          "metadata": {},
          "execution_count": 36
        }
      ]
    },
    {
      "cell_type": "code",
      "source": [
        "index = df[df[\"Status\"] == 13.5].index\n",
        "df.drop(index,inplace = True)"
      ],
      "metadata": {
        "id": "BRpHKqnRS0EH"
      },
      "execution_count": 37,
      "outputs": []
    },
    {
      "cell_type": "code",
      "source": [
        "df[\"Status\"].unique()"
      ],
      "metadata": {
        "colab": {
          "base_uri": "https://localhost:8080/"
        },
        "id": "-0cycGK_Tf-h",
        "outputId": "6498b7bf-c501-407c-e717-f152e8e04289"
      },
      "execution_count": 38,
      "outputs": [
        {
          "output_type": "execute_result",
          "data": {
            "text/plain": [
              "array(['Alive', 'Dead'], dtype=object)"
            ]
          },
          "metadata": {},
          "execution_count": 38
        }
      ]
    },
    {
      "cell_type": "code",
      "source": [
        "df.loc[df[\"Status\"] == \"Alive\",\"New_Status\"] = 1\n",
        "df.loc[df[\"Status\"] == \"Dead\",\"New_Status\"] = 0"
      ],
      "metadata": {
        "id": "qHSbOc8xTkyL"
      },
      "execution_count": 39,
      "outputs": []
    },
    {
      "cell_type": "code",
      "source": [
        "df.head()"
      ],
      "metadata": {
        "colab": {
          "base_uri": "https://localhost:8080/",
          "height": 305
        },
        "id": "PYJ8VPvpTs2f",
        "outputId": "65ca5dd5-3899-4a84-ef03-d8c879d74f86"
      },
      "execution_count": 40,
      "outputs": [
        {
          "output_type": "execute_result",
          "data": {
            "text/plain": [
              "        Age  Tumor Size  Regional Node Examined  Reginol Node Positive  \\\n",
              "0  0.981982    0.035714                0.589744                   0.00   \n",
              "1  0.657658    0.404762                0.333333                   0.32   \n",
              "2  0.801802    0.738095                0.333333                   0.48   \n",
              "3  0.801802    0.202381                0.025641                   0.00   \n",
              "4  0.603604    0.476190                0.051282                   0.00   \n",
              "\n",
              "   Survival Months Status  Race_Black  Race_Other  Race_White  \\\n",
              "0         0.556604  Alive           0           0           1   \n",
              "1         0.575472  Alive           0           0           1   \n",
              "2         0.698113  Alive           0           0           1   \n",
              "3         0.783019  Alive           0           0           1   \n",
              "4         0.462264  Alive           0           0           1   \n",
              "\n",
              "   Marital Status_Divorced  Marital Status_Married  Marital Status_Separated  \\\n",
              "0                        0                       1                         0   \n",
              "1                        0                       1                         0   \n",
              "2                        1                       0                         0   \n",
              "3                        0                       1                         0   \n",
              "4                        0                       1                         0   \n",
              "\n",
              "   Marital Status_Single   Marital Status_Widowed  T Stage _T1  T Stage _T2  \\\n",
              "0                       0                       0            1            0   \n",
              "1                       0                       0            0            1   \n",
              "2                       0                       0            0            0   \n",
              "3                       0                       0            1            0   \n",
              "4                       0                       0            0            1   \n",
              "\n",
              "   T Stage _T3  T Stage _T4  N Stage_N1  N Stage_N2  N Stage_N3  \\\n",
              "0            0            0           1           0           0   \n",
              "1            0            0           0           1           0   \n",
              "2            1            0           0           0           1   \n",
              "3            0            0           1           0           0   \n",
              "4            0            0           1           0           0   \n",
              "\n",
              "   6th Stage_IIA  6th Stage_IIB  6th Stage_IIIA  6th Stage_IIIB  \\\n",
              "0              1              0               0               0   \n",
              "1              0              0               1               0   \n",
              "2              0              0               0               0   \n",
              "3              1              0               0               0   \n",
              "4              0              1               0               0   \n",
              "\n",
              "   6th Stage_IIIC  differentiate_Moderately differentiated  \\\n",
              "0               0                                        0   \n",
              "1               0                                        1   \n",
              "2               1                                        1   \n",
              "3               0                                        0   \n",
              "4               0                                        0   \n",
              "\n",
              "   differentiate_Poorly differentiated  differentiate_Undifferentiated  \\\n",
              "0                                    1                               0   \n",
              "1                                    0                               0   \n",
              "2                                    0                               0   \n",
              "3                                    1                               0   \n",
              "4                                    1                               0   \n",
              "\n",
              "   differentiate_Well differentiated  Grade_ anaplastic; Grade IV  Grade_1  \\\n",
              "0                                  0                            0        0   \n",
              "1                                  0                            0        0   \n",
              "2                                  0                            0        0   \n",
              "3                                  0                            0        0   \n",
              "4                                  0                            0        0   \n",
              "\n",
              "   Grade_2  Grade_3  A Stage_Distant  A Stage_Regional  \\\n",
              "0        0        1                0                 1   \n",
              "1        1        0                0                 1   \n",
              "2        1        0                0                 1   \n",
              "3        0        1                0                 1   \n",
              "4        0        1                0                 1   \n",
              "\n",
              "   Estrogen Status_Negative  Estrogen Status_Positive  \\\n",
              "0                         0                         1   \n",
              "1                         0                         1   \n",
              "2                         0                         1   \n",
              "3                         0                         1   \n",
              "4                         0                         1   \n",
              "\n",
              "   Progesterone Status_Negative  Progesterone Status_Positive  New_Status  \n",
              "0                             0                             1         1.0  \n",
              "1                             0                             1         1.0  \n",
              "2                             0                             1         1.0  \n",
              "3                             0                             1         1.0  \n",
              "4                             0                             1         1.0  "
            ],
            "text/html": [
              "\n",
              "  <div id=\"df-37b5e19b-5499-421d-a336-a7f3c7ca0f61\">\n",
              "    <div class=\"colab-df-container\">\n",
              "      <div>\n",
              "<style scoped>\n",
              "    .dataframe tbody tr th:only-of-type {\n",
              "        vertical-align: middle;\n",
              "    }\n",
              "\n",
              "    .dataframe tbody tr th {\n",
              "        vertical-align: top;\n",
              "    }\n",
              "\n",
              "    .dataframe thead th {\n",
              "        text-align: right;\n",
              "    }\n",
              "</style>\n",
              "<table border=\"1\" class=\"dataframe\">\n",
              "  <thead>\n",
              "    <tr style=\"text-align: right;\">\n",
              "      <th></th>\n",
              "      <th>Age</th>\n",
              "      <th>Tumor Size</th>\n",
              "      <th>Regional Node Examined</th>\n",
              "      <th>Reginol Node Positive</th>\n",
              "      <th>Survival Months</th>\n",
              "      <th>Status</th>\n",
              "      <th>Race_Black</th>\n",
              "      <th>Race_Other</th>\n",
              "      <th>Race_White</th>\n",
              "      <th>Marital Status_Divorced</th>\n",
              "      <th>Marital Status_Married</th>\n",
              "      <th>Marital Status_Separated</th>\n",
              "      <th>Marital Status_Single</th>\n",
              "      <th>Marital Status_Widowed</th>\n",
              "      <th>T Stage _T1</th>\n",
              "      <th>T Stage _T2</th>\n",
              "      <th>T Stage _T3</th>\n",
              "      <th>T Stage _T4</th>\n",
              "      <th>N Stage_N1</th>\n",
              "      <th>N Stage_N2</th>\n",
              "      <th>N Stage_N3</th>\n",
              "      <th>6th Stage_IIA</th>\n",
              "      <th>6th Stage_IIB</th>\n",
              "      <th>6th Stage_IIIA</th>\n",
              "      <th>6th Stage_IIIB</th>\n",
              "      <th>6th Stage_IIIC</th>\n",
              "      <th>differentiate_Moderately differentiated</th>\n",
              "      <th>differentiate_Poorly differentiated</th>\n",
              "      <th>differentiate_Undifferentiated</th>\n",
              "      <th>differentiate_Well differentiated</th>\n",
              "      <th>Grade_ anaplastic; Grade IV</th>\n",
              "      <th>Grade_1</th>\n",
              "      <th>Grade_2</th>\n",
              "      <th>Grade_3</th>\n",
              "      <th>A Stage_Distant</th>\n",
              "      <th>A Stage_Regional</th>\n",
              "      <th>Estrogen Status_Negative</th>\n",
              "      <th>Estrogen Status_Positive</th>\n",
              "      <th>Progesterone Status_Negative</th>\n",
              "      <th>Progesterone Status_Positive</th>\n",
              "      <th>New_Status</th>\n",
              "    </tr>\n",
              "  </thead>\n",
              "  <tbody>\n",
              "    <tr>\n",
              "      <th>0</th>\n",
              "      <td>0.981982</td>\n",
              "      <td>0.035714</td>\n",
              "      <td>0.589744</td>\n",
              "      <td>0.00</td>\n",
              "      <td>0.556604</td>\n",
              "      <td>Alive</td>\n",
              "      <td>0</td>\n",
              "      <td>0</td>\n",
              "      <td>1</td>\n",
              "      <td>0</td>\n",
              "      <td>1</td>\n",
              "      <td>0</td>\n",
              "      <td>0</td>\n",
              "      <td>0</td>\n",
              "      <td>1</td>\n",
              "      <td>0</td>\n",
              "      <td>0</td>\n",
              "      <td>0</td>\n",
              "      <td>1</td>\n",
              "      <td>0</td>\n",
              "      <td>0</td>\n",
              "      <td>1</td>\n",
              "      <td>0</td>\n",
              "      <td>0</td>\n",
              "      <td>0</td>\n",
              "      <td>0</td>\n",
              "      <td>0</td>\n",
              "      <td>1</td>\n",
              "      <td>0</td>\n",
              "      <td>0</td>\n",
              "      <td>0</td>\n",
              "      <td>0</td>\n",
              "      <td>0</td>\n",
              "      <td>1</td>\n",
              "      <td>0</td>\n",
              "      <td>1</td>\n",
              "      <td>0</td>\n",
              "      <td>1</td>\n",
              "      <td>0</td>\n",
              "      <td>1</td>\n",
              "      <td>1.0</td>\n",
              "    </tr>\n",
              "    <tr>\n",
              "      <th>1</th>\n",
              "      <td>0.657658</td>\n",
              "      <td>0.404762</td>\n",
              "      <td>0.333333</td>\n",
              "      <td>0.32</td>\n",
              "      <td>0.575472</td>\n",
              "      <td>Alive</td>\n",
              "      <td>0</td>\n",
              "      <td>0</td>\n",
              "      <td>1</td>\n",
              "      <td>0</td>\n",
              "      <td>1</td>\n",
              "      <td>0</td>\n",
              "      <td>0</td>\n",
              "      <td>0</td>\n",
              "      <td>0</td>\n",
              "      <td>1</td>\n",
              "      <td>0</td>\n",
              "      <td>0</td>\n",
              "      <td>0</td>\n",
              "      <td>1</td>\n",
              "      <td>0</td>\n",
              "      <td>0</td>\n",
              "      <td>0</td>\n",
              "      <td>1</td>\n",
              "      <td>0</td>\n",
              "      <td>0</td>\n",
              "      <td>1</td>\n",
              "      <td>0</td>\n",
              "      <td>0</td>\n",
              "      <td>0</td>\n",
              "      <td>0</td>\n",
              "      <td>0</td>\n",
              "      <td>1</td>\n",
              "      <td>0</td>\n",
              "      <td>0</td>\n",
              "      <td>1</td>\n",
              "      <td>0</td>\n",
              "      <td>1</td>\n",
              "      <td>0</td>\n",
              "      <td>1</td>\n",
              "      <td>1.0</td>\n",
              "    </tr>\n",
              "    <tr>\n",
              "      <th>2</th>\n",
              "      <td>0.801802</td>\n",
              "      <td>0.738095</td>\n",
              "      <td>0.333333</td>\n",
              "      <td>0.48</td>\n",
              "      <td>0.698113</td>\n",
              "      <td>Alive</td>\n",
              "      <td>0</td>\n",
              "      <td>0</td>\n",
              "      <td>1</td>\n",
              "      <td>1</td>\n",
              "      <td>0</td>\n",
              "      <td>0</td>\n",
              "      <td>0</td>\n",
              "      <td>0</td>\n",
              "      <td>0</td>\n",
              "      <td>0</td>\n",
              "      <td>1</td>\n",
              "      <td>0</td>\n",
              "      <td>0</td>\n",
              "      <td>0</td>\n",
              "      <td>1</td>\n",
              "      <td>0</td>\n",
              "      <td>0</td>\n",
              "      <td>0</td>\n",
              "      <td>0</td>\n",
              "      <td>1</td>\n",
              "      <td>1</td>\n",
              "      <td>0</td>\n",
              "      <td>0</td>\n",
              "      <td>0</td>\n",
              "      <td>0</td>\n",
              "      <td>0</td>\n",
              "      <td>1</td>\n",
              "      <td>0</td>\n",
              "      <td>0</td>\n",
              "      <td>1</td>\n",
              "      <td>0</td>\n",
              "      <td>1</td>\n",
              "      <td>0</td>\n",
              "      <td>1</td>\n",
              "      <td>1.0</td>\n",
              "    </tr>\n",
              "    <tr>\n",
              "      <th>3</th>\n",
              "      <td>0.801802</td>\n",
              "      <td>0.202381</td>\n",
              "      <td>0.025641</td>\n",
              "      <td>0.00</td>\n",
              "      <td>0.783019</td>\n",
              "      <td>Alive</td>\n",
              "      <td>0</td>\n",
              "      <td>0</td>\n",
              "      <td>1</td>\n",
              "      <td>0</td>\n",
              "      <td>1</td>\n",
              "      <td>0</td>\n",
              "      <td>0</td>\n",
              "      <td>0</td>\n",
              "      <td>1</td>\n",
              "      <td>0</td>\n",
              "      <td>0</td>\n",
              "      <td>0</td>\n",
              "      <td>1</td>\n",
              "      <td>0</td>\n",
              "      <td>0</td>\n",
              "      <td>1</td>\n",
              "      <td>0</td>\n",
              "      <td>0</td>\n",
              "      <td>0</td>\n",
              "      <td>0</td>\n",
              "      <td>0</td>\n",
              "      <td>1</td>\n",
              "      <td>0</td>\n",
              "      <td>0</td>\n",
              "      <td>0</td>\n",
              "      <td>0</td>\n",
              "      <td>0</td>\n",
              "      <td>1</td>\n",
              "      <td>0</td>\n",
              "      <td>1</td>\n",
              "      <td>0</td>\n",
              "      <td>1</td>\n",
              "      <td>0</td>\n",
              "      <td>1</td>\n",
              "      <td>1.0</td>\n",
              "    </tr>\n",
              "    <tr>\n",
              "      <th>4</th>\n",
              "      <td>0.603604</td>\n",
              "      <td>0.476190</td>\n",
              "      <td>0.051282</td>\n",
              "      <td>0.00</td>\n",
              "      <td>0.462264</td>\n",
              "      <td>Alive</td>\n",
              "      <td>0</td>\n",
              "      <td>0</td>\n",
              "      <td>1</td>\n",
              "      <td>0</td>\n",
              "      <td>1</td>\n",
              "      <td>0</td>\n",
              "      <td>0</td>\n",
              "      <td>0</td>\n",
              "      <td>0</td>\n",
              "      <td>1</td>\n",
              "      <td>0</td>\n",
              "      <td>0</td>\n",
              "      <td>1</td>\n",
              "      <td>0</td>\n",
              "      <td>0</td>\n",
              "      <td>0</td>\n",
              "      <td>1</td>\n",
              "      <td>0</td>\n",
              "      <td>0</td>\n",
              "      <td>0</td>\n",
              "      <td>0</td>\n",
              "      <td>1</td>\n",
              "      <td>0</td>\n",
              "      <td>0</td>\n",
              "      <td>0</td>\n",
              "      <td>0</td>\n",
              "      <td>0</td>\n",
              "      <td>1</td>\n",
              "      <td>0</td>\n",
              "      <td>1</td>\n",
              "      <td>0</td>\n",
              "      <td>1</td>\n",
              "      <td>0</td>\n",
              "      <td>1</td>\n",
              "      <td>1.0</td>\n",
              "    </tr>\n",
              "  </tbody>\n",
              "</table>\n",
              "</div>\n",
              "      <button class=\"colab-df-convert\" onclick=\"convertToInteractive('df-37b5e19b-5499-421d-a336-a7f3c7ca0f61')\"\n",
              "              title=\"Convert this dataframe to an interactive table.\"\n",
              "              style=\"display:none;\">\n",
              "        \n",
              "  <svg xmlns=\"http://www.w3.org/2000/svg\" height=\"24px\"viewBox=\"0 0 24 24\"\n",
              "       width=\"24px\">\n",
              "    <path d=\"M0 0h24v24H0V0z\" fill=\"none\"/>\n",
              "    <path d=\"M18.56 5.44l.94 2.06.94-2.06 2.06-.94-2.06-.94-.94-2.06-.94 2.06-2.06.94zm-11 1L8.5 8.5l.94-2.06 2.06-.94-2.06-.94L8.5 2.5l-.94 2.06-2.06.94zm10 10l.94 2.06.94-2.06 2.06-.94-2.06-.94-.94-2.06-.94 2.06-2.06.94z\"/><path d=\"M17.41 7.96l-1.37-1.37c-.4-.4-.92-.59-1.43-.59-.52 0-1.04.2-1.43.59L10.3 9.45l-7.72 7.72c-.78.78-.78 2.05 0 2.83L4 21.41c.39.39.9.59 1.41.59.51 0 1.02-.2 1.41-.59l7.78-7.78 2.81-2.81c.8-.78.8-2.07 0-2.86zM5.41 20L4 18.59l7.72-7.72 1.47 1.35L5.41 20z\"/>\n",
              "  </svg>\n",
              "      </button>\n",
              "      \n",
              "  <style>\n",
              "    .colab-df-container {\n",
              "      display:flex;\n",
              "      flex-wrap:wrap;\n",
              "      gap: 12px;\n",
              "    }\n",
              "\n",
              "    .colab-df-convert {\n",
              "      background-color: #E8F0FE;\n",
              "      border: none;\n",
              "      border-radius: 50%;\n",
              "      cursor: pointer;\n",
              "      display: none;\n",
              "      fill: #1967D2;\n",
              "      height: 32px;\n",
              "      padding: 0 0 0 0;\n",
              "      width: 32px;\n",
              "    }\n",
              "\n",
              "    .colab-df-convert:hover {\n",
              "      background-color: #E2EBFA;\n",
              "      box-shadow: 0px 1px 2px rgba(60, 64, 67, 0.3), 0px 1px 3px 1px rgba(60, 64, 67, 0.15);\n",
              "      fill: #174EA6;\n",
              "    }\n",
              "\n",
              "    [theme=dark] .colab-df-convert {\n",
              "      background-color: #3B4455;\n",
              "      fill: #D2E3FC;\n",
              "    }\n",
              "\n",
              "    [theme=dark] .colab-df-convert:hover {\n",
              "      background-color: #434B5C;\n",
              "      box-shadow: 0px 1px 3px 1px rgba(0, 0, 0, 0.15);\n",
              "      filter: drop-shadow(0px 1px 2px rgba(0, 0, 0, 0.3));\n",
              "      fill: #FFFFFF;\n",
              "    }\n",
              "  </style>\n",
              "\n",
              "      <script>\n",
              "        const buttonEl =\n",
              "          document.querySelector('#df-37b5e19b-5499-421d-a336-a7f3c7ca0f61 button.colab-df-convert');\n",
              "        buttonEl.style.display =\n",
              "          google.colab.kernel.accessAllowed ? 'block' : 'none';\n",
              "\n",
              "        async function convertToInteractive(key) {\n",
              "          const element = document.querySelector('#df-37b5e19b-5499-421d-a336-a7f3c7ca0f61');\n",
              "          const dataTable =\n",
              "            await google.colab.kernel.invokeFunction('convertToInteractive',\n",
              "                                                     [key], {});\n",
              "          if (!dataTable) return;\n",
              "\n",
              "          const docLinkHtml = 'Like what you see? Visit the ' +\n",
              "            '<a target=\"_blank\" href=https://colab.research.google.com/notebooks/data_table.ipynb>data table notebook</a>'\n",
              "            + ' to learn more about interactive tables.';\n",
              "          element.innerHTML = '';\n",
              "          dataTable['output_type'] = 'display_data';\n",
              "          await google.colab.output.renderOutput(dataTable, element);\n",
              "          const docLink = document.createElement('div');\n",
              "          docLink.innerHTML = docLinkHtml;\n",
              "          element.appendChild(docLink);\n",
              "        }\n",
              "      </script>\n",
              "    </div>\n",
              "  </div>\n",
              "  "
            ]
          },
          "metadata": {},
          "execution_count": 40
        }
      ]
    },
    {
      "cell_type": "markdown",
      "source": [
        "# Model"
      ],
      "metadata": {
        "id": "vayf97vCpNQO"
      }
    },
    {
      "cell_type": "code",
      "source": [
        "X = df.drop([\"Status\",\"New_Status\"],axis = 1)\n",
        "y = df[\"New_Status\"]"
      ],
      "metadata": {
        "id": "eA-3WMZqUdBP"
      },
      "execution_count": 41,
      "outputs": []
    },
    {
      "cell_type": "code",
      "source": [
        "X_train,X_test,y_train,y_test = train_test_split(X,y,test_size = 0.3,random_state = 16)"
      ],
      "metadata": {
        "id": "vqlG20UtV6Uj"
      },
      "execution_count": 42,
      "outputs": []
    },
    {
      "cell_type": "markdown",
      "source": [
        "## Logistic Regression"
      ],
      "metadata": {
        "id": "0cC8D6hjUXLe"
      }
    },
    {
      "cell_type": "markdown",
      "source": [
        "### Holdout"
      ],
      "metadata": {
        "id": "NF2002Y_Xjth"
      }
    },
    {
      "cell_type": "code",
      "source": [
        "logistic_regression_model = LogisticRegression().fit(X_train,y_train)"
      ],
      "metadata": {
        "id": "TuqtZD8sUZW9"
      },
      "execution_count": 43,
      "outputs": []
    },
    {
      "cell_type": "code",
      "source": [
        "logistic_regression_pred = logistic_regression_model.predict(X_test)"
      ],
      "metadata": {
        "id": "5AeRP-NpWJzg"
      },
      "execution_count": 44,
      "outputs": []
    },
    {
      "cell_type": "code",
      "source": [
        "print(classification_report(y_test,logistic_regression_pred))"
      ],
      "metadata": {
        "colab": {
          "base_uri": "https://localhost:8080/"
        },
        "id": "Hr6vsdn4WmVl",
        "outputId": "05cd1460-c6a5-4908-b790-a11edd3d7a47"
      },
      "execution_count": 45,
      "outputs": [
        {
          "output_type": "stream",
          "name": "stdout",
          "text": [
            "              precision    recall  f1-score   support\n",
            "\n",
            "         0.0       0.79      0.34      0.47       148\n",
            "         1.0       0.91      0.99      0.94       949\n",
            "\n",
            "    accuracy                           0.90      1097\n",
            "   macro avg       0.85      0.66      0.71      1097\n",
            "weighted avg       0.89      0.90      0.88      1097\n",
            "\n"
          ]
        }
      ]
    },
    {
      "cell_type": "markdown",
      "source": [
        "### Cross Validation"
      ],
      "metadata": {
        "id": "hAq7mse5Xr5g"
      }
    },
    {
      "cell_type": "code",
      "source": [
        "logistic_regression_cross_val_model = LogisticRegression().fit(X_train,y_train)"
      ],
      "metadata": {
        "id": "H_1IHv78WrSL"
      },
      "execution_count": 46,
      "outputs": []
    },
    {
      "cell_type": "code",
      "source": [
        "cv_result_logi_reg = cross_validate(logistic_regression_cross_val_model,\n",
        "                                    X_test,y_test,\n",
        "                                    cv=5,\n",
        "                                    scoring=[\"accuracy\",\"f1\",\"roc_auc\",\"precision\",\"recall\"])"
      ],
      "metadata": {
        "id": "itDDA2yXW4mi"
      },
      "execution_count": 47,
      "outputs": []
    },
    {
      "cell_type": "code",
      "source": [
        "for i in cv_result_logi_reg:\n",
        "  print(i,\": \",cv_result_logi_reg[i].mean())"
      ],
      "metadata": {
        "colab": {
          "base_uri": "https://localhost:8080/"
        },
        "id": "mMh2qoJkXQ5N",
        "outputId": "96b9dc92-87e2-424f-d613-9425ba83383e"
      },
      "execution_count": 48,
      "outputs": [
        {
          "output_type": "stream",
          "name": "stdout",
          "text": [
            "fit_time :  0.03796706199645996\n",
            "score_time :  0.012479209899902343\n",
            "test_accuracy :  0.8988127853881277\n",
            "test_f1 :  0.9439774113473899\n",
            "test_roc_auc :  0.8632715313187183\n",
            "test_precision :  0.9060621922919114\n",
            "test_recall :  0.9852408799777221\n"
          ]
        }
      ]
    },
    {
      "cell_type": "markdown",
      "source": [
        "## KNN"
      ],
      "metadata": {
        "id": "RqifLLE1X8ps"
      }
    },
    {
      "cell_type": "markdown",
      "source": [
        "### Holdout"
      ],
      "metadata": {
        "id": "dfblbGkWYAn3"
      }
    },
    {
      "cell_type": "code",
      "source": [
        "knn_holdout_model = KNeighborsClassifier(n_neighbors = 5).fit(X_train,y_train)"
      ],
      "metadata": {
        "id": "CkRCkb2aX7JQ"
      },
      "execution_count": 49,
      "outputs": []
    },
    {
      "cell_type": "code",
      "source": [
        "knn_holdout_pred = knn_holdout_model.predict(X_test)"
      ],
      "metadata": {
        "id": "6rzq3V6tXcYn"
      },
      "execution_count": 50,
      "outputs": []
    },
    {
      "cell_type": "code",
      "source": [
        "print(classification_report(y_test,knn_holdout_pred))"
      ],
      "metadata": {
        "colab": {
          "base_uri": "https://localhost:8080/"
        },
        "id": "qNkCftarYWci",
        "outputId": "c22df0cb-2266-4b48-f42c-603a15c0954e"
      },
      "execution_count": 51,
      "outputs": [
        {
          "output_type": "stream",
          "name": "stdout",
          "text": [
            "              precision    recall  f1-score   support\n",
            "\n",
            "         0.0       0.56      0.14      0.22       148\n",
            "         1.0       0.88      0.98      0.93       949\n",
            "\n",
            "    accuracy                           0.87      1097\n",
            "   macro avg       0.72      0.56      0.57      1097\n",
            "weighted avg       0.84      0.87      0.83      1097\n",
            "\n"
          ]
        }
      ]
    },
    {
      "cell_type": "markdown",
      "source": [
        "### Cross Validation"
      ],
      "metadata": {
        "id": "F8Q2B37dYeof"
      }
    },
    {
      "cell_type": "code",
      "source": [
        "knn_cross_val_model = KNeighborsClassifier().fit(X_train,y_train)"
      ],
      "metadata": {
        "id": "MNOC4ZdYYa3m"
      },
      "execution_count": 52,
      "outputs": []
    },
    {
      "cell_type": "code",
      "source": [
        "cross_val_knn = cross_validate(knn_cross_val_model,\n",
        "                               X_test,y_test,\n",
        "                               cv=5,\n",
        "                               scoring=[\"accuracy\",\"f1\",\"roc_auc\",\"precision\",\"recall\"])"
      ],
      "metadata": {
        "id": "Nn8XvCG_YrKn"
      },
      "execution_count": 53,
      "outputs": []
    },
    {
      "cell_type": "code",
      "source": [
        "for i in cross_val_knn:\n",
        "  print(i,\": \",cross_val_knn[i].mean())"
      ],
      "metadata": {
        "colab": {
          "base_uri": "https://localhost:8080/"
        },
        "id": "bsHLb3ZFY7d6",
        "outputId": "0fe9df26-1011-417b-be8c-6c3befa88a06"
      },
      "execution_count": 54,
      "outputs": [
        {
          "output_type": "stream",
          "name": "stdout",
          "text": [
            "fit_time :  0.0043429374694824215\n",
            "score_time :  0.033273172378540036\n",
            "test_accuracy :  0.8659941884599419\n",
            "test_f1 :  0.9268769867250229\n",
            "test_roc_auc :  0.7235787937276142\n",
            "test_precision :  0.8777113758855727\n",
            "test_recall :  0.982066276803119\n"
          ]
        }
      ]
    },
    {
      "cell_type": "markdown",
      "source": [
        "## Decision Tree Classifier"
      ],
      "metadata": {
        "id": "rydQ7kYgZPLz"
      }
    },
    {
      "cell_type": "markdown",
      "source": [
        "### Holdout"
      ],
      "metadata": {
        "id": "ilMv1o5BZS3H"
      }
    },
    {
      "cell_type": "code",
      "source": [
        "decision_tree_holdout_model = DecisionTreeClassifier().fit(X_train,y_train)"
      ],
      "metadata": {
        "id": "jD68uE8_ZJd0"
      },
      "execution_count": 55,
      "outputs": []
    },
    {
      "cell_type": "code",
      "source": [
        "decision_tree_pred = decision_tree_holdout_model.predict(X_test)"
      ],
      "metadata": {
        "id": "uMWUUNmvZJqx"
      },
      "execution_count": 56,
      "outputs": []
    },
    {
      "cell_type": "code",
      "source": [
        "print(classification_report(y_test,decision_tree_pred))"
      ],
      "metadata": {
        "colab": {
          "base_uri": "https://localhost:8080/"
        },
        "id": "v5qBEqzJZq9J",
        "outputId": "5e913249-928e-4411-8ca8-e29305fa1805"
      },
      "execution_count": 57,
      "outputs": [
        {
          "output_type": "stream",
          "name": "stdout",
          "text": [
            "              precision    recall  f1-score   support\n",
            "\n",
            "         0.0       0.49      0.52      0.51       148\n",
            "         1.0       0.92      0.92      0.92       949\n",
            "\n",
            "    accuracy                           0.86      1097\n",
            "   macro avg       0.71      0.72      0.71      1097\n",
            "weighted avg       0.87      0.86      0.86      1097\n",
            "\n"
          ]
        }
      ]
    },
    {
      "cell_type": "markdown",
      "source": [
        "### Cross Validation"
      ],
      "metadata": {
        "id": "_DmNmcJjZzG2"
      }
    },
    {
      "cell_type": "code",
      "source": [
        "cross_val_decision_tree_model = DecisionTreeClassifier().fit(X_train,y_train)"
      ],
      "metadata": {
        "id": "t2SDzlHOZrAC"
      },
      "execution_count": 58,
      "outputs": []
    },
    {
      "cell_type": "code",
      "source": [
        "cv_decision_tree = cross_validate(cross_val_decision_tree_model,\n",
        "                                  X_test,y_test,\n",
        "                                  cv=5,\n",
        "                                  scoring=[\"accuracy\",\"f1\",\"roc_auc\",\"precision\",\"recall\"])"
      ],
      "metadata": {
        "id": "A7ynu8N-ZrCo"
      },
      "execution_count": 59,
      "outputs": []
    },
    {
      "cell_type": "code",
      "source": [
        "for i in cv_decision_tree:\n",
        "  print(i,\": \",cv_decision_tree[i].mean())"
      ],
      "metadata": {
        "colab": {
          "base_uri": "https://localhost:8080/"
        },
        "id": "MJ69B3cHaRBa",
        "outputId": "85b5b305-1eed-4560-bbd9-976d3540ede2"
      },
      "execution_count": 60,
      "outputs": [
        {
          "output_type": "stream",
          "name": "stdout",
          "text": [
            "fit_time :  0.008345365524291992\n",
            "score_time :  0.009133005142211914\n",
            "test_accuracy :  0.8814528850145289\n",
            "test_f1 :  0.9313370946696079\n",
            "test_roc_auc :  0.7547518220839455\n",
            "test_precision :  0.9349995575253308\n",
            "test_recall :  0.9283542188805347\n"
          ]
        }
      ]
    },
    {
      "cell_type": "markdown",
      "source": [
        "## Random Forest"
      ],
      "metadata": {
        "id": "YLGirA90avqL"
      }
    },
    {
      "cell_type": "markdown",
      "source": [
        "### Holdout"
      ],
      "metadata": {
        "id": "T2tyOscnaz77"
      }
    },
    {
      "cell_type": "code",
      "source": [
        "random_forest_hol_model = RandomForestClassifier(random_state = 16).fit(X_train,y_train)"
      ],
      "metadata": {
        "id": "QGaqH8TTay6k"
      },
      "execution_count": 61,
      "outputs": []
    },
    {
      "cell_type": "code",
      "source": [
        "random_forest_pred = random_forest_hol_model.predict(X_test)"
      ],
      "metadata": {
        "id": "bEPehSnwa_2o"
      },
      "execution_count": 62,
      "outputs": []
    },
    {
      "cell_type": "code",
      "source": [
        "print(classification_report(y_test,random_forest_pred))"
      ],
      "metadata": {
        "colab": {
          "base_uri": "https://localhost:8080/"
        },
        "id": "FIex-No5a_5w",
        "outputId": "d21fc4ca-0621-4cbd-d340-1a743c8d4bc8"
      },
      "execution_count": 63,
      "outputs": [
        {
          "output_type": "stream",
          "name": "stdout",
          "text": [
            "              precision    recall  f1-score   support\n",
            "\n",
            "         0.0       0.82      0.42      0.55       148\n",
            "         1.0       0.92      0.99      0.95       949\n",
            "\n",
            "    accuracy                           0.91      1097\n",
            "   macro avg       0.87      0.70      0.75      1097\n",
            "weighted avg       0.90      0.91      0.90      1097\n",
            "\n"
          ]
        }
      ]
    },
    {
      "cell_type": "markdown",
      "source": [
        "### Cross Validation"
      ],
      "metadata": {
        "id": "ldLA2ewLbRJS"
      }
    },
    {
      "cell_type": "code",
      "source": [
        "random_forest_cross_val_model = RandomForestClassifier(random_state = 16).fit(X_train,y_train)"
      ],
      "metadata": {
        "id": "O61sIgupa_87"
      },
      "execution_count": 64,
      "outputs": []
    },
    {
      "cell_type": "code",
      "source": [
        "cv_random_forest = cross_validate(random_forest_cross_val_model,\n",
        "                                    X_test,y_test,\n",
        "                                    cv =5,\n",
        "                                     scoring=[\"accuracy\",\"f1\",\"roc_auc\",\"precision\",\"recall\"])"
      ],
      "metadata": {
        "id": "01RMJc0gbAAI"
      },
      "execution_count": 65,
      "outputs": []
    },
    {
      "cell_type": "code",
      "source": [
        "for i in cv_random_forest:\n",
        "  print(i,\": \",cv_random_forest[i].mean())"
      ],
      "metadata": {
        "colab": {
          "base_uri": "https://localhost:8080/"
        },
        "id": "z54tmqITbbXo",
        "outputId": "1f97bffa-91a8-4925-a6bb-ad3a8ade05e8"
      },
      "execution_count": 66,
      "outputs": [
        {
          "output_type": "stream",
          "name": "stdout",
          "text": [
            "fit_time :  0.19895997047424316\n",
            "score_time :  0.039190149307250975\n",
            "test_accuracy :  0.9161311747613118\n",
            "test_f1 :  0.953096754371898\n",
            "test_roc_auc :  0.8687864584833731\n",
            "test_precision :  0.9240038033149014\n",
            "test_recall :  0.9841771094402674\n"
          ]
        }
      ]
    },
    {
      "cell_type": "markdown",
      "source": [
        "## Gradient Boosting"
      ],
      "metadata": {
        "id": "G8VUajulb2XJ"
      }
    },
    {
      "cell_type": "markdown",
      "source": [
        "### Holdout"
      ],
      "metadata": {
        "id": "0nUpWvufb8KL"
      }
    },
    {
      "cell_type": "code",
      "source": [
        "grad_boost_holdout_model = GradientBoostingClassifier(random_state = 16).fit(X_train,y_train)"
      ],
      "metadata": {
        "id": "-gIGaGq3bbaC"
      },
      "execution_count": 67,
      "outputs": []
    },
    {
      "cell_type": "code",
      "source": [
        "grad_boost_hol_pred = grad_boost_holdout_model.predict(X_test)"
      ],
      "metadata": {
        "id": "u3uJsvHZbbco"
      },
      "execution_count": 68,
      "outputs": []
    },
    {
      "cell_type": "code",
      "source": [
        "print(classification_report(y_test,grad_boost_hol_pred))"
      ],
      "metadata": {
        "colab": {
          "base_uri": "https://localhost:8080/"
        },
        "id": "dOhAz0V0cLJb",
        "outputId": "fedb3c2c-c1eb-4eb4-8c46-281793d6713b"
      },
      "execution_count": 69,
      "outputs": [
        {
          "output_type": "stream",
          "name": "stdout",
          "text": [
            "              precision    recall  f1-score   support\n",
            "\n",
            "         0.0       0.78      0.49      0.60       148\n",
            "         1.0       0.93      0.98      0.95       949\n",
            "\n",
            "    accuracy                           0.91      1097\n",
            "   macro avg       0.85      0.74      0.78      1097\n",
            "weighted avg       0.91      0.91      0.90      1097\n",
            "\n"
          ]
        }
      ]
    },
    {
      "cell_type": "markdown",
      "source": [
        "### Cross Validation"
      ],
      "metadata": {
        "id": "HJ3uRKz5cScg"
      }
    },
    {
      "cell_type": "code",
      "source": [
        "grad_boost_cross_val_model = GradientBoostingClassifier(random_state = 16).fit(X_train,y_train)"
      ],
      "metadata": {
        "id": "GQANctpEcLL_"
      },
      "execution_count": 70,
      "outputs": []
    },
    {
      "cell_type": "code",
      "source": [
        "grad_boost_cv = cross_validate(grad_boost_cross_val_model,\n",
        "                               X_test,y_test,\n",
        "                               cv=5,\n",
        "                               scoring=[\"accuracy\",\"f1\",\"roc_auc\",\"precision\",\"recall\"])"
      ],
      "metadata": {
        "id": "qov8Iv7jcLOi"
      },
      "execution_count": 71,
      "outputs": []
    },
    {
      "cell_type": "code",
      "source": [
        "for i in grad_boost_cv:\n",
        "  print(i,\": \",grad_boost_cv[i].mean())"
      ],
      "metadata": {
        "colab": {
          "base_uri": "https://localhost:8080/"
        },
        "id": "YNbVz654cLRi",
        "outputId": "016a417e-431b-492b-f969-fb26e7b60d36"
      },
      "execution_count": 72,
      "outputs": [
        {
          "output_type": "stream",
          "name": "stdout",
          "text": [
            "fit_time :  0.18610696792602538\n",
            "score_time :  0.009679126739501952\n",
            "test_accuracy :  0.9133997509339975\n",
            "test_f1 :  0.9508907985602553\n",
            "test_roc_auc :  0.8878543165064642\n",
            "test_precision :  0.934118489910041\n",
            "test_recall :  0.9683876357560568\n"
          ]
        }
      ]
    },
    {
      "cell_type": "markdown",
      "source": [
        "## LGBM"
      ],
      "metadata": {
        "id": "Z1oUY8ndcydN"
      }
    },
    {
      "cell_type": "markdown",
      "source": [
        "### Holdout"
      ],
      "metadata": {
        "id": "h_1S0ZBic1uR"
      }
    },
    {
      "cell_type": "code",
      "source": [
        "lgbm_hol_model = LGBMClassifier(random_state = 16).fit(X_train,y_train)"
      ],
      "metadata": {
        "id": "0SkX52s8cLU6"
      },
      "execution_count": 73,
      "outputs": []
    },
    {
      "cell_type": "code",
      "source": [
        "lgbm_hol_pred = lgbm_hol_model.predict(X_test)"
      ],
      "metadata": {
        "id": "vsnmJ-eldDDG"
      },
      "execution_count": 74,
      "outputs": []
    },
    {
      "cell_type": "code",
      "source": [
        "print(classification_report(y_test,lgbm_hol_pred))"
      ],
      "metadata": {
        "colab": {
          "base_uri": "https://localhost:8080/"
        },
        "id": "Qfc9ICV-dDF6",
        "outputId": "e9e9241a-c3b7-452e-818b-2a3140961308"
      },
      "execution_count": 75,
      "outputs": [
        {
          "output_type": "stream",
          "name": "stdout",
          "text": [
            "              precision    recall  f1-score   support\n",
            "\n",
            "         0.0       0.82      0.49      0.62       148\n",
            "         1.0       0.93      0.98      0.95       949\n",
            "\n",
            "    accuracy                           0.92      1097\n",
            "   macro avg       0.87      0.74      0.78      1097\n",
            "weighted avg       0.91      0.92      0.91      1097\n",
            "\n"
          ]
        }
      ]
    },
    {
      "cell_type": "markdown",
      "source": [
        "### Cross Validation"
      ],
      "metadata": {
        "id": "WUXC58HPdSLf"
      }
    },
    {
      "cell_type": "code",
      "source": [
        "lgbm_cross_val_model = LGBMClassifier(random_state = 16).fit(X_train,y_train)"
      ],
      "metadata": {
        "id": "6Rtu6A_ydDJM"
      },
      "execution_count": 76,
      "outputs": []
    },
    {
      "cell_type": "code",
      "source": [
        "lgbm_cv = cross_validate(lgbm_cross_val_model,\n",
        "                         X_test,y_test,\n",
        "                         cv = 5,\n",
        "                         scoring=[\"accuracy\",\"f1\",\"roc_auc\",\"precision\",\"recall\"])"
      ],
      "metadata": {
        "id": "RlxyhOEndbOX"
      },
      "execution_count": 77,
      "outputs": []
    },
    {
      "cell_type": "code",
      "source": [
        "for i in lgbm_cv:\n",
        "  print(i,\": \",lgbm_cv[i].mean())"
      ],
      "metadata": {
        "colab": {
          "base_uri": "https://localhost:8080/"
        },
        "id": "ehsGkho8dbRD",
        "outputId": "e1d99821-b9e0-409d-bd96-6fa6ed63796f"
      },
      "execution_count": 78,
      "outputs": [
        {
          "output_type": "stream",
          "name": "stdout",
          "text": [
            "fit_time :  0.06877293586730956\n",
            "score_time :  0.013448047637939452\n",
            "test_accuracy :  0.9124823578248236\n",
            "test_f1 :  0.9506069950850495\n",
            "test_roc_auc :  0.8737439703985379\n",
            "test_precision :  0.9286669504399949\n",
            "test_recall :  0.9736563631300473\n"
          ]
        }
      ]
    },
    {
      "cell_type": "markdown",
      "source": [
        "## CatBoost"
      ],
      "metadata": {
        "id": "r3Mksyx9eHbi"
      }
    },
    {
      "cell_type": "markdown",
      "source": [
        "### Holdout"
      ],
      "metadata": {
        "id": "aGQv4dn6eJ0o"
      }
    },
    {
      "cell_type": "code",
      "source": [
        "catboost_hol = CatBoostClassifier(random_state = 16,verbose = False).fit(X_train,y_train)"
      ],
      "metadata": {
        "id": "G49J-jtDdbTi"
      },
      "execution_count": 79,
      "outputs": []
    },
    {
      "cell_type": "code",
      "source": [
        "catboost_hol_pred = catboost_hol.predict(X_test)"
      ],
      "metadata": {
        "id": "ow-BV33ddbWN"
      },
      "execution_count": 80,
      "outputs": []
    },
    {
      "cell_type": "code",
      "source": [
        "print(classification_report(y_test,catboost_hol_pred))"
      ],
      "metadata": {
        "colab": {
          "base_uri": "https://localhost:8080/"
        },
        "id": "nhfFj98mek6J",
        "outputId": "ef29378b-3740-4a65-b5e7-120f25b1393c"
      },
      "execution_count": 81,
      "outputs": [
        {
          "output_type": "stream",
          "name": "stdout",
          "text": [
            "              precision    recall  f1-score   support\n",
            "\n",
            "         0.0       0.78      0.49      0.60       148\n",
            "         1.0       0.92      0.98      0.95       949\n",
            "\n",
            "    accuracy                           0.91      1097\n",
            "   macro avg       0.85      0.73      0.78      1097\n",
            "weighted avg       0.91      0.91      0.90      1097\n",
            "\n"
          ]
        }
      ]
    },
    {
      "cell_type": "markdown",
      "source": [
        "### Cross Validation"
      ],
      "metadata": {
        "id": "4T-m_PUueuuW"
      }
    },
    {
      "cell_type": "code",
      "source": [
        "catboost_cv_model = CatBoostClassifier(random_state = 16,verbose = False).fit(X_train,y_train)"
      ],
      "metadata": {
        "id": "GmNwPlN-ek8q"
      },
      "execution_count": 177,
      "outputs": []
    },
    {
      "cell_type": "code",
      "source": [
        "cv_catboost = cross_validate(catboost_cv_model,\n",
        "                             X_test,y_test,\n",
        "                             cv=5,\n",
        "                             scoring=[\"accuracy\",\"f1\",\"roc_auc\",\"precision\",\"recall\"])"
      ],
      "metadata": {
        "id": "SjibJ38bek_O"
      },
      "execution_count": 178,
      "outputs": []
    },
    {
      "cell_type": "code",
      "source": [
        "for i in cv_catboost:\n",
        "  print(i,\": \",cv_catboost[i].mean())"
      ],
      "metadata": {
        "colab": {
          "base_uri": "https://localhost:8080/"
        },
        "id": "Oi0NQDzjelBt",
        "outputId": "2ba33bab-ba69-4c8e-b06e-044eccb871e3"
      },
      "execution_count": 179,
      "outputs": [
        {
          "output_type": "stream",
          "name": "stdout",
          "text": [
            "fit_time :  1.3025651931762696\n",
            "score_time :  0.012613964080810548\n",
            "test_accuracy :  0.9161311747613118\n",
            "test_f1 :  0.9528980437463351\n",
            "test_roc_auc :  0.882497584958565\n",
            "test_precision :  0.9273214320554093\n",
            "test_recall :  0.9799777220829851\n"
          ]
        }
      ]
    },
    {
      "cell_type": "markdown",
      "source": [
        "# Model Improvement"
      ],
      "metadata": {
        "id": "W1UIkddefz35"
      }
    },
    {
      "cell_type": "markdown",
      "source": [
        "## Logistic Regression"
      ],
      "metadata": {
        "id": "371RD69GgZC8"
      }
    },
    {
      "cell_type": "code",
      "source": [
        "logi_reg_param = {\n",
        "    'max_iter': [20, 50, 100, 200, 500, 1000],                      \n",
        "    'solver': ['newton-cg', 'lbfgs', 'liblinear', 'sag', 'saga'],   \n",
        "    'class_weight': ['balanced']                                    \n",
        "}"
      ],
      "metadata": {
        "id": "7sxYlNoUelEa"
      },
      "execution_count": 85,
      "outputs": []
    },
    {
      "cell_type": "code",
      "source": [
        "logistic_reg_grid_search = GridSearchCV(logistic_regression_cross_val_model,\n",
        "                                       logi_reg_param,\n",
        "                                        cv = 5,\n",
        "                                        n_jobs = -1,\n",
        "                                        verbose = True).fit(X_train,y_train)"
      ],
      "metadata": {
        "id": "GSdbfKQfZBGG",
        "colab": {
          "base_uri": "https://localhost:8080/"
        },
        "outputId": "32589ee0-a82d-4603-e461-fab0a3a53bc2"
      },
      "execution_count": 86,
      "outputs": [
        {
          "output_type": "stream",
          "name": "stdout",
          "text": [
            "Fitting 5 folds for each of 30 candidates, totalling 150 fits\n"
          ]
        },
        {
          "output_type": "stream",
          "name": "stderr",
          "text": [
            "/usr/local/lib/python3.7/dist-packages/sklearn/linear_model/_sag.py:354: ConvergenceWarning: The max_iter was reached which means the coef_ did not converge\n",
            "  ConvergenceWarning,\n"
          ]
        }
      ]
    },
    {
      "cell_type": "code",
      "source": [
        "print(logistic_reg_grid_search.best_params_)"
      ],
      "metadata": {
        "id": "LQ1A1PW8cw64",
        "colab": {
          "base_uri": "https://localhost:8080/"
        },
        "outputId": "c5749ad5-a1bb-44a9-862d-f7998421b66a"
      },
      "execution_count": 87,
      "outputs": [
        {
          "output_type": "stream",
          "name": "stdout",
          "text": [
            "{'class_weight': 'balanced', 'max_iter': 50, 'solver': 'sag'}\n"
          ]
        }
      ]
    },
    {
      "cell_type": "code",
      "source": [
        "logistic_reg_GS_model = logistic_regression_cross_val_model.set_params(**logistic_reg_grid_search.best_params_,\n",
        "                                                                       random_state = 16).fit(X_train,y_train)"
      ],
      "metadata": {
        "colab": {
          "base_uri": "https://localhost:8080/"
        },
        "id": "qX1uXxERp2ab",
        "outputId": "28429916-674f-48be-c589-d8df8adac484"
      },
      "execution_count": 88,
      "outputs": [
        {
          "output_type": "stream",
          "name": "stderr",
          "text": [
            "/usr/local/lib/python3.7/dist-packages/sklearn/linear_model/_sag.py:354: ConvergenceWarning: The max_iter was reached which means the coef_ did not converge\n",
            "  ConvergenceWarning,\n"
          ]
        }
      ]
    },
    {
      "cell_type": "code",
      "source": [
        "logistic_final_pred = logistic_reg_GS_model.predict(X_test)"
      ],
      "metadata": {
        "id": "Vpq-9HV5qPXU"
      },
      "execution_count": 89,
      "outputs": []
    },
    {
      "cell_type": "code",
      "source": [
        "print(classification_report(y_test,logistic_final_pred))"
      ],
      "metadata": {
        "colab": {
          "base_uri": "https://localhost:8080/"
        },
        "id": "8fWniNbvqe1n",
        "outputId": "c50cbe31-1142-4ffa-d001-638e2a62963e"
      },
      "execution_count": 90,
      "outputs": [
        {
          "output_type": "stream",
          "name": "stdout",
          "text": [
            "              precision    recall  f1-score   support\n",
            "\n",
            "         0.0       0.37      0.82      0.51       148\n",
            "         1.0       0.97      0.79      0.87       949\n",
            "\n",
            "    accuracy                           0.79      1097\n",
            "   macro avg       0.67      0.80      0.69      1097\n",
            "weighted avg       0.89      0.79      0.82      1097\n",
            "\n"
          ]
        }
      ]
    },
    {
      "cell_type": "markdown",
      "source": [
        "## KNN"
      ],
      "metadata": {
        "id": "NCkqQ_6Lqq4_"
      }
    },
    {
      "cell_type": "code",
      "source": [
        "knn_parameters = {\"n_neighbors\":range(3,9),\n",
        "                  \"weights\":[\"uniform\", \"distance\"],\n",
        "                  \"algorithm\":[\"auto\",\"ball_tree\",\"kd_tree\",\"brute\"],\n",
        "                  \"leaf_size\" : range(25,36)}"
      ],
      "metadata": {
        "id": "Hn3ntoqCqjb6"
      },
      "execution_count": 91,
      "outputs": []
    },
    {
      "cell_type": "code",
      "source": [
        "knn_grid_search = GridSearchCV(knn_cross_val_model,\n",
        "                               knn_parameters,\n",
        "                               cv = 5,\n",
        "                               n_jobs = -1,\n",
        "                               verbose = True).fit(X_train,y_train)"
      ],
      "metadata": {
        "colab": {
          "base_uri": "https://localhost:8080/"
        },
        "id": "W6aHmNpDrtOO",
        "outputId": "7dc92ac2-7b0a-4a3e-f630-ef7197f3f5bd"
      },
      "execution_count": 92,
      "outputs": [
        {
          "output_type": "stream",
          "name": "stdout",
          "text": [
            "Fitting 5 folds for each of 528 candidates, totalling 2640 fits\n"
          ]
        }
      ]
    },
    {
      "cell_type": "code",
      "source": [
        "print(knn_grid_search.best_params_)"
      ],
      "metadata": {
        "colab": {
          "base_uri": "https://localhost:8080/"
        },
        "id": "ydmjNcARsAMV",
        "outputId": "68fb9a9d-7a5f-4aa9-a730-89335da80e87"
      },
      "execution_count": 93,
      "outputs": [
        {
          "output_type": "stream",
          "name": "stdout",
          "text": [
            "{'algorithm': 'auto', 'leaf_size': 25, 'n_neighbors': 7, 'weights': 'uniform'}\n"
          ]
        }
      ]
    },
    {
      "cell_type": "code",
      "source": [
        "knn_final_model = knn_cross_val_model.set_params(**knn_grid_search.best_params_).fit(X_train,y_train)"
      ],
      "metadata": {
        "id": "e46osn-BsgBk"
      },
      "execution_count": 96,
      "outputs": []
    },
    {
      "cell_type": "code",
      "source": [
        "knn_final_pred = knn_final_model.predict(X_test)"
      ],
      "metadata": {
        "id": "XxNDm4RutqD-"
      },
      "execution_count": 97,
      "outputs": []
    },
    {
      "cell_type": "code",
      "source": [
        "print(classification_report(y_test,knn_final_pred))"
      ],
      "metadata": {
        "colab": {
          "base_uri": "https://localhost:8080/"
        },
        "id": "Ap118QdDt38f",
        "outputId": "2ee6e978-6556-4f20-9bca-12829bb57a25"
      },
      "execution_count": 98,
      "outputs": [
        {
          "output_type": "stream",
          "name": "stdout",
          "text": [
            "              precision    recall  f1-score   support\n",
            "\n",
            "         0.0       0.73      0.13      0.22       148\n",
            "         1.0       0.88      0.99      0.93       949\n",
            "\n",
            "    accuracy                           0.88      1097\n",
            "   macro avg       0.81      0.56      0.58      1097\n",
            "weighted avg       0.86      0.88      0.84      1097\n",
            "\n"
          ]
        }
      ]
    },
    {
      "cell_type": "markdown",
      "source": [
        "## Decision Tree Classifier"
      ],
      "metadata": {
        "id": "uhb7WgD7t_kR"
      }
    },
    {
      "cell_type": "code",
      "source": [
        "decision_tree_param = {\"criterion\":[\"gini\", \"entropy\"],\n",
        "                       \"splitter\":[\"best\", \"random\"],\n",
        "                       \"min_samples_split\":range(2,10),\n",
        "                       \"max_features\":[\"auto\",\"sqrt\",\"log2\"]}"
      ],
      "metadata": {
        "id": "PZIlc2__t7wt"
      },
      "execution_count": 101,
      "outputs": []
    },
    {
      "cell_type": "code",
      "source": [
        "decision_tree_gridcv = GridSearchCV(cross_val_decision_tree_model,\n",
        "                                    decision_tree_param,\n",
        "                                    cv=5,\n",
        "                                    n_jobs = -1,\n",
        "                                    verbose = True).fit(X_train,y_train)"
      ],
      "metadata": {
        "colab": {
          "base_uri": "https://localhost:8080/"
        },
        "id": "Eh0_vLEzvD4s",
        "outputId": "fa263bab-3e71-403e-8d95-6bf616bfefdc"
      },
      "execution_count": 102,
      "outputs": [
        {
          "output_type": "stream",
          "name": "stdout",
          "text": [
            "Fitting 5 folds for each of 96 candidates, totalling 480 fits\n"
          ]
        }
      ]
    },
    {
      "cell_type": "code",
      "source": [
        "print(decision_tree_gridcv.best_params_)"
      ],
      "metadata": {
        "colab": {
          "base_uri": "https://localhost:8080/"
        },
        "id": "1k1WHqg1vXgw",
        "outputId": "3a31db3b-e58d-47b3-f0be-0034673dc7b5"
      },
      "execution_count": 104,
      "outputs": [
        {
          "output_type": "stream",
          "name": "stdout",
          "text": [
            "{'criterion': 'gini', 'max_features': 'auto', 'min_samples_split': 8, 'splitter': 'best'}\n"
          ]
        }
      ]
    },
    {
      "cell_type": "code",
      "source": [
        "decision_tree_final_model = cross_val_decision_tree_model.set_params(**decision_tree_gridcv.best_params_,\n",
        "                                                                      random_state = 16).fit(X_train,y_train)"
      ],
      "metadata": {
        "id": "CBF4nU6EvgZr"
      },
      "execution_count": 106,
      "outputs": []
    },
    {
      "cell_type": "code",
      "source": [
        "decision_tree_final_pred = decision_tree_final_model.predict(X_test)"
      ],
      "metadata": {
        "id": "mcZ1ixWSvzXc"
      },
      "execution_count": 107,
      "outputs": []
    },
    {
      "cell_type": "code",
      "source": [
        "print(classification_report(y_test,decision_tree_final_pred))"
      ],
      "metadata": {
        "colab": {
          "base_uri": "https://localhost:8080/"
        },
        "id": "_ulM43liv9AH",
        "outputId": "5d5ff365-f59f-4dc8-ded2-64904d9542c8"
      },
      "execution_count": 108,
      "outputs": [
        {
          "output_type": "stream",
          "name": "stdout",
          "text": [
            "              precision    recall  f1-score   support\n",
            "\n",
            "         0.0       0.47      0.42      0.44       148\n",
            "         1.0       0.91      0.93      0.92       949\n",
            "\n",
            "    accuracy                           0.86      1097\n",
            "   macro avg       0.69      0.67      0.68      1097\n",
            "weighted avg       0.85      0.86      0.86      1097\n",
            "\n"
          ]
        }
      ]
    },
    {
      "cell_type": "markdown",
      "source": [
        "## Random Forest"
      ],
      "metadata": {
        "id": "ulvFqIELwKlh"
      }
    },
    {
      "cell_type": "code",
      "source": [
        "random_forest_params = {\"n_estimators\":range(75,126),\n",
        "                        \"criterion\":[\"gini\", \"entropy\"],\n",
        "                        \"max_features\":[\"sqrt\",\"log2\"],\n",
        "                        \"class_weight\":[\"balanced\", \"balanced_subsample\"]}"
      ],
      "metadata": {
        "id": "ckrUFA25wCON"
      },
      "execution_count": 110,
      "outputs": []
    },
    {
      "cell_type": "code",
      "source": [
        "random_forest_gridcv = GridSearchCV(random_forest_cross_val_model,\n",
        "                                    random_forest_params,\n",
        "                                    cv=5,\n",
        "                                    n_jobs=-1,\n",
        "                                    verbose = True).fit(X_train,y_train)"
      ],
      "metadata": {
        "colab": {
          "base_uri": "https://localhost:8080/"
        },
        "id": "g_pZTPucyA1o",
        "outputId": "3cfd5baa-2cb6-4228-8790-1f40bb90669f"
      },
      "execution_count": 112,
      "outputs": [
        {
          "output_type": "stream",
          "name": "stdout",
          "text": [
            "Fitting 5 folds for each of 408 candidates, totalling 2040 fits\n"
          ]
        }
      ]
    },
    {
      "cell_type": "code",
      "source": [
        "print(random_forest_gridcv.best_params_)"
      ],
      "metadata": {
        "colab": {
          "base_uri": "https://localhost:8080/"
        },
        "id": "3BgG18xT0E6G",
        "outputId": "0147c6af-32ae-466e-a14a-24b784fdfc61"
      },
      "execution_count": 114,
      "outputs": [
        {
          "output_type": "stream",
          "name": "stdout",
          "text": [
            "{'class_weight': 'balanced', 'criterion': 'entropy', 'max_features': 'sqrt', 'n_estimators': 82}\n"
          ]
        }
      ]
    },
    {
      "cell_type": "code",
      "source": [
        "random_forest_final_model = random_forest_cross_val_model.set_params(**random_forest_gridcv.best_params_,\n",
        "                                                                     random_state = 16).fit(X_train,y_train)"
      ],
      "metadata": {
        "id": "pY4nJUrw0LAu"
      },
      "execution_count": 116,
      "outputs": []
    },
    {
      "cell_type": "code",
      "source": [
        "random_forest_final_pred = random_forest_final_model.predict(X_test)"
      ],
      "metadata": {
        "id": "rOFbthaa22Gt"
      },
      "execution_count": 117,
      "outputs": []
    },
    {
      "cell_type": "code",
      "source": [
        "print(classification_report(y_test,random_forest_final_pred))"
      ],
      "metadata": {
        "colab": {
          "base_uri": "https://localhost:8080/"
        },
        "id": "0M2WNll72-xd",
        "outputId": "7f426b63-1977-4404-ab43-52e097e7aa12"
      },
      "execution_count": 120,
      "outputs": [
        {
          "output_type": "stream",
          "name": "stdout",
          "text": [
            "              precision    recall  f1-score   support\n",
            "\n",
            "         0.0       0.84      0.42      0.56       148\n",
            "         1.0       0.92      0.99      0.95       949\n",
            "\n",
            "    accuracy                           0.91      1097\n",
            "   macro avg       0.88      0.70      0.75      1097\n",
            "weighted avg       0.91      0.91      0.90      1097\n",
            "\n"
          ]
        }
      ]
    },
    {
      "cell_type": "markdown",
      "source": [
        "## Gradient Boosting"
      ],
      "metadata": {
        "id": "iOE5GiIE3HlD"
      }
    },
    {
      "cell_type": "code",
      "source": [
        "gbm_params = {\"loss\":[\"deviance\",\"exponential\"],\n",
        "                  \"learning_rate\":[0.01,0.05,0.1,0.15],\n",
        "                  \"criterion\":[\"friedman_mse\",\"squared_error\"],\n",
        "                  \"min_samples_split\":range(2,10),\n",
        "                  \"random_state\": [16]\n",
        "                  }"
      ],
      "metadata": {
        "id": "6qTjUYTB3DH8"
      },
      "execution_count": 146,
      "outputs": []
    },
    {
      "cell_type": "code",
      "source": [
        "grad_boost_gridcv = GridSearchCV(grad_boost_cross_val_model,\n",
        "                                 gbm_params,\n",
        "                                 cv = 5,\n",
        "                                 n_jobs = -1,\n",
        "                                 verbose = True).fit(X_train,y_train)"
      ],
      "metadata": {
        "colab": {
          "base_uri": "https://localhost:8080/"
        },
        "id": "AWMhV27o8rp9",
        "outputId": "1aa45e29-fa04-46e1-8d45-7aa5ce2738fa"
      },
      "execution_count": 147,
      "outputs": [
        {
          "output_type": "stream",
          "name": "stdout",
          "text": [
            "Fitting 5 folds for each of 128 candidates, totalling 640 fits\n"
          ]
        }
      ]
    },
    {
      "cell_type": "code",
      "source": [
        "print(grad_boost_gridcv.best_params_)"
      ],
      "metadata": {
        "colab": {
          "base_uri": "https://localhost:8080/"
        },
        "id": "m9Mfn46e89F6",
        "outputId": "5c88de62-ad5c-4f4b-f381-dc805917aedf"
      },
      "execution_count": 148,
      "outputs": [
        {
          "output_type": "stream",
          "name": "stdout",
          "text": [
            "{'criterion': 'friedman_mse', 'learning_rate': 0.05, 'loss': 'deviance', 'min_samples_split': 4, 'random_state': 16}\n"
          ]
        }
      ]
    },
    {
      "cell_type": "code",
      "source": [
        "grad_boost_final_model = grad_boost_cross_val_model.set_params(**grad_boost_gridcv.best_params_).fit(X_train,y_train)"
      ],
      "metadata": {
        "id": "RV58c3IY-D54"
      },
      "execution_count": 149,
      "outputs": []
    },
    {
      "cell_type": "code",
      "source": [
        "grad_boost_final_pred = grad_boost_final_model.predict(X_test)"
      ],
      "metadata": {
        "id": "J_kFlpVu_f35"
      },
      "execution_count": 150,
      "outputs": []
    },
    {
      "cell_type": "code",
      "source": [
        "print(classification_report(y_test,grad_boost_final_pred))"
      ],
      "metadata": {
        "colab": {
          "base_uri": "https://localhost:8080/"
        },
        "id": "mQxp-Jdo_jsn",
        "outputId": "f6ff09a1-cdbc-4a70-a0e4-1f9486573d8f"
      },
      "execution_count": 151,
      "outputs": [
        {
          "output_type": "stream",
          "name": "stdout",
          "text": [
            "              precision    recall  f1-score   support\n",
            "\n",
            "         0.0       0.83      0.49      0.61       148\n",
            "         1.0       0.92      0.98      0.95       949\n",
            "\n",
            "    accuracy                           0.92      1097\n",
            "   macro avg       0.88      0.74      0.78      1097\n",
            "weighted avg       0.91      0.92      0.91      1097\n",
            "\n"
          ]
        }
      ]
    },
    {
      "cell_type": "markdown",
      "source": [
        "## LGBM"
      ],
      "metadata": {
        "id": "nFmxvRvB_qSQ"
      }
    },
    {
      "cell_type": "code",
      "source": [
        "lgbm_params = {\"learning_rate\": [0.01, 0.1],\n",
        "                   \"n_estimators\": [100, 300, 500, 1000],\n",
        "                   \"colsample_bytree\": [0.5, 0.7, 1]}"
      ],
      "metadata": {
        "id": "BOkYr_Gf_ndo"
      },
      "execution_count": 152,
      "outputs": []
    },
    {
      "cell_type": "code",
      "source": [
        "lgbm_gridcv = GridSearchCV(lgbm_cross_val_model,\n",
        "                           lgbm_params,\n",
        "                           cv=5,\n",
        "                           n_jobs = -1,\n",
        "                           verbose = True).fit(X_train,y_train)"
      ],
      "metadata": {
        "colab": {
          "base_uri": "https://localhost:8080/"
        },
        "id": "bDIGCh2o_1b3",
        "outputId": "41924d7c-f782-4fe4-8d10-32fd52966dcf"
      },
      "execution_count": 153,
      "outputs": [
        {
          "output_type": "stream",
          "name": "stdout",
          "text": [
            "Fitting 5 folds for each of 24 candidates, totalling 120 fits\n"
          ]
        }
      ]
    },
    {
      "cell_type": "code",
      "source": [
        "print(lgbm_gridcv.best_params_)"
      ],
      "metadata": {
        "colab": {
          "base_uri": "https://localhost:8080/"
        },
        "id": "t0_-U-LiABoy",
        "outputId": "55e55561-fa8d-429b-cfb0-4ab77e7c365d"
      },
      "execution_count": 154,
      "outputs": [
        {
          "output_type": "stream",
          "name": "stdout",
          "text": [
            "{'colsample_bytree': 0.7, 'learning_rate': 0.01, 'n_estimators': 500}\n"
          ]
        }
      ]
    },
    {
      "cell_type": "code",
      "source": [
        "lgbm_final_model = lgbm_cross_val_model.set_params(**lgbm_gridcv.best_params_,\n",
        "                                                   random_state = 16).fit(X_train,y_train)"
      ],
      "metadata": {
        "id": "zMFEZGuLAEmU"
      },
      "execution_count": 156,
      "outputs": []
    },
    {
      "cell_type": "code",
      "source": [
        "lgbm_final_predict = lgbm_final_model.predict(X_test)"
      ],
      "metadata": {
        "id": "C7OzbBWYAReg"
      },
      "execution_count": 157,
      "outputs": []
    },
    {
      "cell_type": "code",
      "source": [
        "print(classification_report(y_test,lgbm_final_predict))"
      ],
      "metadata": {
        "colab": {
          "base_uri": "https://localhost:8080/"
        },
        "id": "LbyL7arDAYLM",
        "outputId": "a246e676-bb66-4eb2-c722-0d927c609ba0"
      },
      "execution_count": 158,
      "outputs": [
        {
          "output_type": "stream",
          "name": "stdout",
          "text": [
            "              precision    recall  f1-score   support\n",
            "\n",
            "         0.0       0.84      0.51      0.63       148\n",
            "         1.0       0.93      0.99      0.96       949\n",
            "\n",
            "    accuracy                           0.92      1097\n",
            "   macro avg       0.89      0.75      0.79      1097\n",
            "weighted avg       0.92      0.92      0.91      1097\n",
            "\n"
          ]
        }
      ]
    },
    {
      "cell_type": "markdown",
      "source": [
        "## CatBoost"
      ],
      "metadata": {
        "id": "zb_c5Hz1AgQL"
      }
    },
    {
      "cell_type": "code",
      "source": [
        "catboost_params = {\"iterations\": [200, 500],\n",
        "                       \"learning_rate\": [0.01, 0.1],\n",
        "                       \"depth\": [3, 6]}"
      ],
      "metadata": {
        "id": "_9Mvyl3UAcCw"
      },
      "execution_count": 180,
      "outputs": []
    },
    {
      "cell_type": "code",
      "source": [
        "catboost_gridcv = GridSearchCV(catboost_cv_model,\n",
        "                               catboost_params,\n",
        "                               cv=5,\n",
        "                               n_jobs = -1,\n",
        "                               verbose = True).fit(X_train,y_train)"
      ],
      "metadata": {
        "colab": {
          "base_uri": "https://localhost:8080/"
        },
        "id": "77seTDlgBfgL",
        "outputId": "4a257f31-aeb7-4ad6-ecd6-cd0f25e4a71e"
      },
      "execution_count": 181,
      "outputs": [
        {
          "output_type": "stream",
          "name": "stdout",
          "text": [
            "Fitting 5 folds for each of 8 candidates, totalling 40 fits\n"
          ]
        }
      ]
    },
    {
      "cell_type": "code",
      "source": [
        "print(catboost_gridcv.best_params_)"
      ],
      "metadata": {
        "colab": {
          "base_uri": "https://localhost:8080/"
        },
        "id": "Nb4XhbyxBq20",
        "outputId": "963e9c99-6258-4ec8-bbfe-1eb0249f754b"
      },
      "execution_count": 182,
      "outputs": [
        {
          "output_type": "stream",
          "name": "stdout",
          "text": [
            "{'depth': 6, 'iterations': 500, 'learning_rate': 0.01}\n"
          ]
        }
      ]
    },
    {
      "cell_type": "code",
      "source": [
        "catboost_final_model = CatBoostClassifier(**catboost_gridcv.best_params_,random_state = 16,verbose = False).fit(X_train,y_train)"
      ],
      "metadata": {
        "id": "0jWaNY_zCPrp"
      },
      "execution_count": 186,
      "outputs": []
    },
    {
      "cell_type": "code",
      "source": [
        "catboost_final_predict = catboost_final_model.predict(X_test)"
      ],
      "metadata": {
        "id": "zbrKIGLrCpsN"
      },
      "execution_count": 187,
      "outputs": []
    },
    {
      "cell_type": "code",
      "source": [
        "print(classification_report(y_test,catboost_final_predict))"
      ],
      "metadata": {
        "colab": {
          "base_uri": "https://localhost:8080/"
        },
        "id": "dBT6YIlACtxK",
        "outputId": "a151c9f8-ba3d-4520-b93e-b6dd95c526ae"
      },
      "execution_count": 188,
      "outputs": [
        {
          "output_type": "stream",
          "name": "stdout",
          "text": [
            "              precision    recall  f1-score   support\n",
            "\n",
            "         0.0       0.84      0.48      0.61       148\n",
            "         1.0       0.92      0.99      0.95       949\n",
            "\n",
            "    accuracy                           0.92      1097\n",
            "   macro avg       0.88      0.73      0.78      1097\n",
            "weighted avg       0.91      0.92      0.91      1097\n",
            "\n"
          ]
        }
      ]
    }
  ]
}